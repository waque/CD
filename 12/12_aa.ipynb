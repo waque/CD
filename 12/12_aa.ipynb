{
 "cells": [
  {
   "cell_type": "code",
   "execution_count": 6,
   "metadata": {},
   "outputs": [],
   "source": [
    "import numpy as np\n",
    "import matplotlib.pyplot as plt\n",
    "import pandas as pd\n",
    "from tslearn import metrics\n",
    "from tslearn.preprocessing import TimeSeriesScalerMeanVariance\n",
    "from tslearn.generators import random_walks\n",
    "from tslearn.preprocessing import TimeSeriesScalerMeanVariance\n",
    "from tslearn import metrics\n",
    "from sklearn.metrics.pairwise import euclidean_distances, cosine_distances"
   ]
  },
  {
   "cell_type": "code",
   "execution_count": 2,
   "metadata": {},
   "outputs": [],
   "source": [
    "ts = []\n",
    "y=[]\n",
    "def word_gen(file):\n",
    "    for i, line in enumerate(file):\n",
    "        y1=[]\n",
    "        for word in line.split():\n",
    "            y1.append(float(word))\n",
    "        y.append(y1)\n",
    "    return \n",
    "\n",
    "with open('synthetic_control.data') as f:\n",
    "    ts = word_gen(f)"
   ]
  },
  {
   "cell_type": "code",
   "execution_count": 4,
   "metadata": {},
   "outputs": [
    {
     "data": {
      "text/plain": [
       "array([[ 0.        , 42.18099812, 38.78396515, ..., 41.75875225,\n",
       "        40.08982329, 37.24160481],\n",
       "       [42.18099812,  0.        , 35.09291547, ..., 30.35782027,\n",
       "        41.70410719, 34.16720661],\n",
       "       [38.78396515, 35.09291547,  0.        , ..., 35.21277545,\n",
       "        42.46397088, 36.66875422],\n",
       "       ...,\n",
       "       [41.75875225, 30.35782027, 35.21277545, ...,  0.        ,\n",
       "        35.84101199, 33.75579453],\n",
       "       [40.08982329, 41.70410719, 42.46397088, ..., 35.84101199,\n",
       "         0.        , 39.76955169],\n",
       "       [37.24160481, 34.16720661, 36.66875422, ..., 33.75579453,\n",
       "        39.76955169,  0.        ]])"
      ]
     },
     "execution_count": 4,
     "metadata": {},
     "output_type": "execute_result"
    }
   ],
   "source": [
    "euclidean_distances(y)"
   ]
  },
  {
   "cell_type": "code",
   "execution_count": 8,
   "metadata": {},
   "outputs": [
    {
     "data": {
      "text/plain": [
       "array([[0.        , 0.01625736, 0.01360716, ..., 0.01592539, 0.01465729,\n",
       "        0.01256611],\n",
       "       [0.01625736, 0.        , 0.01158821, ..., 0.00858972, 0.0163379 ,\n",
       "        0.01061522],\n",
       "       [0.01360716, 0.01158821, 0.        , ..., 0.01158104, 0.0171405 ,\n",
       "        0.01210509],\n",
       "       ...,\n",
       "       [0.01592539, 0.00858972, 0.01158104, ..., 0.        , 0.01200478,\n",
       "        0.01037139],\n",
       "       [0.01465729, 0.0163379 , 0.0171405 , ..., 0.01200478, 0.        ,\n",
       "        0.0144102 ],\n",
       "       [0.01256611, 0.01061522, 0.01210509, ..., 0.01037139, 0.0144102 ,\n",
       "        0.        ]])"
      ]
     },
     "execution_count": 8,
     "metadata": {},
     "output_type": "execute_result"
    }
   ],
   "source": [
    "cosine_distances(y)"
   ]
  },
  {
   "cell_type": "code",
   "execution_count": null,
   "metadata": {},
   "outputs": [],
   "source": []
  }
 ],
 "metadata": {
  "kernelspec": {
   "display_name": "Python 3",
   "language": "python",
   "name": "python3"
  },
  "language_info": {
   "codemirror_mode": {
    "name": "ipython",
    "version": 3
   },
   "file_extension": ".py",
   "mimetype": "text/x-python",
   "name": "python",
   "nbconvert_exporter": "python",
   "pygments_lexer": "ipython3",
   "version": "3.7.0"
  }
 },
 "nbformat": 4,
 "nbformat_minor": 2
}
