{
 "cells": [
  {
   "cell_type": "code",
   "execution_count": 1,
   "metadata": {},
   "outputs": [
    {
     "name": "stderr",
     "output_type": "stream",
     "text": [
      "Loading required package: Matrix\n",
      "\n",
      "Attaching package: ‘arules’\n",
      "\n",
      "The following objects are masked from ‘package:base’:\n",
      "\n",
      "    abbreviate, write\n",
      "\n",
      "\n",
      "Attaching package: ‘dplyr’\n",
      "\n",
      "The following objects are masked from ‘package:arules’:\n",
      "\n",
      "    intersect, recode, setdiff, setequal, union\n",
      "\n",
      "The following objects are masked from ‘package:stats’:\n",
      "\n",
      "    filter, lag\n",
      "\n",
      "The following objects are masked from ‘package:base’:\n",
      "\n",
      "    intersect, setdiff, setequal, union\n",
      "\n",
      "Loading required package: rJava\n"
     ]
    }
   ],
   "source": [
    "library(arules)\n",
    "library(dplyr)\n",
    "library(rCBA)"
   ]
  },
  {
   "cell_type": "code",
   "execution_count": 2,
   "metadata": {},
   "outputs": [],
   "source": [
    "green <- read.csv('green_consensus.csv')\n",
    "hin <- read.csv('hinselmann_consensus.csv')\n",
    "sch <- read.csv('schiller_consensus.csv')\n",
    "\n",
    "green <- green[, -which(names(green) %in% c(\"experts..0\",\"experts..1\", \"experts..2\", \"experts..3\", \"experts..4\", \"consensus\"))]\n",
    "hin <-hin[, -which(names(green) %in% c(\"experts..0\",\"experts..1\", \"experts..2\", \"experts..3\", \"experts..4\", \"consensus\"))]\n",
    "sch <- sch[, -which(names(green) %in% c(\"experts..0\",\"experts..1\", \"experts..2\", \"experts..3\", \"experts..4\", \"consensus\"))]"
   ]
  },
  {
   "cell_type": "code",
   "execution_count": 3,
   "metadata": {},
   "outputs": [],
   "source": [
    "for (x in 1:(ncol(green))) {\n",
    "    green[,x] <- discretize(green[,x],\n",
    "                                breaks=3,\n",
    "                                method=\"interval\")\n",
    "}\n",
    "\n"
   ]
  },
  {
   "cell_type": "code",
   "execution_count": 4,
   "metadata": {},
   "outputs": [],
   "source": [
    "green <- as(green, \"transactions\")"
   ]
  },
  {
   "cell_type": "code",
   "execution_count": 5,
   "metadata": {},
   "outputs": [
    {
     "name": "stderr",
     "output_type": "stream",
     "text": [
      "2018-11-10 15:58:49 rCBA: initialized\n",
      "2018-11-10 15:58:49 rCBA: data 98x186\n",
      "\t took: 0.09  s\n"
     ]
    },
    {
     "ename": "ERROR",
     "evalue": "Error in .jcall(jPruning, \"[[Ljava/lang/String;\", \"fpgrowth\", support, : method fpgrowth with signature (DDI)[[Ljava/lang/String; not found\n",
     "output_type": "error",
     "traceback": [
      "Error in .jcall(jPruning, \"[[Ljava/lang/String;\", \"fpgrowth\", support, : method fpgrowth with signature (DDI)[[Ljava/lang/String; not found\nTraceback:\n",
      "1. fpgrowth(green, support = 0.05, confidence = 0.9, maxLength = 5, \n .     consequent = NULL, verbose = TRUE, parallel = TRUE)",
      "2. .jcall(jPruning, \"[[Ljava/lang/String;\", \"fpgrowth\", support, \n .     confidence, as.integer(maxLength), consequent, evalArray = FALSE)"
     ]
    }
   ],
   "source": [
    "rules <- fpgrowth(green, support = 0.05, confidence = 0.9, maxLength = 5,\n",
    "  consequent = NULL, verbose = TRUE, parallel = TRUE)\n",
    "inspect(rules)"
   ]
  }
 ],
 "metadata": {
  "kernelspec": {
   "display_name": "R",
   "language": "R",
   "name": "ir"
  },
  "language_info": {
   "codemirror_mode": "r",
   "file_extension": ".r",
   "mimetype": "text/x-r-source",
   "name": "R",
   "pygments_lexer": "r",
   "version": "3.4.4"
  }
 },
 "nbformat": 4,
 "nbformat_minor": 2
}
