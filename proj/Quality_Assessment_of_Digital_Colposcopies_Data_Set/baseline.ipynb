{
 "cells": [
  {
   "cell_type": "code",
   "execution_count": 1,
   "metadata": {},
   "outputs": [],
   "source": [
    "import pandas as pd\n",
    "import numpy as np\n",
    "import matplotlib.pyplot as plt\n",
    "import sys\n",
    "sys.path.append('..')\n",
    "from utils_cd import (\n",
    "        split_dataset,\n",
    "        standard_deviation,\n",
    "        plot_comparison_results,\n",
    "        impute_values,\n",
    "        plot_results,\n",
    "        plot_param_improv,\n",
    "        train_test_split,\n",
    "        classifier_statistics\n",
    ")\n",
    "from sklearn.neighbors import KNeighborsClassifier\n",
    "from sklearn.ensemble import RandomForestClassifier\n",
    "from sklearn.naive_bayes import GaussianNB, MultinomialNB, BernoulliNB\n",
    "from sklearn.decomposition import PCA\n",
    "from sklearn.feature_selection import SelectKBest\n",
    "from sklearn.feature_selection import chi2\n",
    "from sklearn.preprocessing import Normalizer, StandardScaler\n",
    "from imblearn.over_sampling import SMOTE"
   ]
  },
  {
   "cell_type": "code",
   "execution_count": 2,
   "metadata": {},
   "outputs": [],
   "source": [
    "green_data = pd.read_csv('./green.csv')\n",
    "hinselmann_data = pd.read_csv('./hinselmann.csv')\n",
    "schiller_data = pd.read_csv('./schiller.csv')\n",
    "\n",
    "data = [[green_data,'green_data'], [hinselmann_data,'hinselmann_data'], [schiller_data,'schiller_data']]"
   ]
  },
  {
   "cell_type": "code",
   "execution_count": 3,
   "metadata": {},
   "outputs": [],
   "source": [
    "def balance_dataset(dataset, classe):\n",
    "    y = dataset[classe]\n",
    "    X = dataset.drop(columns=[classe])\n",
    "\n",
    "    X_train, X_test, y_train, y_test = train_test_split(X, y, test_size=0.3, random_state=0)\n",
    "\n",
    "    sm = SMOTE(random_state=2)\n",
    "\n",
    "    X_train_res, y_train_res = sm.fit_sample(X_train, y_train.ravel())\n",
    "    \n",
    "    \n",
    "\n",
    "    return X_train, X_test, y_train, y_test, X_train_res, y_train_res"
   ]
  },
  {
   "cell_type": "code",
   "execution_count": 4,
   "metadata": {},
   "outputs": [],
   "source": [
    "X_train_green, X_test_green, y_train_green, y_test_green, X_train_res_green, y_train_res_green = balance_dataset(data[0][0], 'consensus')\n",
    "X_train_hinselmann, X_test_hinselmann, y_train_hinselmann, y_test_hinselmann, X_train_res_hinselmann, y_train_res_hinselmann = balance_dataset(data[1][0], 'consensus')\n",
    "X_train_schiller, X_test_schiller, y_train_schiller, y_test_schiller, X_train_res_schiller, y_train_res_schiller = balance_dataset(data[2][0], 'consensus')\n",
    "naive_cls = GaussianNB()"
   ]
  },
  {
   "cell_type": "code",
   "execution_count": 5,
   "metadata": {},
   "outputs": [],
   "source": [
    "res_green = classifier_statistics(naive_cls, X_train_green, X_test_green, y_train_green, y_test_green)\n",
    "res_hinselmann = classifier_statistics(naive_cls, X_train_hinselmann, X_test_hinselmann, y_train_hinselmann, y_test_hinselmann)\n",
    "res_schiller = classifier_statistics(naive_cls, X_train_schiller, X_test_schiller, y_train_schiller, y_test_schiller)"
   ]
  },
  {
   "cell_type": "code",
   "execution_count": 6,
   "metadata": {},
   "outputs": [
    {
     "name": "stdout",
     "output_type": "stream",
     "text": [
      "unbalenced_accuracy: 0.8055555555555557\n",
      "unbalenced_sensibility: 0.8959435626102291\n",
      "unbalenced_specificity: 0.4497354497354497\n"
     ]
    }
   ],
   "source": [
    "unbalenced_accuracy = (res_green['accuracy']+res_hinselmann['accuracy']+res_schiller['accuracy'])/3\n",
    "unbalenced_sensibility = (res_green['sensibility']+res_hinselmann['sensibility']+res_schiller['sensibility'])/3\n",
    "unbalenced_specificity = (res_green['specificity']+res_hinselmann['specificity']+res_schiller['specificity'])/3\n",
    "\n",
    "print('unbalenced_accuracy: {}'.format(unbalenced_accuracy))\n",
    "print('unbalenced_sensibility: {}'.format(unbalenced_sensibility))\n",
    "print('unbalenced_specificity: {}'.format(unbalenced_specificity))"
   ]
  },
  {
   "cell_type": "code",
   "execution_count": 7,
   "metadata": {},
   "outputs": [],
   "source": [
    "res_green_bal = classifier_statistics(naive_cls, X_train_res_green, X_test_green, y_train_res_green, y_test_green)\n",
    "res_hinselmann_bal = classifier_statistics(naive_cls, X_train_res_hinselmann, X_test_hinselmann, y_train_res_hinselmann, y_test_hinselmann)\n",
    "res_schiller_bal = classifier_statistics(naive_cls, X_train_res_schiller, X_test_schiller, y_train_res_schiller, y_test_schiller)"
   ]
  },
  {
   "cell_type": "code",
   "execution_count": 8,
   "metadata": {},
   "outputs": [
    {
     "name": "stdout",
     "output_type": "stream",
     "text": [
      "balenced_accuracy: 0.8166666666666668\n",
      "balenced_sensibility: 0.8959435626102291\n",
      "balenced_specificity: 0.48677248677248675\n"
     ]
    }
   ],
   "source": [
    "balenced_accuracy = (res_green_bal['accuracy']+res_hinselmann['accuracy']+res_schiller['accuracy'])/3\n",
    "balenced_sensibility = (res_green_bal['sensibility']+res_hinselmann['sensibility']+res_schiller['sensibility'])/3\n",
    "balenced_specificity = (res_green_bal['specificity']+res_hinselmann['specificity']+res_schiller['specificity'])/3\n",
    "\n",
    "print('balenced_accuracy: {}'.format(balenced_accuracy))\n",
    "print('balenced_sensibility: {}'.format(balenced_sensibility))\n",
    "print('balenced_specificity: {}'.format(balenced_specificity))"
   ]
  },
  {
   "cell_type": "code",
   "execution_count": 9,
   "metadata": {},
   "outputs": [],
   "source": [
    "green_data['hinselmann']=0\n",
    "green_data['schiller']=0\n",
    "hinselmann_data['hinselmann']=1\n",
    "hinselmann_data['schiller']=0\n",
    "schiller_data['hinselmann']=0\n",
    "schiller_data['schiller']=1"
   ]
  },
  {
   "cell_type": "code",
   "execution_count": 11,
   "metadata": {},
   "outputs": [],
   "source": [
    "super_table = green_data.append(hinselmann_data)\n",
    "super_table = super_table.append(schiller_data)"
   ]
  },
  {
   "cell_type": "code",
   "execution_count": 12,
   "metadata": {},
   "outputs": [
    {
     "data": {
      "text/plain": [
       "{'predicted': array([1., 0., 1., 1., 1., 0., 0., 1., 1., 1., 1., 1., 0., 0., 1., 1., 1.,\n",
       "        1., 0., 1., 1., 1., 1., 0., 1., 1., 1., 0., 1., 0., 1., 1., 1., 1.,\n",
       "        1., 0., 0., 1., 1., 1., 0., 1., 1., 1., 1., 1., 1., 1., 1., 0., 0.,\n",
       "        1., 0., 1., 1., 1., 1., 0., 1., 1., 1., 1., 1., 1., 0., 1., 1., 1.,\n",
       "        1., 1., 1., 1., 1., 1., 1., 0., 1., 0., 0., 1., 1., 1., 1., 1., 1.,\n",
       "        1., 0.]),\n",
       " 'accuracy': 0.8735632183908046,\n",
       " 'confusion_matrix': array([[18,  8],\n",
       "        [ 3, 58]]),\n",
       " 'sensibility': 0.9508196721311475,\n",
       " 'specificity': 0.6923076923076923}"
      ]
     },
     "execution_count": 12,
     "metadata": {},
     "output_type": "execute_result"
    }
   ],
   "source": [
    "X_train_super, X_test_super, y_train_super, y_test_super, X_train_res_super, y_train_res_super = balance_dataset(super_table, 'consensus')\n",
    "res_super_unbal = classifier_statistics(naive_cls, X_train_super, X_test_super, y_train_super, y_test_super)\n",
    "res_super_unbal\n"
   ]
  },
  {
   "cell_type": "code",
   "execution_count": 13,
   "metadata": {},
   "outputs": [
    {
     "data": {
      "text/plain": [
       "{'predicted': array([1., 0., 1., 1., 1., 0., 0., 1., 0., 1., 1., 1., 1., 0., 1., 1., 1.,\n",
       "        1., 1., 1., 1., 1., 1., 0., 1., 1., 1., 0., 1., 0., 1., 1., 1., 1.,\n",
       "        1., 0., 0., 1., 0., 1., 1., 1., 1., 1., 1., 1., 1., 1., 1., 0., 0.,\n",
       "        1., 0., 1., 1., 1., 1., 0., 1., 1., 1., 1., 1., 1., 0., 1., 1., 1.,\n",
       "        1., 1., 1., 1., 1., 1., 1., 0., 1., 0., 0., 1., 1., 1., 1., 1., 1.,\n",
       "        1., 0.]),\n",
       " 'accuracy': 0.8160919540229885,\n",
       " 'confusion_matrix': array([[15, 11],\n",
       "        [ 5, 56]]),\n",
       " 'sensibility': 0.9180327868852459,\n",
       " 'specificity': 0.5769230769230769}"
      ]
     },
     "execution_count": 13,
     "metadata": {},
     "output_type": "execute_result"
    }
   ],
   "source": [
    "res_super_bal = classifier_statistics(naive_cls, X_train_res_super, X_test_super, y_train_res_super, y_test_super)\n",
    "res_super_bal"
   ]
  },
  {
   "cell_type": "code",
   "execution_count": 16,
   "metadata": {},
   "outputs": [],
   "source": [
    "#sns.set()\n",
    "#sns.set_style(\"whitegrid\")\n",
    "#sns.despine()\n",
    "\n",
    "#ax = sns.countplot(x=\"consensus\", data=super_table)\n",
    "#plt.savefig('super_table_class.pdf')\n",
    "#plt.clf()"
   ]
  },
  {
   "cell_type": "code",
   "execution_count": 20,
   "metadata": {},
   "outputs": [
    {
     "data": {
      "text/plain": [
       "array([2.78843305e-01, 9.21887670e-03, 4.39031287e-02, 1.82529393e-01,\n",
       "       0.00000000e+00, 0.00000000e+00, 0.00000000e+00, 0.00000000e+00,\n",
       "       0.00000000e+00, 1.76137022e-02, 0.00000000e+00, 4.01256632e-03,\n",
       "       2.28058563e-01, 4.67868891e-02, 1.80808675e-01, 1.28709868e+02,\n",
       "       3.70323133e+01, 9.16775549e+01, 1.65742181e+02, 1.10334502e+02,\n",
       "       3.37901696e+01, 7.65443323e+01, 1.44124671e+02, 1.33973995e+02,\n",
       "       3.40922668e+01, 9.98817286e+01, 1.68066262e+02, 1.20141080e+02,\n",
       "       4.54902515e+01, 7.46508287e+01, 1.65631332e+02, 1.14063763e+02,\n",
       "       4.49073966e+01, 6.91563663e+01, 1.58971160e+02, 1.26105160e+02,\n",
       "       4.42520977e+01, 8.18530627e+01, 1.70357258e+02, 4.11659004e+00,\n",
       "       2.79693406e+00, 5.04715362e+01, 1.59045238e+01, 1.36289556e+02,\n",
       "       3.53225270e+01, 4.03329497e+00, 2.52718287e+00, 3.06437089e+01,\n",
       "       1.97073788e+01, 1.27400802e+02, 4.48176908e+01, 8.84278570e-01,\n",
       "       3.15334234e-01, 7.11271866e-01, 3.92034774e-01, 5.05173646e-01,\n",
       "       5.51975163e-01, 9.32206477e-01, 2.99121828e-01, 8.74839537e+01,\n",
       "       5.94049639e-01, 6.59824252e-01, 1.00000000e+00, 0.00000000e+00,\n",
       "       0.00000000e+00, 0.00000000e+00, 1.00000000e+00, 1.00000000e+00,\n",
       "       1.00000000e+00, 0.00000000e+00])"
      ]
     },
     "execution_count": 20,
     "metadata": {},
     "output_type": "execute_result"
    }
   ],
   "source": []
  },
  {
   "cell_type": "code",
   "execution_count": null,
   "metadata": {},
   "outputs": [],
   "source": []
  },
  {
   "cell_type": "code",
   "execution_count": null,
   "metadata": {},
   "outputs": [],
   "source": []
  }
 ],
 "metadata": {
  "kernelspec": {
   "display_name": "Python 3",
   "language": "python",
   "name": "python3"
  },
  "language_info": {
   "codemirror_mode": {
    "name": "ipython",
    "version": 3
   },
   "file_extension": ".py",
   "mimetype": "text/x-python",
   "name": "python",
   "nbconvert_exporter": "python",
   "pygments_lexer": "ipython3",
   "version": "3.7.0"
  }
 },
 "nbformat": 4,
 "nbformat_minor": 2
}
