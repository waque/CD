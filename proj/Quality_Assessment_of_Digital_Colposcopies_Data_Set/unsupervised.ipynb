{
 "cells": [
  {
   "cell_type": "code",
   "execution_count": 17,
   "metadata": {},
   "outputs": [],
   "source": [
    "import pandas as pd\n",
    "import numpy as np\n",
    "import matplotlib.pyplot as plt\n",
    "from mlxtend.frequent_patterns import apriori, association_rules\n",
    "from sklearn import cluster"
   ]
  },
  {
   "cell_type": "code",
   "execution_count": 53,
   "metadata": {},
   "outputs": [],
   "source": [
    "green_data = pd.read_csv('green.csv')\n",
    "hinselmann_data = pd.read_csv('hinselmann.csv')\n",
    "schiller_data = pd.read_csv('schiller.csv')\n",
    "\n",
    "#columns_to_drop = ['experts::{}'.format(i) for i in range(6)]\n",
    "#columns_to_drop += ['consensus']\n",
    "#green_data = green_data.drop(columns=columns_to_drop)\n",
    "#hinselmann_data = hinselmann_data.drop(columns=columns_to_drop)\n",
    "#schiller_data = schiller_data.drop(columns=columns_to_drop)\n",
    "coloscopies = pd.concat([green_data, hinselmann_data, schiller_data])\n",
    "\n",
    "experts = ['experts::{}'.format(i) for i in range(6)]\n",
    "exp_qualities = coloscopies[experts]\n",
    "experts.append('consensus')\n",
    "qualities = coloscopies[experts]\n",
    "qualities.head()\n",
    "\n",
    "qualities[exp_qualities.sum(axis=1) == 3].index\n",
    "\n",
    "qualities = qualities.drop(index=qualities[exp_qualities.sum(axis=1) == 3].index)"
   ]
  },
  {
   "cell_type": "code",
   "execution_count": 60,
   "metadata": {},
   "outputs": [
    {
     "name": "stdout",
     "output_type": "stream",
     "text": [
      "experts::0    0.852941\n",
      "consensus     0.852941\n",
      "dtype: float64\n",
      "experts::1    0.887255\n",
      "consensus     0.887255\n",
      "dtype: float64\n",
      "experts::2    0.867647\n",
      "consensus     0.867647\n",
      "dtype: float64\n",
      "experts::3    0.857843\n",
      "consensus     0.857843\n",
      "dtype: float64\n",
      "experts::4    0.852941\n",
      "consensus     0.852941\n",
      "dtype: float64\n",
      "experts::5    0.75\n",
      "consensus     0.75\n",
      "dtype: float64\n"
     ]
    }
   ],
   "source": [
    "for i in range(6):\n",
    "    expert = qualities[[\"experts::{}\".format(i), \"consensus\"]]\n",
    "    \n",
    "    print(expert.loc[expert['experts::{}'.format(i)] == expert['consensus']].count() / expert.shape[0])"
   ]
  },
  {
   "cell_type": "code",
   "execution_count": 43,
   "metadata": {},
   "outputs": [
    {
     "name": "stdout",
     "output_type": "stream",
     "text": [
      "Support: 0.1\n",
      "{'n_rules': 212, 'sup': 0.1, 'mean_lift': 1.5764377281415822}\n",
      "\n",
      "Support: 0.15000000000000002\n",
      "{'n_rules': 212, 'sup': 0.15000000000000002, 'mean_lift': 1.5764377281415822}\n",
      "\n",
      "Support: 0.20000000000000004\n",
      "{'n_rules': 212, 'sup': 0.20000000000000004, 'mean_lift': 1.5764377281415822}\n",
      "\n",
      "Support: 0.25000000000000006\n",
      "{'n_rules': 212, 'sup': 0.25000000000000006, 'mean_lift': 1.5764377281415822}\n",
      "\n",
      "Support: 0.30000000000000004\n",
      "{'n_rules': 188, 'sup': 0.30000000000000004, 'mean_lift': 1.52794945598393}\n",
      "\n",
      "Support: 0.3500000000000001\n",
      "{'n_rules': 124, 'sup': 0.3500000000000001, 'mean_lift': 1.389449486923175}\n",
      "\n",
      "Support: 0.40000000000000013\n",
      "{'n_rules': 89, 'sup': 0.40000000000000013, 'mean_lift': 1.3488723461727392}\n",
      "\n",
      "Support: 0.45000000000000007\n",
      "{'n_rules': 54, 'sup': 0.45000000000000007, 'mean_lift': 1.3333796334778416}\n",
      "\n",
      "Support: 0.5000000000000001\n",
      "{'n_rules': 29, 'sup': 0.5000000000000001, 'mean_lift': 1.3101814409739425}\n",
      "\n",
      "Support: 0.5500000000000002\n",
      "{'n_rules': 18, 'sup': 0.5500000000000002, 'mean_lift': 1.2668387163527945}\n",
      "\n",
      "Support: 0.6000000000000002\n",
      "{'n_rules': 6, 'sup': 0.6000000000000002, 'mean_lift': 1.1871653538028781}\n",
      "\n",
      "Support: 0.6500000000000001\n",
      "{'n_rules': 3, 'sup': 0.6500000000000001, 'mean_lift': 1.1470694423733487}\n",
      "\n",
      "Support: 0.7000000000000002\n",
      "{'n_rules': 1, 'sup': 0.7000000000000002, 'mean_lift': 1.1452425228575855}\n",
      "\n",
      "Support: 0.7500000000000002\n",
      "{'n_rules': 0, 'sup': 0.7500000000000002, 'mean_lift': nan}\n",
      "\n"
     ]
    }
   ],
   "source": [
    "supports = np.arange(0.1, 0.8, 0.05)\n",
    "for sup in supports:\n",
    "    measures = {}\n",
    "    frequent_itemsets = apriori(qualities, min_support=sup, use_colnames=True)\n",
    "    rules = association_rules(frequent_itemsets, metric=\"confidence\", min_threshold=0.9)\n",
    "    \n",
    "    measures['n_rules'] = rules.shape[0]\n",
    "    measures['sup'] = sup\n",
    "    measures['mean_lift'] = rules['lift'].sort_values(ascending=False)[:10].mean()\n",
    "    #measures['rules'] = rules\n",
    "    print(\"Support: {}\".format(sup))\n",
    "    print(measures)\n",
    "    print()\n"
   ]
  },
  {
   "cell_type": "code",
   "execution_count": 33,
   "metadata": {},
   "outputs": [
    {
     "name": "stdout",
     "output_type": "stream",
     "text": [
      "    antecedents   consequents\n",
      "0  (experts::0)  (experts::4)\n",
      "1  (experts::0)   (consensus)\n",
      "2  (experts::1)  (experts::4)\n",
      "3  (experts::1)   (consensus)\n",
      "4  (experts::2)  (experts::4)\n",
      "    antecedents   consequents\n",
      "0  (experts::0)  (experts::4)\n",
      "1  (experts::0)   (consensus)\n",
      "2  (experts::1)  (experts::4)\n",
      "3  (experts::1)   (consensus)\n",
      "4  (experts::2)  (experts::4)\n",
      "    antecedents   consequents\n",
      "0  (experts::0)  (experts::4)\n",
      "1  (experts::0)   (consensus)\n",
      "2  (experts::1)  (experts::4)\n",
      "3  (experts::1)   (consensus)\n",
      "4  (experts::2)  (experts::4)\n",
      "    antecedents   consequents\n",
      "0  (experts::0)  (experts::4)\n",
      "1  (experts::0)   (consensus)\n",
      "2  (experts::1)  (experts::4)\n",
      "3  (experts::1)   (consensus)\n",
      "4  (experts::2)  (experts::4)\n"
     ]
    }
   ],
   "source": [
    "#for measure in measures:\n",
    "    #print(measures['rules'][['antecedents', 'consequents']].head())"
   ]
  },
  {
   "cell_type": "code",
   "execution_count": null,
   "metadata": {},
   "outputs": [],
   "source": []
  }
 ],
 "metadata": {
  "kernelspec": {
   "display_name": "Python 3",
   "language": "python",
   "name": "python3"
  },
  "language_info": {
   "codemirror_mode": {
    "name": "ipython",
    "version": 3
   },
   "file_extension": ".py",
   "mimetype": "text/x-python",
   "name": "python",
   "nbconvert_exporter": "python",
   "pygments_lexer": "ipython3",
   "version": "3.7.0"
  }
 },
 "nbformat": 4,
 "nbformat_minor": 2
}
