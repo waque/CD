{
 "cells": [
  {
   "cell_type": "code",
   "execution_count": 1,
   "metadata": {},
   "outputs": [],
   "source": [
    "import pandas as pd\n",
    "import numpy as np\n",
    "import matplotlib.pyplot as plt\n",
    "import sys\n",
    "from sklearn.linear_model import LogisticRegression\n",
    "from sklearn.feature_selection import mutual_info_classif, f_classif, SelectKBest\n",
    "from sklearn.neighbors import KNeighborsClassifier\n",
    "from sklearn.tree import DecisionTreeClassifier\n",
    "from sklearn.ensemble import RandomForestClassifier, VotingClassifier\n",
    "from sklearn.naive_bayes import GaussianNB, MultinomialNB, BernoulliNB\n",
    "from sklearn.feature_selection import SelectKBest\n",
    "from sklearn.model_selection import train_test_split, cross_val_score, KFold\n",
    "from sklearn.feature_selection import chi2\n",
    "from sklearn.preprocessing import Normalizer, StandardScaler\n",
    "from imblearn.over_sampling import SMOTE\n",
    "from sklearn.model_selection import cross_val_score, cross_validate\n",
    "from sklearn.metrics import accuracy_score, confusion_matrix\n",
    "from sklearn.metrics import roc_curve, auc"
   ]
  },
  {
   "cell_type": "code",
   "execution_count": 2,
   "metadata": {},
   "outputs": [],
   "source": [
    "CLASS = 'consensus'"
   ]
  },
  {
   "cell_type": "code",
   "execution_count": 3,
   "metadata": {},
   "outputs": [],
   "source": [
    "clf1 = BernoulliNB()\n",
    "clf2 = DecisionTreeClassifier()\n",
    "clf3 = KNeighborsClassifier()\n",
    "clf4 = RandomForestClassifier(n_estimators=10)\n",
    "\n",
    "base_clfs = [BernoulliNB(), DecisionTreeClassifier(), KNeighborsClassifier(), RandomForestClassifier(n_estimators=10)]\n"
   ]
  },
  {
   "cell_type": "code",
   "execution_count": 4,
   "metadata": {},
   "outputs": [],
   "source": [
    "green_data = pd.read_csv('../green.csv')\n",
    "hinselmann_data = pd.read_csv('../hinselmann.csv')\n",
    "schiller_data = pd.read_csv('../schiller.csv')\n",
    "\n",
    "data = [[green_data,'green_data'], [hinselmann_data,'hinselmann_data'], [schiller_data,'schiller_data']]\n"
   ]
  },
  {
   "cell_type": "code",
   "execution_count": 5,
   "metadata": {},
   "outputs": [],
   "source": [
    "def classifier_statistics(clf, X_train, X_test, y_train, y_test):\n",
    "    res = {}\n",
    "    \n",
    "    clf.fit(X_train, y_train)\n",
    "    \n",
    "    predicted = clf.predict(X_test)\n",
    "    conf_matrix = confusion_matrix(y_test, predicted, labels=[0.0, 1.0])\n",
    "    acc_score = accuracy_score(y_test, predicted)\n",
    "    \n",
    "    res['predicted'] = predicted\n",
    "    res['accuracy'] = acc_score\n",
    "    res['confusion_matrix'] = conf_matrix\n",
    "    fpr, tpr, _ = roc_curve(y_test, predicted)\n",
    "    roc_auc = auc(fpr, tpr)\n",
    "    res['auc'] = roc_auc\n",
    "    \n",
    "    res['clf'] = clf\n",
    "    \n",
    "    return res\n"
   ]
  },
  {
   "cell_type": "code",
   "execution_count": 9,
   "metadata": {},
   "outputs": [],
   "source": [
    "def split_dataset(dataset, y_name, missing_values=None):\n",
    "    if missing_values:\n",
    "        for value in missing_values:\n",
    "            dataset = dataset[~dataset.eq(value).any(1)]\n",
    "    \n",
    "    X = dataset.iloc[:, dataset.columns != y_name]\n",
    "    y = dataset[y_name]\n",
    "    \n",
    "    return X, y"
   ]
  },
  {
   "cell_type": "code",
   "execution_count": 10,
   "metadata": {},
   "outputs": [],
   "source": [
    "res = []\n",
    "for d in data:\n",
    "    results_base = {}\n",
    "    X, y = split_dataset(d[0], CLASS)\n",
    "    X_train, X_test, y_train, y_test = train_test_split(X, y, test_size=0.3, random_state=0)\n",
    "    for clf in base_clfs:\n",
    "        clf_name = type(clf).__name__\n",
    "        stats = classifier_statistics(clf, X_train, X_test, y_train, y_test)\n",
    "        results_base[clf_name] = stats\n",
    "    res.append(results_base)\n",
    "    measures_base = {}\n",
    "    i = 0\n",
    "    for clf in results_base:\n",
    "        clf_res = results_base[clf]\n",
    "        measures_base[i] = {'Classifier': clf, 'Measure': 'auc', 'Value': clf_res['auc']}\n",
    "        i += 1"
   ]
  },
  {
   "cell_type": "code",
   "execution_count": 15,
   "metadata": {},
   "outputs": [],
   "source": [
    "aux = 0\n",
    "for d in res:\n",
    "    aux += d['BernoulliNB']['auc']"
   ]
  },
  {
   "cell_type": "code",
   "execution_count": 17,
   "metadata": {},
   "outputs": [
    {
     "data": {
      "text/plain": [
       "0.7654320987654323"
      ]
     },
     "execution_count": 17,
     "metadata": {},
     "output_type": "execute_result"
    }
   ],
   "source": [
    "aux/3"
   ]
  },
  {
   "cell_type": "code",
   "execution_count": null,
   "metadata": {},
   "outputs": [],
   "source": []
  }
 ],
 "metadata": {
  "kernelspec": {
   "display_name": "Python 3",
   "language": "python",
   "name": "python3"
  },
  "language_info": {
   "codemirror_mode": {
    "name": "ipython",
    "version": 3
   },
   "file_extension": ".py",
   "mimetype": "text/x-python",
   "name": "python",
   "nbconvert_exporter": "python",
   "pygments_lexer": "ipython3",
   "version": "3.7.0"
  }
 },
 "nbformat": 4,
 "nbformat_minor": 2
}
