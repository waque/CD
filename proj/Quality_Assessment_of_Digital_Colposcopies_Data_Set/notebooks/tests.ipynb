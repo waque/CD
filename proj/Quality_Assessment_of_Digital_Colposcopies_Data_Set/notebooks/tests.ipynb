{
 "cells": [
  {
   "cell_type": "code",
   "execution_count": 34,
   "metadata": {},
   "outputs": [],
   "source": [
    "import pandas as pd\n",
    "import numpy as np\n",
    "import matplotlib.pyplot as plt\n",
    "import sys\n",
    "from sklearn.linear_model import LogisticRegression\n",
    "from sklearn.feature_selection import mutual_info_classif, f_classif, SelectKBest\n",
    "from sklearn.neighbors import KNeighborsClassifier\n",
    "from sklearn.tree import DecisionTreeClassifier\n",
    "from sklearn.ensemble import RandomForestClassifier, VotingClassifier\n",
    "from sklearn.naive_bayes import GaussianNB, MultinomialNB, BernoulliNB\n",
    "from sklearn.feature_selection import SelectKBest\n",
    "from sklearn.feature_selection import chi2\n",
    "from sklearn.preprocessing import Normalizer, StandardScaler\n",
    "from imblearn.over_sampling import SMOTE\n",
    "from sklearn.model_selection import cross_val_score, cross_validate"
   ]
  },
  {
   "cell_type": "code",
   "execution_count": 35,
   "metadata": {},
   "outputs": [],
   "source": [
    "CLASS = 'consensus'"
   ]
  },
  {
   "cell_type": "code",
   "execution_count": 36,
   "metadata": {},
   "outputs": [],
   "source": [
    "def balance_dataset(dataset, classe):\n",
    "    y = dataset[classe]\n",
    "    X = dataset.drop(columns=[classe])\n",
    "\n",
    "    X_train, X_test, y_train, y_test = train_test_split(X, y, test_size=0.3, random_state=0)\n",
    "\n",
    "    sm = SMOTE(random_state=2)\n",
    "\n",
    "    X_train_res, y_train_res = sm.fit_sample(X_train, y_train.ravel())\n",
    "    \n",
    "    \n",
    "\n",
    "    return X_train, X_test, y_train, y_test, X_train_res, y_train_res"
   ]
  },
  {
   "cell_type": "code",
   "execution_count": 37,
   "metadata": {},
   "outputs": [],
   "source": [
    "def getKBest(X, y, score_func=f_classif, k=10):\n",
    "    k_best = SelectKBest(score_func=score_func, k=10).fit(X, y)\n",
    "\n",
    "    idxs = k_best.get_support(indices=True)\n",
    "    X = X.iloc[:,idxs]\n",
    "    return X"
   ]
  },
  {
   "cell_type": "code",
   "execution_count": 38,
   "metadata": {},
   "outputs": [],
   "source": [
    "def split_dataset(dataset, y_name, missing_values=None):\n",
    "    if missing_values:\n",
    "        for value in missing_values:\n",
    "            dataset = dataset[~dataset.eq(value).any(1)]\n",
    "    \n",
    "    X = dataset.iloc[:, dataset.columns != y_name]\n",
    "    y = dataset[y_name]\n",
    "    \n",
    "    return X, y"
   ]
  },
  {
   "cell_type": "code",
   "execution_count": 39,
   "metadata": {},
   "outputs": [],
   "source": [
    "clf1 = BernoulliNB()\n",
    "clf2 = DecisionTreeClassifier()\n",
    "clf3 = KNeighborsClassifier()\n",
    "clf4 = RandomForestClassifier(n_estimators=10)\n",
    "\n",
    "base_clfs = [BernoulliNB(), DecisionTreeClassifier(), KNeighborsClassifier(), RandomForestClassifier(n_estimators=10)]\n"
   ]
  },
  {
   "cell_type": "code",
   "execution_count": 55,
   "metadata": {},
   "outputs": [],
   "source": [
    "green_data = pd.read_csv('../green.csv')\n",
    "hinselmann_data = pd.read_csv('../hinselmann.csv')\n",
    "schiller_data = pd.read_csv('../schiller.csv')\n",
    "\n",
    "data = [[green_data,'green_data'], [hinselmann_data,'hinselmann_data'], [schiller_data,'schiller_data']]\n",
    "\n",
    "green_data['hinselmann']=0\n",
    "green_data['schiller']=0\n",
    "hinselmann_data['hinselmann']=1\n",
    "hinselmann_data['schiller']=0\n",
    "schiller_data['hinselmann']=0\n",
    "schiller_data['schiller']=1\n",
    "\n",
    "super_table = green_data.append(hinselmann_data)\n",
    "super_table = super_table.append(schiller_data)\n",
    "\n",
    "X, y = split_dataset(super_table, CLASS)"
   ]
  },
  {
   "cell_type": "code",
   "execution_count": 65,
   "metadata": {},
   "outputs": [],
   "source": [
    "results = {}\n",
    "scoring = ['accuracy', 'roc_auc']\n",
    "for clf in base_clfs:\n",
    "    clf_name = type(clf).__name__\n",
    "    stats = cross_validate(clf, X, y, scoring=scoring, cv=10, return_train_score=False)\n",
    "    results[clf_name] = {}\n",
    "    results[clf_name]['accuracy'] = np.mean(stats['test_accuracy'])\n",
    "    results[clf_name]['roc'] = np.mean(stats['test_roc_auc'])\n"
   ]
  },
  {
   "cell_type": "code",
   "execution_count": 66,
   "metadata": {},
   "outputs": [
    {
     "data": {
      "text/plain": [
       "{'BernoulliNB': {'accuracy': 0.898390804597701, 'roc': 0.9770214904143476},\n",
       " 'DecisionTreeClassifier': {'accuracy': 0.8679474548440066,\n",
       "  'roc': 0.8311958874458876},\n",
       " 'KNeighborsClassifier': {'accuracy': 0.7519293924466338,\n",
       "  'roc': 0.614612322201608},\n",
       " 'RandomForestClassifier': {'accuracy': 0.8919622331691297,\n",
       "  'roc': 0.9490994124922695}}"
      ]
     },
     "execution_count": 66,
     "metadata": {},
     "output_type": "execute_result"
    }
   ],
   "source": [
    "results"
   ]
  },
  {
   "cell_type": "code",
   "execution_count": null,
   "metadata": {},
   "outputs": [],
   "source": []
  }
 ],
 "metadata": {
  "kernelspec": {
   "display_name": "Python 3",
   "language": "python",
   "name": "python3"
  },
  "language_info": {
   "codemirror_mode": {
    "name": "ipython",
    "version": 3
   },
   "file_extension": ".py",
   "mimetype": "text/x-python",
   "name": "python",
   "nbconvert_exporter": "python",
   "pygments_lexer": "ipython3",
   "version": "3.7.0"
  }
 },
 "nbformat": 4,
 "nbformat_minor": 2
}
