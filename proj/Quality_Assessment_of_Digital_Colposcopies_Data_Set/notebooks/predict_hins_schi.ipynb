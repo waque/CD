{
 "cells": [
  {
   "cell_type": "code",
   "execution_count": 1,
   "metadata": {},
   "outputs": [],
   "source": [
    "import pandas as pd\n",
    "import numpy as np\n",
    "import matplotlib.pyplot as plt\n",
    "from mpl_toolkits.mplot3d import Axes3D\n",
    "from sklearn import cluster, datasets, mixture\n",
    "from sklearn.neighbors import kneighbors_graph\n",
    "from sklearn.preprocessing import StandardScaler, Normalizer\n",
    "from sklearn.cluster import KMeans, AgglomerativeClustering, SpectralClustering\n",
    "from sklearn.metrics import accuracy_score, adjusted_rand_score, silhouette_score, davies_bouldin_score, adjusted_mutual_info_score\n",
    "from sklearn.decomposition import PCA\n",
    "import pylab as pl\n",
    "from sklearn.feature_selection import SelectKBest"
   ]
  },
  {
   "cell_type": "code",
   "execution_count": 2,
   "metadata": {},
   "outputs": [],
   "source": [
    "green_data = pd.read_csv('../green_consensus.csv')\n",
    "hinselmann_data = pd.read_csv('../hinselmann_consensus.csv')\n",
    "schiller_data = pd.read_csv('../schiller_consensus.csv')\n",
    "\n",
    "hinselmann_data['hinselmann'] = 1\n",
    "hinselmann_data['schiller'] = 0\n",
    "schiller_data['hinselmann'] = 0\n",
    "schiller_data['schiller'] = 1\n",
    "\n",
    "data = pd.concat([hinselmann_data, schiller_data])\n",
    "data_frac = data.sample(frac=0.1, random_state=42)\n",
    "data = data.drop(index=data_frac.index)\n",
    "data_frac = data_frac.reset_index(drop=True)\n",
    "data = data.reset_index(drop=True)"
   ]
  },
  {
   "cell_type": "code",
   "execution_count": 3,
   "metadata": {},
   "outputs": [
    {
     "data": {
      "text/plain": [
       "Index(['cervix_area', 'os_area', 'walls_area', 'speculum_area',\n",
       "       'artifacts_area', 'cervix_artifacts_area', 'os_artifacts_area',\n",
       "       'walls_artifacts_area', 'speculum_artifacts_area',\n",
       "       'cervix_specularities_area', 'os_specularities_area',\n",
       "       'walls_specularities_area', 'speculum_specularities_area',\n",
       "       'specularities_area', 'area_h_max_diff', 'rgb_cervix_r_mean',\n",
       "       'rgb_cervix_r_std', 'rgb_cervix_r_mean_minus_std',\n",
       "       'rgb_cervix_r_mean_plus_std', 'rgb_cervix_g_mean', 'rgb_cervix_g_std',\n",
       "       'rgb_cervix_g_mean_minus_std', 'rgb_cervix_g_mean_plus_std',\n",
       "       'rgb_cervix_b_mean', 'rgb_cervix_b_std', 'rgb_cervix_b_mean_minus_std',\n",
       "       'rgb_cervix_b_mean_plus_std', 'rgb_total_r_mean', 'rgb_total_r_std',\n",
       "       'rgb_total_r_mean_minus_std', 'rgb_total_r_mean_plus_std',\n",
       "       'rgb_total_g_mean', 'rgb_total_g_std', 'rgb_total_g_mean_minus_std',\n",
       "       'rgb_total_g_mean_plus_std', 'rgb_total_b_mean', 'rgb_total_b_std',\n",
       "       'rgb_total_b_mean_minus_std', 'rgb_total_b_mean_plus_std',\n",
       "       'hsv_cervix_h_mean', 'hsv_cervix_h_std', 'hsv_cervix_s_mean',\n",
       "       'hsv_cervix_s_std', 'hsv_cervix_v_mean', 'hsv_cervix_v_std',\n",
       "       'hsv_total_h_mean', 'hsv_total_h_std', 'hsv_total_s_mean',\n",
       "       'hsv_total_s_std', 'hsv_total_v_mean', 'hsv_total_v_std',\n",
       "       'fit_cervix_hull_rate', 'fit_cervix_hull_total', 'fit_cervix_bbox_rate',\n",
       "       'fit_cervix_bbox_total', 'fit_circle_rate', 'fit_circle_total',\n",
       "       'fit_ellipse_rate', 'fit_ellipse_total', 'fit_ellipse_goodness',\n",
       "       'dist_to_center_cervix', 'dist_to_center_os', 'experts::0',\n",
       "       'experts::1', 'experts::2', 'experts::3', 'experts::4', 'consensus',\n",
       "       'hinselmann', 'schiller'],\n",
       "      dtype='object')"
      ]
     },
     "execution_count": 3,
     "metadata": {},
     "output_type": "execute_result"
    }
   ],
   "source": [
    "data.columns"
   ]
  },
  {
   "cell_type": "code",
   "execution_count": 4,
   "metadata": {},
   "outputs": [
    {
     "name": "stdout",
     "output_type": "stream",
     "text": [
      "['hsv_cervix_v_mean', 'hsv_cervix_v_std']\n"
     ]
    }
   ],
   "source": [
    "classes = ['experts::{}'.format(i) for i in range(5)]\n",
    "classes.extend(['consensus', 'hinselmann', 'schiller'])\n",
    "X = data.drop(columns=classes)\n",
    "X_test = data_frac.drop(columns=classes)\n",
    "Q1 = X.quantile(0.05)\n",
    "Q3 = X.quantile(0.95)\n",
    "IQR = Q3 - Q1\n",
    "color_cols = [col for col in X.columns if ('cervix' in col and '_v_' in col) and (('hsv' in col))]\n",
    "print(color_cols)\n",
    "X = X[color_cols]\n",
    "X_test = X_test[color_cols]\n",
    "\n",
    "#X = X[~((X < (Q1 - 1.5 * IQR)) |(X > (Q3 + 1.5 * IQR))).any(axis=1)]\n",
    "\n",
    "\n",
    "y = data.iloc[X.index]['consensus']\n",
    "y_dataset = data.iloc[X.index][['schiller', 'hinselmann']].idxmax(axis=1)\n",
    "y_test = data_frac[['schiller', 'hinselmann']].idxmax(axis=1)\n",
    "y_dataset = y_dataset.map({'hinselmann': 0, 'schiller': 1})\n",
    "y_test = y_test.map({'hinselmann': 0, 'schiller': 1})\n",
    "y_dataset = y_dataset.reset_index(drop=True)\n",
    "pca = PCA(0.95).fit(X)\n",
    "X = pca.transform(X)\n",
    "X_test = pca.transform(X_test)"
   ]
  },
  {
   "cell_type": "code",
   "execution_count": 5,
   "metadata": {},
   "outputs": [
    {
     "data": {
      "text/plain": [
       "155"
      ]
     },
     "execution_count": 5,
     "metadata": {},
     "output_type": "execute_result"
    }
   ],
   "source": [
    "y_dataset.shape[0]"
   ]
  },
  {
   "cell_type": "code",
   "execution_count": 6,
   "metadata": {},
   "outputs": [],
   "source": [
    "scaler = StandardScaler()\n",
    "scaler.fit(X)\n",
    "X = scaler.transform(X)\n",
    "X_test = scaler.transform(X_test)"
   ]
  },
  {
   "cell_type": "code",
   "execution_count": 7,
   "metadata": {},
   "outputs": [],
   "source": [
    "def kMeans(X, n_clusters=2):\n",
    "    kmeans = KMeans(n_clusters=n_clusters, random_state=42)\n",
    "    kmeans.fit(X)\n",
    "    \n",
    "    predicted = kmeans.predict(X)\n",
    "    centers = kmeans.cluster_centers_\n",
    "    labels = kmeans.labels_\n",
    "    return labels, kmeans\n",
    "\n",
    "def hierarchical(X, n_clusters=2):\n",
    "    ac = SpectralClustering(n_clusters=n_clusters)\n",
    "    ac.fit(X)\n",
    "\n",
    "    labels = ac.labels_\n",
    "    return labels\n"
   ]
  },
  {
   "cell_type": "code",
   "execution_count": 8,
   "metadata": {},
   "outputs": [],
   "source": [
    "kpred, kmeans = kMeans(X, 2)"
   ]
  },
  {
   "cell_type": "code",
   "execution_count": 9,
   "metadata": {},
   "outputs": [
    {
     "name": "stdout",
     "output_type": "stream",
     "text": [
      "0.5330409610297273\n",
      "0.586876054857651\n"
     ]
    },
    {
     "name": "stderr",
     "output_type": "stream",
     "text": [
      "/home/francisconeves/anaconda3/lib/python3.6/site-packages/sklearn/metrics/cluster/supervised.py:732: FutureWarning: The behavior of AMI will change in version 0.22. To match the behavior of 'v_measure_score', AMI will use average_method='arithmetic' by default.\n",
      "  FutureWarning)\n"
     ]
    }
   ],
   "source": [
    "print(adjusted_mutual_info_score(y_dataset, kpred))\n",
    "print(adjusted_rand_score(y_dataset, kpred))\n"
   ]
  },
  {
   "cell_type": "code",
   "execution_count": null,
   "metadata": {},
   "outputs": [],
   "source": []
  },
  {
   "cell_type": "code",
   "execution_count": 10,
   "metadata": {},
   "outputs": [
    {
     "data": {
      "text/plain": [
       "array([0, 0, 0, 0, 0, 0, 0, 0, 0, 0, 0, 0, 0, 0, 0, 0, 0, 0, 0, 0, 0, 0,\n",
       "       0, 0, 0, 0, 0, 0, 1, 0, 0, 0, 0, 0, 0, 0, 0, 0, 0, 0, 0, 0, 0, 0,\n",
       "       0, 0, 0, 0, 0, 0, 0, 0, 0, 0, 0, 0, 0, 0, 0, 0, 0, 0, 0, 0, 0, 0,\n",
       "       0, 0, 0, 0, 0, 0, 0, 0, 0, 0, 0, 0, 0, 0, 1, 1, 1, 1, 1, 0, 1, 0,\n",
       "       0, 1, 1, 0, 0, 1, 1, 1, 1, 0, 1, 0, 1, 1, 1, 1, 1, 1, 1, 1, 0, 1,\n",
       "       1, 1, 1, 1, 1, 1, 1, 1, 1, 1, 0, 1, 0, 1, 0, 1, 0, 1, 1, 0, 1, 1,\n",
       "       0, 1, 0, 1, 1, 1, 1, 1, 1, 1, 0, 0, 1, 1, 1, 1, 1, 1, 1, 1, 1, 1,\n",
       "       1], dtype=int32)"
      ]
     },
     "execution_count": 10,
     "metadata": {},
     "output_type": "execute_result"
    }
   ],
   "source": [
    "kpred"
   ]
  },
  {
   "cell_type": "code",
   "execution_count": 11,
   "metadata": {},
   "outputs": [
    {
     "data": {
      "image/png": "[encoded data removed]",
      "text/plain": [
       "<Figure size 432x288 with 1 Axes>"
      ]
     },
     "metadata": {},
     "output_type": "display_data"
    },
    {
     "data": {
      "image/png": "[encoded data removed]",
      "text/plain": [
       "<Figure size 432x288 with 1 Axes>"
      ]
     },
     "metadata": {},
     "output_type": "display_data"
    }
   ],
   "source": [
    "for i in range(0, X.shape[0]):\n",
    "    if kpred[i] == 0:\n",
    "        c1 = pl.scatter(X[i,0], X[i,1], c='r', marker=\"+\")\n",
    "    elif kpred[i] == 1:\n",
    "        c2 = pl.scatter(X[i,0], X[i,1], c='g', marker=\"o\")\n",
    "    elif kpred[i] == 2:\n",
    "        c3 = pl.scatter(X[i,0], X[i,1], c='b', marker=\"*\")\n",
    "        \n",
    "#pl.legend([c1, c2, c3], ['Cluster 1', 'Cluster 2', 'Cluster 3'])\n",
    "pl.legend([c1, c2], ['Cluster 1', 'Cluster 2'])\n",
    "pl.show()\n",
    "\n",
    "for i in range(0, X.shape[0]):\n",
    "    if y_dataset[i] == 0:\n",
    "        c1 = pl.scatter(X[i,0], X[i,1], c='r', marker=\"+\")\n",
    "    elif y_dataset[i] == 1:\n",
    "        c2 = pl.scatter(X[i,0], X[i,1], c='g', marker=\"o\")\n",
    "    elif y_dataset[i] == 2:\n",
    "        c3 = pl.scatter(X[i,0], X[i,1], c='b', marker=\"*\")\n",
    "        \n",
    "#pl.legend([c1, c2, c3], ['Green', 'Hinselmann', 'Schiller'])\n",
    "pl.legend([c1, c2], ['Hinselmann', 'Schiller'])\n",
    "pl.show()"
   ]
  },
  {
   "cell_type": "code",
   "execution_count": 12,
   "metadata": {},
   "outputs": [],
   "source": [
    "pred = kmeans.predict(X_test)"
   ]
  },
  {
   "cell_type": "code",
   "execution_count": 13,
   "metadata": {},
   "outputs": [
    {
     "data": {
      "text/plain": [
       "array([1, 1, 0, 0, 0, 1, 0, 0, 1, 0, 0, 1, 0, 1, 0, 0, 1, 1, 0],\n",
       "      dtype=int32)"
      ]
     },
     "execution_count": 13,
     "metadata": {},
     "output_type": "execute_result"
    }
   ],
   "source": [
    "pred"
   ]
  },
  {
   "cell_type": "code",
   "execution_count": 14,
   "metadata": {},
   "outputs": [
    {
     "data": {
      "text/plain": [
       "array([1, 1, 0, 0, 0, 1, 0, 0, 0, 1, 0, 1, 0, 1, 0, 0, 1, 1, 0])"
      ]
     },
     "execution_count": 14,
     "metadata": {},
     "output_type": "execute_result"
    }
   ],
   "source": [
    "y_test.ravel()"
   ]
  },
  {
   "cell_type": "code",
   "execution_count": 15,
   "metadata": {},
   "outputs": [
    {
     "data": {
      "text/plain": [
       "0.601998904709748"
      ]
     },
     "execution_count": 15,
     "metadata": {},
     "output_type": "execute_result"
    }
   ],
   "source": [
    "adjusted_rand_score(y_test, pred)"
   ]
  }
 ],
 "metadata": {
  "kernelspec": {
   "display_name": "Python 3",
   "language": "python",
   "name": "python3"
  },
  "language_info": {
   "codemirror_mode": {
    "name": "ipython",
    "version": 3
   },
   "file_extension": ".py",
   "mimetype": "text/x-python",
   "name": "python",
   "nbconvert_exporter": "python",
   "pygments_lexer": "ipython3",
   "version": "3.6.5"
  }
 },
 "nbformat": 4,
 "nbformat_minor": 2
}
