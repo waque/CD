{
 "cells": [
  {
   "cell_type": "code",
   "execution_count": 1,
   "metadata": {},
   "outputs": [],
   "source": [
    "import pandas as pd\n",
    "import numpy as np\n",
    "import matplotlib.pyplot as plt\n",
    "from mpl_toolkits.mplot3d import Axes3D\n",
    "from sklearn import cluster, datasets, mixture\n",
    "from sklearn.neighbors import kneighbors_graph\n",
    "from sklearn.preprocessing import StandardScaler, Normalizer\n",
    "from sklearn.cluster import KMeans, AgglomerativeClustering, SpectralClustering\n",
    "from sklearn.metrics import accuracy_score, adjusted_rand_score, silhouette_score, davies_bouldin_score, adjusted_mutual_info_score\n",
    "from sklearn.decomposition import PCA\n",
    "import pylab as pl"
   ]
  },
  {
   "cell_type": "code",
   "execution_count": 2,
   "metadata": {},
   "outputs": [],
   "source": [
    "green_data = pd.read_csv('../green_consensus.csv')\n",
    "hinselmann_data = pd.read_csv('../hinselmann_consensus.csv')\n",
    "schiller_data = pd.read_csv('../schiller_consensus.csv')\n",
    "\n",
    "green_data['hinselmann'] = 0\n",
    "green_data['schiller'] = 0\n",
    "green_data['green'] = 1\n",
    "hinselmann_data['hinselmann'] = 1\n",
    "hinselmann_data['schiller'] = 0\n",
    "hinselmann_data['green'] = 0\n",
    "schiller_data['hinselmann'] = 0\n",
    "schiller_data['schiller'] = 1\n",
    "schiller_data['green'] = 0\n",
    "\n",
    "data = pd.concat([green_data, hinselmann_data, schiller_data])\n",
    "data = data.reset_index(drop=True)"
   ]
  },
  {
   "cell_type": "code",
   "execution_count": 3,
   "metadata": {},
   "outputs": [],
   "source": [
    "classes = ['experts::{}'.format(i) for i in range(5)]\n",
    "classes.extend(['consensus', 'hinselmann', 'schiller', 'green'])\n",
    "X = data.drop(columns=classes)\n",
    "Q1 = X.quantile(0.05)\n",
    "Q3 = X.quantile(0.95)\n",
    "IQR = Q3 - Q1\n",
    "color_cols = [col for col in X.columns if ('total' in col) and ('rgb' in col or 'hsv' in col)]\n",
    "color_cols\n",
    "X = X[color_cols]\n",
    "\n",
    "X = X[~((X < (Q1 - 1.5 * IQR)) |(X > (Q3 + 1.5 * IQR))).any(axis=1)]\n",
    "\n",
    "\n",
    "y = data.iloc[X.index]['consensus']\n",
    "y_dataset = data.iloc[X.index][['green', 'schiller', 'hinselmann']].idxmax(axis=1)\n",
    "y_dataset = y_dataset.map({'green': 0, 'hinselmann': 1, 'schiller': 1})\n",
    "y_dataset = y_dataset.reset_index(drop=True)\n",
    "X = PCA(0.95).fit_transform(X)"
   ]
  },
  {
   "cell_type": "code",
   "execution_count": 4,
   "metadata": {},
   "outputs": [
    {
     "data": {
      "text/plain": [
       "287"
      ]
     },
     "execution_count": 4,
     "metadata": {},
     "output_type": "execute_result"
    }
   ],
   "source": [
    "y_dataset.shape[0]"
   ]
  },
  {
   "cell_type": "code",
   "execution_count": 5,
   "metadata": {},
   "outputs": [],
   "source": [
    "scaler = StandardScaler()\n",
    "scaler.fit(X)\n",
    "X = scaler.transform(X)"
   ]
  },
  {
   "cell_type": "code",
   "execution_count": 6,
   "metadata": {},
   "outputs": [],
   "source": [
    "def kMeans(X, n_clusters=2):\n",
    "    kmeans = KMeans(n_clusters=n_clusters)\n",
    "    kmeans.fit(X)\n",
    "    \n",
    "    predicted = kmeans.predict(X)\n",
    "    centers = kmeans.cluster_centers_\n",
    "    labels = kmeans.labels_\n",
    "    return labels\n",
    "\n",
    "def hierarchical(X, n_clusters=2):\n",
    "    ac = SpectralClustering(n_clusters=n_clusters)\n",
    "    ac.fit(X)\n",
    "\n",
    "    labels = ac.labels_\n",
    "    return labels\n"
   ]
  },
  {
   "cell_type": "code",
   "execution_count": 7,
   "metadata": {},
   "outputs": [],
   "source": [
    "kpred = kMeans(X, 2)\n",
    "hpred = hierarchical(X, 2)"
   ]
  },
  {
   "cell_type": "code",
   "execution_count": 8,
   "metadata": {},
   "outputs": [
    {
     "name": "stdout",
     "output_type": "stream",
     "text": [
      "0.9660170996820544\n",
      "0.8630548531784649\n",
      "0.9859230529830181\n",
      "0.93059966680439\n"
     ]
    },
    {
     "name": "stderr",
     "output_type": "stream",
     "text": [
      "/home/francisconeves/anaconda3/lib/python3.6/site-packages/sklearn/metrics/cluster/supervised.py:732: FutureWarning: The behavior of AMI will change in version 0.22. To match the behavior of 'v_measure_score', AMI will use average_method='arithmetic' by default.\n",
      "  FutureWarning)\n"
     ]
    }
   ],
   "source": [
    "print(adjusted_mutual_info_score(y_dataset, kpred))\n",
    "print(adjusted_mutual_info_score(y_dataset, hpred))\n",
    "\n",
    "print(adjusted_rand_score(y_dataset, kpred))\n",
    "print(adjusted_rand_score(y_dataset, hpred))\n"
   ]
  },
  {
   "cell_type": "code",
   "execution_count": 9,
   "metadata": {},
   "outputs": [
    {
     "data": {
      "text/plain": [
       "array([0, 0, 0, 0, 0, 0, 0, 0, 0, 0, 0, 0, 0, 0, 0, 0, 0, 0, 0, 0, 0, 0,\n",
       "       0, 0, 0, 0, 0, 0, 0, 0, 0, 0, 0, 0, 0, 0, 0, 0, 0, 0, 0, 0, 1, 0,\n",
       "       0, 0, 0, 0, 0, 0, 0, 0, 0, 0, 0, 0, 0, 0, 0, 0, 0, 0, 0, 0, 0, 0,\n",
       "       0, 0, 0, 0, 0, 0, 0, 0, 0, 0, 0, 0, 0, 0, 0, 0, 0, 0, 0, 0, 0, 0,\n",
       "       0, 0, 0, 0, 0, 0, 0, 0, 0, 0, 1, 1, 1, 1, 1, 1, 1, 1, 1, 1, 1, 1,\n",
       "       1, 1, 1, 1, 1, 1, 1, 1, 1, 1, 1, 1, 1, 1, 1, 1, 1, 1, 1, 1, 1, 1,\n",
       "       1, 1, 1, 1, 1, 1, 1, 1, 1, 1, 1, 1, 1, 1, 1, 1, 1, 1, 1, 1, 1, 1,\n",
       "       1, 1, 1, 1, 1, 1, 1, 1, 1, 1, 1, 1, 1, 1, 1, 1, 1, 1, 1, 1, 1, 1,\n",
       "       1, 1, 1, 1, 1, 1, 1, 1, 1, 1, 1, 1, 1, 1, 1, 1, 1, 1, 1, 1, 1, 1,\n",
       "       1, 1, 1, 1, 1, 1, 1, 1, 1, 1, 1, 1, 1, 1, 1, 1, 1, 1, 1, 1, 1, 1,\n",
       "       1, 1, 1, 1, 1, 1, 1, 1, 1, 1, 1, 1, 1, 1, 1, 1, 1, 1, 1, 1, 1, 1,\n",
       "       1, 1, 1, 1, 1, 1, 1, 1, 1, 1, 1, 1, 1, 1, 1, 1, 1, 1, 1, 1, 1, 1,\n",
       "       1, 1, 1, 1, 1, 1, 1, 1, 1, 1, 1, 1, 1, 1, 1, 1, 1, 1, 1, 1, 1, 1,\n",
       "       1], dtype=int32)"
      ]
     },
     "execution_count": 9,
     "metadata": {},
     "output_type": "execute_result"
    }
   ],
   "source": [
    "kpred"
   ]
  },
  {
   "cell_type": "code",
   "execution_count": 10,
   "metadata": {},
   "outputs": [
    {
     "data": {
      "image/png": "[encoded data removed]",
      "text/plain": [
       "<Figure size 432x288 with 1 Axes>"
      ]
     },
     "metadata": {},
     "output_type": "display_data"
    },
    {
     "data": {
      "image/png": "[encoded data removed]",
      "text/plain": [
       "<Figure size 432x288 with 1 Axes>"
      ]
     },
     "metadata": {},
     "output_type": "display_data"
    },
    {
     "data": {
      "image/png": "[encoded data removed]",
      "text/plain": [
       "<Figure size 432x288 with 1 Axes>"
      ]
     },
     "metadata": {},
     "output_type": "display_data"
    }
   ],
   "source": [
    "for i in range(0, X.shape[0]):\n",
    "    if hpred[i] == 0:\n",
    "        c1 = pl.scatter(X[i,0], X[i,1], c='r', marker=\"+\")\n",
    "    elif hpred[i] == 1:\n",
    "        c2 = pl.scatter(X[i,0], X[i,1], c='g', marker=\"o\")\n",
    "    elif hpred[i] == 2:\n",
    "        c3 = pl.scatter(X[i,0], X[i,1], c='b', marker=\"*\")\n",
    "        \n",
    "#pl.legend([c1, c2, c3], ['Cluster 1', 'Cluster 2', 'Cluster 3'])\n",
    "pl.legend([c1, c2], ['Cluster 1', 'Cluster 2'])\n",
    "pl.show()\n",
    "\n",
    "for i in range(0, X.shape[0]):\n",
    "    if kpred[i] == 0:\n",
    "        c1 = pl.scatter(X[i,0], X[i,1], c='r', marker=\"+\")\n",
    "    elif kpred[i] == 1:\n",
    "        c2 = pl.scatter(X[i,0], X[i,1], c='g', marker=\"o\")\n",
    "    elif kpred[i] == 2:\n",
    "        c3 = pl.scatter(X[i,0], X[i,1], c='b', marker=\"*\")\n",
    "        \n",
    "#pl.legend([c1, c2, c3], ['Cluster 1', 'Cluster 2', 'Cluster 3'])\n",
    "pl.legend([c1, c2], ['Cluster 1', 'Cluster 2'])\n",
    "pl.show()\n",
    "\n",
    "for i in range(0, X.shape[0]):\n",
    "    if y_dataset[i] == 0:\n",
    "        c1 = pl.scatter(X[i,0], X[i,1], c='r', marker=\"+\")\n",
    "    elif y_dataset[i] == 1:\n",
    "        c2 = pl.scatter(X[i,0], X[i,1], c='g', marker=\"o\")\n",
    "    elif y_dataset[i] == 2:\n",
    "        c3 = pl.scatter(X[i,0], X[i,1], c='b', marker=\"*\")\n",
    "        \n",
    "#pl.legend([c1, c2, c3], ['Green', 'Hinselmann', 'Schiller'])\n",
    "pl.legend([c1, c2], ['Green', 'Hinselmann/Schiller'])\n",
    "pl.show()"
   ]
  },
  {
   "cell_type": "code",
   "execution_count": null,
   "metadata": {},
   "outputs": [],
   "source": []
  }
 ],
 "metadata": {
  "kernelspec": {
   "display_name": "Python 3",
   "language": "python",
   "name": "python3"
  },
  "language_info": {
   "codemirror_mode": {
    "name": "ipython",
    "version": 3
   },
   "file_extension": ".py",
   "mimetype": "text/x-python",
   "name": "python",
   "nbconvert_exporter": "python",
   "pygments_lexer": "ipython3",
   "version": "3.6.5"
  }
 },
 "nbformat": 4,
 "nbformat_minor": 2
}
