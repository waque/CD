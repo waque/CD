{
 "cells": [
  {
   "cell_type": "code",
   "execution_count": 1,
   "metadata": {},
   "outputs": [],
   "source": [
    "import pandas as pd\n",
    "import numpy as np\n",
    "import matplotlib.pyplot as plt\n",
    "import sys\n",
    "from sklearn.linear_model import LogisticRegression\n",
    "from sklearn.feature_selection import mutual_info_classif, f_classif, SelectKBest\n",
    "from sklearn.neighbors import KNeighborsClassifier\n",
    "from sklearn.tree import DecisionTreeClassifier\n",
    "from sklearn.ensemble import RandomForestClassifier, VotingClassifier\n",
    "from sklearn.naive_bayes import GaussianNB, MultinomialNB, BernoulliNB\n",
    "from sklearn.feature_selection import SelectKBest\n",
    "from sklearn.model_selection import train_test_split, cross_val_score, KFold\n",
    "from sklearn.feature_selection import chi2\n",
    "from sklearn.preprocessing import Normalizer, StandardScaler\n",
    "from imblearn.over_sampling import SMOTE\n",
    "from sklearn.model_selection import cross_val_score, cross_validate\n",
    "from sklearn.metrics import accuracy_score, confusion_matrix\n",
    "from sklearn.metrics import roc_curve, auc\n",
    "from imblearn.over_sampling import SMOTE\n",
    "from imblearn.under_sampling import RandomUnderSampler\n",
    "from sklearn.decomposition import PCA"
   ]
  },
  {
   "cell_type": "code",
   "execution_count": 2,
   "metadata": {},
   "outputs": [],
   "source": [
    "green_data = pd.read_csv('../green_consensus.csv')\n",
    "hinselmann_data = pd.read_csv('../hinselmann_consensus.csv')\n",
    "schiller_data = pd.read_csv('../schiller_consensus.csv')\n",
    "experts = ['experts::{}'.format(i) for i in range(5)]\n",
    "\n",
    "col = pd.concat([green_data, hinselmann_data, schiller_data])\n",
    "col = col.drop(columns=experts)\n",
    "\n",
    "X, y = col.drop(columns=['consensus']), col['consensus']\n",
    "res = {}\n",
    "i = 0"
   ]
  },
  {
   "cell_type": "code",
   "execution_count": 3,
   "metadata": {},
   "outputs": [],
   "source": [
    "ks = np.arange(1, 22, 2)"
   ]
  },
  {
   "cell_type": "code",
   "execution_count": 4,
   "metadata": {},
   "outputs": [],
   "source": [
    "for k in ks:\n",
    "    clf = KNeighborsClassifier(n_neighbors=k)\n",
    "    accuracy = np.mean(cross_val_score(clf, X, y, cv=10))\n",
    "    roc_auc = np.mean(cross_val_score(clf, X, y, scoring='roc_auc', cv=10))\n",
    "    res[i] = {'accuracy': accuracy, 'roc_auc': roc_auc, 'k': k, 'transformation': 'baseline'}\n",
    "    i += 1"
   ]
  },
  {
   "cell_type": "code",
   "execution_count": 5,
   "metadata": {},
   "outputs": [],
   "source": [
    "def normalize(X):\n",
    "    normalizer = Normalizer().fit(X)\n",
    "\n",
    "    X_train_norm = normalizer.transform(X)\n",
    "    \n",
    "    return X_train_norm\n",
    "\n",
    "X_norm = normalize(X)"
   ]
  },
  {
   "cell_type": "code",
   "execution_count": 6,
   "metadata": {},
   "outputs": [],
   "source": [
    "for k in ks:\n",
    "    clf = KNeighborsClassifier(n_neighbors=k)\n",
    "    accuracy = np.mean(cross_val_score(clf, X_norm, y, cv=10))\n",
    "    roc_auc = np.mean(cross_val_score(clf, X_norm, y, scoring='roc_auc', cv=10))\n",
    "    res[i] = {'accuracy': accuracy, 'roc_auc': roc_auc, 'k': k, 'transformation': 'normalization'}\n",
    "    i += 1"
   ]
  },
  {
   "cell_type": "code",
   "execution_count": 7,
   "metadata": {},
   "outputs": [],
   "source": [
    "def getKBest(X, y, score_func=f_classif, k=20):\n",
    "    k_best = SelectKBest(score_func=score_func, k=10).fit(X, y)\n",
    "\n",
    "    idxs = k_best.get_support(indices=True)\n",
    "    X = X.iloc[:,idxs]\n",
    "    return X\n",
    "\n",
    "X_best = getKBest(X, y)\n",
    "X_best = normalize(X_best)"
   ]
  },
  {
   "cell_type": "code",
   "execution_count": 8,
   "metadata": {},
   "outputs": [],
   "source": [
    "for k in ks:\n",
    "    clf = KNeighborsClassifier(n_neighbors=k)\n",
    "    accuracy = np.mean(cross_val_score(clf, X_best, y, cv=10))\n",
    "    roc_auc = np.mean(cross_val_score(clf, X_best, y, scoring='roc_auc', cv=10))\n",
    "    res[i] = {'accuracy': accuracy, 'roc_auc': roc_auc, 'k': k, 'transformation': 'normalization and feature selection'}\n",
    "    i += 1"
   ]
  },
  {
   "cell_type": "code",
   "execution_count": 9,
   "metadata": {},
   "outputs": [],
   "source": [
    "balancer = SMOTE(random_state=42)\n",
    "X, y = balancer.fit_sample(X, y)"
   ]
  },
  {
   "cell_type": "code",
   "execution_count": 10,
   "metadata": {},
   "outputs": [],
   "source": [
    "for k in ks:\n",
    "    clf = KNeighborsClassifier(n_neighbors=k)\n",
    "    accuracy = np.mean(cross_val_score(clf, X, y, cv=10))\n",
    "    roc_auc = np.mean(cross_val_score(clf, X, y, scoring='roc_auc', cv=10))\n",
    "    res[i] = {'accuracy': accuracy, 'roc_auc': roc_auc, 'k': k, 'transformation': 'balance'}\n",
    "    i += 1"
   ]
  },
  {
   "cell_type": "code",
   "execution_count": 12,
   "metadata": {},
   "outputs": [],
   "source": [
    "filename = 'knn_results'\n",
    "measures = pd.DataFrame.from_dict(res, \"index\")\n",
    "measures.to_csv('{}.csv'.format(filename), index=False)"
   ]
  }
 ],
 "metadata": {
  "kernelspec": {
   "display_name": "Python 3",
   "language": "python",
   "name": "python3"
  },
  "language_info": {
   "codemirror_mode": {
    "name": "ipython",
    "version": 3
   },
   "file_extension": ".py",
   "mimetype": "text/x-python",
   "name": "python",
   "nbconvert_exporter": "python",
   "pygments_lexer": "ipython3",
   "version": "3.6.5"
  }
 },
 "nbformat": 4,
 "nbformat_minor": 2
}
