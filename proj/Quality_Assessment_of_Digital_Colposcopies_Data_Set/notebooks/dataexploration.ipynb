{
 "cells": [
  {
   "cell_type": "code",
   "execution_count": 1,
   "metadata": {},
   "outputs": [],
   "source": [
    "import pandas as pd\n",
    "import numpy as np\n",
    "import matplotlib.pyplot as plt\n",
    "from mlxtend.frequent_patterns import apriori, association_rules\n",
    "from sklearn import cluster"
   ]
  },
  {
   "cell_type": "code",
   "execution_count": 2,
   "metadata": {},
   "outputs": [],
   "source": [
    "green_data = pd.read_csv('green.csv')\n",
    "hinselmann_data = pd.read_csv('hinselmann.csv')\n",
    "schiller_data = pd.read_csv('schiller.csv')\n",
    "\n",
    "green_data = green_data\n",
    "hinselmann_data = hinselmann_data\n",
    "schiller_data = schiller_data\n",
    "coloscopies = pd.concat([green_data, hinselmann_data, schiller_data])\n",
    "\n",
    "experts = ['experts::{}'.format(i) for i in range(6)]\n",
    "exp_qualities = coloscopies[experts]\n",
    "experts.append('consensus')\n",
    "qualities = coloscopies[experts]\n",
    "qualities.head()\n",
    "\n",
    "qualities[exp_qualities.sum(axis=1) == 3].index\n",
    "\n",
    "qualities = qualities.drop(index=qualities[exp_qualities.sum(axis=1) == 3].index)"
   ]
  },
  {
   "cell_type": "code",
   "execution_count": 3,
   "metadata": {},
   "outputs": [
    {
     "name": "stdout",
     "output_type": "stream",
     "text": [
      "experts::0    0.852941\n",
      "consensus     0.852941\n",
      "dtype: float64\n",
      "experts::1    0.887255\n",
      "consensus     0.887255\n",
      "dtype: float64\n",
      "experts::2    0.867647\n",
      "consensus     0.867647\n",
      "dtype: float64\n",
      "experts::3    0.857843\n",
      "consensus     0.857843\n",
      "dtype: float64\n",
      "experts::4    0.852941\n",
      "consensus     0.852941\n",
      "dtype: float64\n",
      "experts::5    0.75\n",
      "consensus     0.75\n",
      "dtype: float64\n"
     ]
    }
   ],
   "source": [
    "for i in range(6):\n",
    "    expert = qualities[[\"experts::{}\".format(i), \"consensus\"]]\n",
    "    \n",
    "    print(expert.loc[expert['experts::{}'.format(i)] == expert['consensus']].count() / expert.shape[0])"
   ]
  },
  {
   "cell_type": "code",
   "execution_count": 4,
   "metadata": {},
   "outputs": [],
   "source": [
    "experts = ['experts::{}'.format(i) for i in range(5)]\n",
    "def consensualize(dataset):\n",
    "    dataset = dataset.drop(columns=['experts::5', 'consensus'])\n",
    "    dataset['consensus'] = (round(dataset[experts].sum(axis=1)/5))\n",
    "    \n",
    "    return dataset"
   ]
  },
  {
   "cell_type": "code",
   "execution_count": 5,
   "metadata": {},
   "outputs": [],
   "source": [
    "green_data = consensualize(green_data)\n",
    "hinselmann_data = consensualize(hinselmann_data)\n",
    "schiller_data = consensualize(schiller_data)\n",
    "coloscopies = consensualize(coloscopies)\n",
    "\n",
    "green_data.to_csv('green_consensus.csv', index=False)\n",
    "hinselmann_data.to_csv('hinselmann_consensus.csv', index=False)\n",
    "schiller_data.to_csv('schiller_consensus.csv', index=False)"
   ]
  },
  {
   "cell_type": "code",
   "execution_count": null,
   "metadata": {},
   "outputs": [],
   "source": []
  },
  {
   "cell_type": "code",
   "execution_count": null,
   "metadata": {},
   "outputs": [],
   "source": []
  }
 ],
 "metadata": {
  "kernelspec": {
   "display_name": "Python 3",
   "language": "python",
   "name": "python3"
  },
  "language_info": {
   "codemirror_mode": {
    "name": "ipython",
    "version": 3
   },
   "file_extension": ".py",
   "mimetype": "text/x-python",
   "name": "python",
   "nbconvert_exporter": "python",
   "pygments_lexer": "ipython3",
   "version": "3.6.5"
  }
 },
 "nbformat": 4,
 "nbformat_minor": 2
}
