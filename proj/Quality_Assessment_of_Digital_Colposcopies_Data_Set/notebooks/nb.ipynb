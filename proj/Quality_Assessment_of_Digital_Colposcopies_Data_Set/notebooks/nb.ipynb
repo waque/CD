{
 "cells": [
  {
   "cell_type": "code",
   "execution_count": 1,
   "metadata": {},
   "outputs": [],
   "source": [
    "import pandas as pd\n",
    "import numpy as np\n",
    "import matplotlib.pyplot as plt\n",
    "import sys\n",
    "from sklearn.linear_model import LogisticRegression\n",
    "from sklearn.feature_selection import mutual_info_classif, f_classif, SelectKBest\n",
    "from sklearn.neighbors import KNeighborsClassifier\n",
    "from sklearn.tree import DecisionTreeClassifier\n",
    "from sklearn.ensemble import RandomForestClassifier, VotingClassifier\n",
    "from sklearn.naive_bayes import GaussianNB, MultinomialNB, BernoulliNB\n",
    "from sklearn.feature_selection import SelectKBest\n",
    "from sklearn.model_selection import train_test_split, cross_val_score, KFold\n",
    "from sklearn.feature_selection import chi2\n",
    "from sklearn.preprocessing import Normalizer, StandardScaler\n",
    "from imblearn.over_sampling import SMOTE\n",
    "from sklearn.model_selection import cross_val_score, cross_validate\n",
    "from sklearn.metrics import accuracy_score, confusion_matrix\n",
    "from sklearn.metrics import roc_curve, auc\n",
    "from imblearn.over_sampling import SMOTE\n",
    "from imblearn.under_sampling import RandomUnderSampler\n",
    "from sklearn.decomposition import PCA"
   ]
  },
  {
   "cell_type": "code",
   "execution_count": 2,
   "metadata": {},
   "outputs": [],
   "source": [
    "clf = GaussianNB()\n",
    "\n",
    "green_data = pd.read_csv('../green_consensus.csv')\n",
    "hinselmann_data = pd.read_csv('../hinselmann_consensus.csv')\n",
    "schiller_data = pd.read_csv('../schiller_consensus.csv')\n",
    "experts = ['experts::{}'.format(i) for i in range(5)]\n",
    "\n",
    "col = pd.concat([green_data, hinselmann_data, schiller_data])\n",
    "col = col.drop(columns=experts)\n",
    "\n",
    "\n",
    "green_data['green'] = 1\n",
    "green_data['hinselmann']=0\n",
    "green_data['schiller']=0\n",
    "hinselmann_data['green']=0\n",
    "hinselmann_data['hinselmann']=1\n",
    "hinselmann_data['schiller']=0\n",
    "schiller_data['green']=0\n",
    "schiller_data['hinselmann']=0\n",
    "schiller_data['schiller']=1\n",
    "\n",
    "col_conc = pd.concat([green_data, hinselmann_data, schiller_data])\n",
    "col_conc = col_conc.drop(columns=experts)\n",
    "\n",
    "X, y = col.drop(columns=['consensus']), col['consensus']\n",
    "res = {}\n",
    "i = 0"
   ]
  },
  {
   "cell_type": "code",
   "execution_count": 3,
   "metadata": {},
   "outputs": [],
   "source": [
    "accuracy = np.mean(cross_val_score(GaussianNB(), X, y, cv=10))\n",
    "roc_auc = np.mean(cross_val_score(GaussianNB(), X, y, scoring='roc_auc', cv=10))\n",
    "res[i] = {'accuracy': accuracy, 'roc_auc': roc_auc, 'transformation': 'baseline'}\n",
    "i += 1"
   ]
  },
  {
   "cell_type": "code",
   "execution_count": 4,
   "metadata": {},
   "outputs": [
    {
     "name": "stdout",
     "output_type": "stream",
     "text": [
      "0.7318418171866449\n",
      "0.6828061224489795\n"
     ]
    }
   ],
   "source": [
    "print(accuracy)\n",
    "print(roc_auc)"
   ]
  },
  {
   "cell_type": "code",
   "execution_count": 5,
   "metadata": {},
   "outputs": [],
   "source": [
    "def getKBest(X, y, score_func=f_classif, k=20):\n",
    "    k_best = SelectKBest(score_func=score_func, k=10).fit(X, y)\n",
    "\n",
    "    idxs = k_best.get_support(indices=True)\n",
    "    X = X.iloc[:,idxs]\n",
    "    return X"
   ]
  },
  {
   "cell_type": "code",
   "execution_count": 6,
   "metadata": {},
   "outputs": [],
   "source": [
    "X_best = getKBest(X, y)"
   ]
  },
  {
   "cell_type": "code",
   "execution_count": 7,
   "metadata": {},
   "outputs": [],
   "source": [
    "accuracy = np.mean(cross_val_score(GaussianNB(), X_best, y, cv=10))\n",
    "roc_auc = np.mean(cross_val_score(GaussianNB(), X_best, y, scoring='roc_auc', cv=10))\n",
    "res[i] = {'accuracy': accuracy, 'roc_auc': roc_auc, 'transformation': 'Feature Selection'}\n",
    "i += 1"
   ]
  },
  {
   "cell_type": "code",
   "execution_count": 8,
   "metadata": {},
   "outputs": [
    {
     "name": "stdout",
     "output_type": "stream",
     "text": [
      "0.787383689107827\n",
      "0.7764115646258505\n"
     ]
    }
   ],
   "source": [
    "print(accuracy)\n",
    "print(roc_auc)"
   ]
  },
  {
   "cell_type": "code",
   "execution_count": 9,
   "metadata": {},
   "outputs": [],
   "source": [
    "X_pca = PCA(0.95).fit_transform(X, y)"
   ]
  },
  {
   "cell_type": "code",
   "execution_count": 10,
   "metadata": {},
   "outputs": [],
   "source": [
    "accuracy = np.mean(cross_val_score(GaussianNB(), X_pca, y, cv=10))\n",
    "roc_auc = np.mean(cross_val_score(GaussianNB(), X_pca, y, scoring='roc_auc', cv=10))\n",
    "res[i] = {'accuracy': accuracy, 'roc_auc': roc_auc, 'transformation': 'PCA'}\n",
    "i += 1"
   ]
  },
  {
   "cell_type": "code",
   "execution_count": 11,
   "metadata": {},
   "outputs": [
    {
     "name": "stdout",
     "output_type": "stream",
     "text": [
      "0.7207307060755338\n",
      "0.5860884353741496\n"
     ]
    }
   ],
   "source": [
    "print(accuracy)\n",
    "print(roc_auc)"
   ]
  },
  {
   "cell_type": "code",
   "execution_count": 12,
   "metadata": {},
   "outputs": [
    {
     "name": "stderr",
     "output_type": "stream",
     "text": [
      "/home/francisconeves/anaconda3/lib/python3.6/site-packages/sklearn/utils/deprecation.py:77: DeprecationWarning: Function _ratio_float is deprecated; Use a float for 'ratio' is deprecated from version 0.2. The support will be removed in 0.4. Use a dict, str, or a callable instead.\n",
      "  warnings.warn(msg, category=DeprecationWarning)\n"
     ]
    }
   ],
   "source": [
    "balancer = RandomUnderSampler(random_state=42, ratio=0.7)\n",
    "X, y = balancer.fit_sample(X, y)"
   ]
  },
  {
   "cell_type": "code",
   "execution_count": 13,
   "metadata": {},
   "outputs": [],
   "source": [
    "accuracy = np.mean(cross_val_score(GaussianNB(), X, y, cv=10))\n",
    "roc_auc = np.mean(cross_val_score(GaussianNB(), X, y, scoring='roc_auc', cv=10))\n",
    "res[i] = {'accuracy': accuracy, 'roc_auc': roc_auc, 'transformation': 'Balancing'}\n",
    "i += 1"
   ]
  },
  {
   "cell_type": "code",
   "execution_count": 14,
   "metadata": {},
   "outputs": [
    {
     "name": "stdout",
     "output_type": "stream",
     "text": [
      "0.6462280701754386\n",
      "0.6168154761904762\n"
     ]
    }
   ],
   "source": [
    "print(accuracy)\n",
    "print(roc_auc)"
   ]
  },
  {
   "cell_type": "code",
   "execution_count": 16,
   "metadata": {
    "scrolled": true
   },
   "outputs": [],
   "source": [
    "filename = 'nb_results'\n",
    "measures = pd.DataFrame.from_dict(res, \"index\")\n",
    "measures.to_csv('{}.csv'.format(filename), index=False)"
   ]
  }
 ],
 "metadata": {
  "kernelspec": {
   "display_name": "Python 3",
   "language": "python",
   "name": "python3"
  },
  "language_info": {
   "codemirror_mode": {
    "name": "ipython",
    "version": 3
   },
   "file_extension": ".py",
   "mimetype": "text/x-python",
   "name": "python",
   "nbconvert_exporter": "python",
   "pygments_lexer": "ipython3",
   "version": "3.6.5"
  }
 },
 "nbformat": 4,
 "nbformat_minor": 2
}
