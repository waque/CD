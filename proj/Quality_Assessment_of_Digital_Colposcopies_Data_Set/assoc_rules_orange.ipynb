{
 "cells": [
  {
   "cell_type": "code",
   "execution_count": 2,
   "metadata": {},
   "outputs": [],
   "source": [
    "import pandas as pd\n",
    "import numpy as np\n",
    "import matplotlib.pyplot as plt\n",
    "from mlxtend.frequent_patterns import apriori, association_rules\n",
    "from sklearn import cluster\n",
    "from sklearn.preprocessing import LabelBinarizer\n",
    "import warnings\n",
    "warnings.filterwarnings('ignore')\n",
    "import Orange\n",
    "import csv\n",
    "from io import StringIO\n",
    "from collections import OrderedDict\n",
    "from Orange.data import Table, Domain, ContinuousVariable, DiscreteVariable\n",
    "from sklearn.decomposition import PCA\n",
    "from orangecontrib.associate.fpgrowth import * \n",
    "\n",
    "pd.options.display.max_columns = None"
   ]
  },
  {
   "cell_type": "code",
   "execution_count": 5,
   "metadata": {},
   "outputs": [],
   "source": [
    "green = Orange.data.Table.from_file('green_consensus.csv')\n",
    "disc = Orange.preprocess.Discretize()\n",
    "disc.method = Orange.preprocess.discretize.EqualFreq(n=3)\n",
    "d_green = disc(green)"
   ]
  },
  {
   "cell_type": "code",
   "execution_count": 6,
   "metadata": {},
   "outputs": [],
   "source": [
    "X, mapping = OneHot.encode(d_green)"
   ]
  },
  {
   "cell_type": "code",
   "execution_count": 7,
   "metadata": {},
   "outputs": [
    {
     "name": "stdout",
     "output_type": "stream",
     "text": [
      "[[ True False False ...  True False  True]\n",
      " [ True False False ... False  True False]\n",
      " [False  True False ... False  True False]\n",
      " ...\n",
      " [False False  True ...  True False  True]\n",
      " [False False  True ... False False  True]\n",
      " [False False  True ...  True False  True]]\n",
      "{0: (0, 0), 1: (0, 1), 2: (0, 2), 3: (1, 0), 4: (1, 1), 5: (1, 2), 6: (2, 0), 7: (2, 1), 8: (2, 2), 9: (3, 0), 10: (3, 1), 11: (3, 2), 12: (4, 0), 13: (4, 1), 14: (4, 2), 15: (5, 0), 16: (5, 1), 17: (5, 2), 18: (6, 0), 19: (6, 1), 20: (6, 2), 21: (7, 0), 22: (7, 1), 23: (7, 2), 24: (8, 0), 25: (8, 1), 26: (8, 2), 27: (9, 0), 28: (9, 1), 29: (9, 2), 30: (10, 0), 31: (10, 1), 32: (10, 2), 33: (11, 0), 34: (11, 1), 35: (11, 2), 36: (12, 0), 37: (12, 1), 38: (12, 2), 39: (13, 0), 40: (13, 1), 41: (13, 2), 42: (14, 0), 43: (14, 1), 44: (14, 2), 45: (15, 0), 46: (15, 1), 47: (15, 2), 48: (16, 0), 49: (16, 1), 50: (16, 2), 51: (17, 0), 52: (17, 1), 53: (17, 2), 54: (18, 0), 55: (18, 1), 56: (18, 2), 57: (19, 0), 58: (19, 1), 59: (19, 2), 60: (20, 0), 61: (20, 1), 62: (20, 2), 63: (21, 0), 64: (21, 1), 65: (21, 2), 66: (22, 0), 67: (22, 1), 68: (22, 2), 69: (23, 0), 70: (23, 1), 71: (23, 2), 72: (24, 0), 73: (24, 1), 74: (24, 2), 75: (25, 0), 76: (25, 1), 77: (25, 2), 78: (26, 0), 79: (26, 1), 80: (26, 2), 81: (27, 0), 82: (27, 1), 83: (27, 2), 84: (28, 0), 85: (28, 1), 86: (28, 2), 87: (29, 0), 88: (29, 1), 89: (29, 2), 90: (30, 0), 91: (30, 1), 92: (30, 2), 93: (31, 0), 94: (31, 1), 95: (31, 2), 96: (32, 0), 97: (32, 1), 98: (32, 2), 99: (33, 0), 100: (33, 1), 101: (33, 2), 102: (34, 0), 103: (34, 1), 104: (34, 2), 105: (35, 0), 106: (35, 1), 107: (35, 2), 108: (36, 0), 109: (36, 1), 110: (36, 2), 111: (37, 0), 112: (37, 1), 113: (37, 2), 114: (38, 0), 115: (38, 1), 116: (38, 2), 117: (39, 0), 118: (39, 1), 119: (39, 2), 120: (40, 0), 121: (40, 1), 122: (40, 2), 123: (41, 0), 124: (41, 1), 125: (41, 2), 126: (42, 0), 127: (42, 1), 128: (42, 2), 129: (43, 0), 130: (43, 1), 131: (43, 2), 132: (44, 0), 133: (44, 1), 134: (44, 2), 135: (45, 0), 136: (45, 1), 137: (45, 2), 138: (46, 0), 139: (46, 1), 140: (46, 2), 141: (47, 0), 142: (47, 1), 143: (47, 2), 144: (48, 0), 145: (48, 1), 146: (48, 2), 147: (49, 0), 148: (49, 1), 149: (49, 2), 150: (50, 0), 151: (50, 1), 152: (50, 2), 153: (51, 0), 154: (51, 1), 155: (51, 2), 156: (52, 0), 157: (52, 1), 158: (52, 2), 159: (53, 0), 160: (53, 1), 161: (53, 2), 162: (54, 0), 163: (54, 1), 164: (54, 2), 165: (55, 0), 166: (55, 1), 167: (55, 2), 168: (56, 0), 169: (56, 1), 170: (56, 2), 171: (57, 0), 172: (57, 1), 173: (57, 2), 174: (58, 0), 175: (58, 1), 176: (58, 2), 177: (59, 0), 178: (59, 1), 179: (59, 2), 180: (60, 0), 181: (60, 1), 182: (60, 2), 183: (61, 0), 184: (61, 1), 185: (61, 2), 186: (62, 0), 187: (62, 1), 188: (63, 0), 189: (63, 1), 190: (64, 0), 191: (64, 1), 192: (65, 0), 193: (65, 1), 194: (66, 0), 195: (66, 1), 196: (67, 0), 197: (67, 1)}\n"
     ]
    }
   ],
   "source": [
    "print(X)\n",
    "print(mapping)"
   ]
  },
  {
   "cell_type": "code",
   "execution_count": null,
   "metadata": {},
   "outputs": [],
   "source": [
    "itemsets = dict(frequent_itemsets(X, .05))\n",
    "class_items = {item for item, var, _ in OneHot.decode(mapping, green, mapping)}\n",
    "print(class_items)"
   ]
  },
  {
   "cell_type": "code",
   "execution_count": 13,
   "metadata": {},
   "outputs": [
    {
     "name": "stdout",
     "output_type": "stream",
     "text": [
      "[cervix_area, os_area, walls_area, speculum_area, artifacts_area, cervix_artifacts_area, os_artifacts_area, walls_artifacts_area, speculum_artifacts_area, cervix_specularities_area, os_specularities_area, walls_specularities_area, speculum_specularities_area, specularities_area, area_h_max_diff, rgb_cervix_r_mean, rgb_cervix_r_std, rgb_cervix_r_mean_minus_std, rgb_cervix_r_mean_plus_std, rgb_cervix_g_mean, rgb_cervix_g_std, rgb_cervix_g_mean_minus_std, rgb_cervix_g_mean_plus_std, rgb_cervix_b_mean, rgb_cervix_b_std, rgb_cervix_b_mean_minus_std, rgb_cervix_b_mean_plus_std, rgb_total_r_mean, rgb_total_r_std, rgb_total_r_mean_minus_std, rgb_total_r_mean_plus_std, rgb_total_g_mean, rgb_total_g_std, rgb_total_g_mean_minus_std, rgb_total_g_mean_plus_std, rgb_total_b_mean, rgb_total_b_std, rgb_total_b_mean_minus_std, rgb_total_b_mean_plus_std, hsv_cervix_h_mean, hsv_cervix_h_std, hsv_cervix_s_mean, hsv_cervix_s_std, hsv_cervix_v_mean, hsv_cervix_v_std, hsv_total_h_mean, hsv_total_h_std, hsv_total_s_mean, hsv_total_s_std, hsv_total_v_mean, hsv_total_v_std, fit_cervix_hull_rate, fit_cervix_hull_total, fit_cervix_bbox_rate, fit_cervix_bbox_total, fit_circle_rate, fit_circle_total, fit_ellipse_rate, fit_ellipse_total, fit_ellipse_goodness, dist_to_center_cervix, dist_to_center_os, experts::0, experts::1, experts::2, experts::3, experts::4, consensus]\n"
     ]
    }
   ],
   "source": [
    "print(green.domain)"
   ]
  }
 ],
 "metadata": {
  "kernelspec": {
   "display_name": "Python 3",
   "language": "python",
   "name": "python3"
  },
  "language_info": {
   "codemirror_mode": {
    "name": "ipython",
    "version": 3
   },
   "file_extension": ".py",
   "mimetype": "text/x-python",
   "name": "python",
   "nbconvert_exporter": "python",
   "pygments_lexer": "ipython3",
   "version": "3.6.5"
  }
 },
 "nbformat": 4,
 "nbformat_minor": 2
}
