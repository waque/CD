{
 "cells": [
  {
   "cell_type": "code",
   "execution_count": 1,
   "metadata": {},
   "outputs": [],
   "source": [
    "import pandas as pd\n",
    "import numpy as np\n",
    "import seaborn as sns\n",
    "import matplotlib.pyplot as plt\n",
    "import sys\n",
    "sys.path.append('..')\n",
    "from utils_cd import (\n",
    "        split_dataset,\n",
    "        standard_deviation,\n",
    "        plot_comparison_results,\n",
    "        impute_values,\n",
    "        plot_results,\n",
    "        plot_param_improv,\n",
    "        plot_results_from_csv,\n",
    "        aps_classifier_statistics,\n",
    "        aps_score,\n",
    ")\n",
    "from sklearn.neighbors import KNeighborsClassifier\n",
    "from sklearn.tree import DecisionTreeClassifier\n",
    "from sklearn.ensemble import RandomForestClassifier\n",
    "from sklearn.naive_bayes import GaussianNB, MultinomialNB, BernoulliNB\n",
    "from sklearn.decomposition import PCA\n",
    "from sklearn.feature_selection import SelectKBest\n",
    "from sklearn.feature_selection import chi2\n",
    "from sklearn.preprocessing import Normalizer, StandardScaler\n",
    "from imblearn.over_sampling import SMOTE\n",
    "from imblearn.under_sampling import RandomUnderSampler\n",
    "from sklearn.decomposition import PCA\n",
    "from sklearn.base import clone\n",
    "\n",
    "pd.options.display.max_columns = None\n",
    "sns.set(style='darkgrid')\n",
    "\n",
    "CLASS = 'class'\n",
    "\n",
    "def getData():\n",
    "    train = pd.read_csv('./train.csv')\n",
    "    test = pd.read_csv('./test.csv')\n",
    "\n",
    "    X_train, y_train = split_dataset(train, CLASS)\n",
    "    X_test, y_test = split_dataset(test, CLASS)\n",
    "    y_train = y_train.map({'pos': 1, 'neg': 0})\n",
    "    y_test = y_test.map({'pos': 1, 'neg': 0})\n",
    "    \n",
    "    return X_train, X_test, y_train, y_test\n",
    "\n",
    "def getDataWithThresh():\n",
    "    train = pd.read_csv('./train.csv')\n",
    "    test = pd.read_csv('./test.csv')\n",
    "\n",
    "    train = train.dropna(thresh=150)\n",
    "    train = train.dropna(axis=1, thresh=train.shape[0]*0.9)\n",
    "    test = test[train.columns]\n",
    "\n",
    "    X_train, y_train = split_dataset(train, CLASS)\n",
    "    X_test, y_test = split_dataset(test, CLASS)\n",
    "    y_train = y_train.map({'pos': 1, 'neg': 0})\n",
    "    y_test = y_test.map({'pos': 1, 'neg': 0})\n",
    "    \n",
    "    return X_train, X_test, y_train, y_test\n",
    "\n",
    "data = {}\n",
    "\n",
    "nb = GaussianNB()\n",
    "knn = KNeighborsClassifier(n_neighbors=40)\n",
    "dt = DecisionTreeClassifier(min_samples_split=400, random_state=42)\n",
    "rf = RandomForestClassifier(min_samples_split=400, n_estimators=500, random_state=42, max_features=70)\n",
    "\n",
    "results = {}\n",
    "res_i = 0"
   ]
  },
  {
   "cell_type": "code",
   "execution_count": 2,
   "metadata": {},
   "outputs": [],
   "source": [
    "# Naive Bayes \n",
    "# Best Results -- Thresh drop median and PCA and Undersample 50 - 50\n",
    "X_train, X_test, y_train, y_test = getDataWithThresh()\n",
    "X_train, X_test = X_train.fillna(X_train.median()), X_test.fillna(X_train.median())\n",
    "sets = {0: {'cc_000', 'bx_000'}, 1: {'al_000', 'am_0'}, 2: {0, 'an_000', 'ao_000'}}\n",
    "\n",
    "X_train, X_test = X_train.reset_index(drop=True), X_test.reset_index(drop=True)\n",
    "\n",
    "for group_i in sets:\n",
    "    group = sets[group_i]\n",
    "    group_list = list(group)\n",
    "    group_list.pop(0)\n",
    "    pca = PCA(n_components=1).fit(X_train[group_list])\n",
    "    new = pca.transform(X_train[group_list])\n",
    "    new_test = pca.transform(X_test[group_list])\n",
    "    \n",
    "    new = pd.DataFrame(data=new, columns=['{}'.format(group_i)])\n",
    "    new_test = pd.DataFrame(data=new_test, columns=['{}'.format(group_i)])\n",
    "    X_train = pd.concat([X_train, new], axis=1)\n",
    "    X_test = pd.concat([X_test, new_test], axis=1)\n",
    "    X_train, X_test = X_train.drop(columns=group_list), X_test.drop(columns=group_list)\n",
    "    \n",
    "X_train, X_test = X_train.drop(columns=['cd_000']), X_test.drop(columns=['cd_000'])\n",
    "\n",
    "res = aps_classifier_statistics(nb, X_train, X_test, y_train, y_test)\n",
    "results[res_i] = {'Price': res['score'], 'Classifier': 'Naive Bayes'}\n",
    "res_i += 1\n"
   ]
  },
  {
   "cell_type": "code",
   "execution_count": 3,
   "metadata": {},
   "outputs": [
    {
     "name": "stderr",
     "output_type": "stream",
     "text": [
      "/home/francisconeves/anaconda3/lib/python3.6/site-packages/sklearn/utils/deprecation.py:77: DeprecationWarning: Function _ratio_float is deprecated; Use a float for 'ratio' is deprecated from version 0.2. The support will be removed in 0.4. Use a dict, str, or a callable instead.\n",
      "  warnings.warn(msg, category=DeprecationWarning)\n"
     ]
    }
   ],
   "source": [
    "# Knn\n",
    "# Best results -- SMOTE 50-50 k = 40 mean\n",
    "\n",
    "def balance(X_train, y_train):\n",
    "    balancer = SMOTE(ratio=1.0, random_state=42)\n",
    "    return balancer.fit_sample(X_train, y_train)\n",
    "\n",
    "X_train, X_test, y_train, y_test = getData()\n",
    "X_train, X_test = X_train.fillna(X_train.mean()), X_test.fillna(X_train.mean())\n",
    "X_train, y_train = balance(X_train, y_train)\n",
    "\n",
    "res = aps_classifier_statistics(knn, X_train, X_test, y_train, y_test)\n",
    "results[res_i] = {'Price': res['score'], 'Classifier': 'KNN'}\n",
    "res_i += 1"
   ]
  },
  {
   "cell_type": "code",
   "execution_count": 4,
   "metadata": {},
   "outputs": [
    {
     "data": {
      "text/plain": [
       "{0: {'Price': 13290, 'Classifier': 'Naive Bayes'},\n",
       " 1: {'Price': 13370, 'Classifier': 'KNN'}}"
      ]
     },
     "execution_count": 4,
     "metadata": {},
     "output_type": "execute_result"
    }
   ],
   "source": [
    "results"
   ]
  },
  {
   "cell_type": "code",
   "execution_count": 5,
   "metadata": {},
   "outputs": [
    {
     "name": "stderr",
     "output_type": "stream",
     "text": [
      "/home/francisconeves/anaconda3/lib/python3.6/site-packages/sklearn/utils/deprecation.py:77: DeprecationWarning: Function _ratio_float is deprecated; Use a float for 'ratio' is deprecated from version 0.2. The support will be removed in 0.4. Use a dict, str, or a callable instead.\n",
      "  warnings.warn(msg, category=DeprecationWarning)\n"
     ]
    }
   ],
   "source": [
    "# Decision Tree\n",
    "# Best results -- thresh and median undersampling 70-30 min_samples_split  = 400\n",
    "\n",
    "\n",
    "def getDataFinal():\n",
    "    X_train, X_test, y_train, y_test = getData()\n",
    "    X_train, X_test = X_train.fillna(X_train.median()), X_test.fillna(X_train.median())\n",
    "    def balance(X_train, y_train):\n",
    "        balancer = RandomUnderSampler(ratio=0.3, random_state=42)\n",
    "        X_train_bal, y_train_bal = balancer.fit_sample(X_train, y_train)\n",
    "        return X_train_bal, y_train_bal\n",
    "\n",
    "    X_train, y_train = balance(X_train, y_train)\n",
    "    return X_train, X_test, y_train, y_test\n",
    "\n",
    "X_train, X_test, y_train, y_test = getDataFinal()\n",
    "\n",
    "res = aps_classifier_statistics(dt, X_train, X_test, y_train, y_test)\n",
    "results[res_i] = {'Price': res['score'], 'Classifier': 'Decision Tree'}\n",
    "res_i += 1"
   ]
  },
  {
   "cell_type": "code",
   "execution_count": 6,
   "metadata": {},
   "outputs": [
    {
     "data": {
      "text/plain": [
       "{0: {'Price': 13290, 'Classifier': 'Naive Bayes'},\n",
       " 1: {'Price': 13370, 'Classifier': 'KNN'},\n",
       " 2: {'Price': 10680, 'Classifier': 'Decision Tree'}}"
      ]
     },
     "execution_count": 6,
     "metadata": {},
     "output_type": "execute_result"
    }
   ],
   "source": [
    "results"
   ]
  },
  {
   "cell_type": "code",
   "execution_count": 17,
   "metadata": {},
   "outputs": [
    {
     "name": "stderr",
     "output_type": "stream",
     "text": [
      "/home/francisconeves/anaconda3/lib/python3.6/site-packages/sklearn/utils/deprecation.py:77: DeprecationWarning: Function _ratio_float is deprecated; Use a float for 'ratio' is deprecated from version 0.2. The support will be removed in 0.4. Use a dict, str, or a callable instead.\n",
      "  warnings.warn(msg, category=DeprecationWarning)\n"
     ]
    }
   ],
   "source": [
    "# Random Forest \n",
    "# Best results -- thresh and median undersampling 70-30 min_samples_split = 800\n",
    "\n",
    "\n",
    "def getDataFinal():\n",
    "    X_train, X_test, y_train, y_test = getData()\n",
    "    X_train, X_test = X_train.fillna(X_train.median()), X_test.fillna(X_train.median())\n",
    "    def balance(X_train, y_train):\n",
    "        balancer = RandomUnderSampler(ratio=0.3, random_state=42)\n",
    "        X_train_bal, y_train_bal = balancer.fit_sample(X_train, y_train)\n",
    "        return X_train_bal, y_train_bal\n",
    "\n",
    "    X_train, y_train = balance(X_train, y_train)\n",
    "    return X_train, X_test, y_train, y_test\n",
    "\n",
    "X_train, X_test, y_train, y_test = getDataFinal()\n",
    "\n",
    "res = aps_classifier_statistics(rf, X_train, X_test, y_train, y_test)\n",
    "results[res_i] = {'Price': res['score'], 'Classifier': 'Random Forest'}\n",
    "res_i += 1"
   ]
  },
  {
   "cell_type": "code",
   "execution_count": 18,
   "metadata": {},
   "outputs": [
    {
     "data": {
      "text/plain": [
       "{0: {'Price': 13290, 'Classifier': 'Naive Bayes'},\n",
       " 1: {'Price': 13370, 'Classifier': 'KNN'},\n",
       " 2: {'Price': 10680, 'Classifier': 'Decision Tree'},\n",
       " 3: {'Price': 10720, 'Classifier': 'Random Forest'},\n",
       " 4: {'Price': 10830, 'Classifier': 'Random Forest'},\n",
       " 5: {'Price': 13270, 'Classifier': 'Random Forest'},\n",
       " 6: {'Price': 10720, 'Classifier': 'Random Forest'}}"
      ]
     },
     "execution_count": 18,
     "metadata": {},
     "output_type": "execute_result"
    }
   ],
   "source": [
    "results"
   ]
  },
  {
   "cell_type": "code",
   "execution_count": 9,
   "metadata": {},
   "outputs": [],
   "source": [
    "measures = pd.DataFrame.from_dict(results, \"index\")"
   ]
  },
  {
   "cell_type": "code",
   "execution_count": 10,
   "metadata": {},
   "outputs": [],
   "source": [
    "measures.to_csv('plot_data/best_results.csv')"
   ]
  }
 ],
 "metadata": {
  "kernelspec": {
   "display_name": "Python 3",
   "language": "python",
   "name": "python3"
  },
  "language_info": {
   "codemirror_mode": {
    "name": "ipython",
    "version": 3
   },
   "file_extension": ".py",
   "mimetype": "text/x-python",
   "name": "python",
   "nbconvert_exporter": "python",
   "pygments_lexer": "ipython3",
   "version": "3.6.5"
  }
 },
 "nbformat": 4,
 "nbformat_minor": 2
}
