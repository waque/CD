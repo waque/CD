{
 "cells": [
  {
   "cell_type": "code",
   "execution_count": 234,
   "metadata": {},
   "outputs": [],
   "source": [
    "import pandas as pd\n",
    "import numpy as np\n",
    "import seaborn as sns\n",
    "import matplotlib.pyplot as plt\n",
    "import sys\n",
    "sys.path.append('..')\n",
    "from utils_cd import (\n",
    "        split_dataset,\n",
    "        standard_deviation,\n",
    "        plot_comparison_results,\n",
    "        impute_values,\n",
    "        plot_results,\n",
    "        plot_param_improv,\n",
    "        plot_results_from_csv,\n",
    "        aps_classifier_statistics\n",
    ")\n",
    "from sklearn.neighbors import KNeighborsClassifier\n",
    "from sklearn.tree import DecisionTreeClassifier\n",
    "from sklearn.ensemble import RandomForestClassifier\n",
    "from sklearn.naive_bayes import GaussianNB, MultinomialNB, BernoulliNB\n",
    "from sklearn.decomposition import PCA\n",
    "from sklearn.feature_selection import SelectKBest\n",
    "from sklearn.feature_selection import chi2\n",
    "from sklearn.preprocessing import Normalizer, StandardScaler\n",
    "from imblearn.over_sampling import SMOTE\n",
    "from imblearn.under_sampling import RandomUnderSampler\n",
    "from sklearn.decomposition import PCA\n",
    "\n",
    "pd.options.display.max_columns = None\n",
    "sns.set(style='darkgrid')\n",
    "\n",
    "CLASS = 'class'\n",
    "train = pd.read_csv('./aps_failure_training_set.csv',\n",
    "                        skiprows=20,keep_default_na=False, na_values='na')\n",
    "test = pd.read_csv('./aps_failure_test_set.csv',\n",
    "                        skiprows=20,keep_default_na=False, na_values='na')\n",
    "\n",
    "train = train.dropna(thresh=150)\n",
    "\n",
    "X_train, y_train = split_dataset(train, CLASS)\n",
    "X_test, y_test = split_dataset(test, CLASS)\n",
    "y_train = y_train.map({'pos': 1, 'neg': 0})\n",
    "y_test = y_test.map({'pos': 1, 'neg': 0})\n",
    "\n",
    "aps = pd.concat([X_train, X_test])\n",
    "\n",
    "clf = GaussianNB()\n",
    "results = {}\n",
    "res_i = 0"
   ]
  },
  {
   "cell_type": "markdown",
   "metadata": {},
   "source": [
    "Fill with 0"
   ]
  },
  {
   "cell_type": "code",
   "execution_count": 235,
   "metadata": {},
   "outputs": [],
   "source": [
    "X_train, X_test = X_train.fillna(0), X_test.fillna(0)"
   ]
  },
  {
   "cell_type": "code",
   "execution_count": 236,
   "metadata": {},
   "outputs": [
    {
     "name": "stdout",
     "output_type": "stream",
     "text": [
      "{'predicted': array([0, 0, 0, ..., 0, 0, 0]), 'accuracy': 0.9605, 'confusion_matrix': array([[15013,   612],\n",
      "       [   20,   355]]), 'sensibility': 0.9466666666666667, 'specificity': 0.960832, 'score': 16120}\n"
     ]
    }
   ],
   "source": [
    "res = aps_classifier_statistics(clf, X_train, X_test, y_train, y_test)\n",
    "results[res_i] = {'Price': res['score'], 'Transformation': 'Baseline'}\n",
    "res_i += 1\n",
    "print(res)"
   ]
  },
  {
   "cell_type": "code",
   "execution_count": 231,
   "metadata": {},
   "outputs": [],
   "source": [
    "X_train, X_test = X_train.drop(columns=['cd_000']), X_test.drop(columns=['cd_000'])"
   ]
  },
  {
   "cell_type": "markdown",
   "metadata": {},
   "source": [
    "Drop column with no stddev"
   ]
  },
  {
   "cell_type": "code",
   "execution_count": 232,
   "metadata": {},
   "outputs": [
    {
     "name": "stdout",
     "output_type": "stream",
     "text": [
      "{'predicted': array([0, 0, 0, ..., 0, 0, 0]), 'accuracy': 0.96125, 'confusion_matrix': array([[15026,   599],\n",
      "       [   21,   354]]), 'sensibility': 0.944, 'specificity': 0.961664, 'score': 16490}\n"
     ]
    }
   ],
   "source": [
    "res = aps_classifier_statistics(clf, X_train, X_test, y_train, y_test)\n",
    "results[res_i] = {'Price': res['score'], 'Transformation': 'Drop cd_000'}\n",
    "res_i += 1\n",
    "print(res)"
   ]
  },
  {
   "cell_type": "code",
   "execution_count": 237,
   "metadata": {},
   "outputs": [],
   "source": [
    "sets = {0: {'bb_000', 'bv_000', 'bu_000', 'cq_000'}, 1: {'ah_000', 'bg_000'}, 2: {'bt_000', 'aa_000'}, 3: {'cf_000', 'co_000', 'ad_000'}}\n",
    "\n",
    "X_train, X_test = X_train.reset_index(drop=True), X_test.reset_index(drop=True)\n",
    "\n",
    "for group_i in sets:\n",
    "    group = sets[group_i]\n",
    "    group_list = list(group)\n",
    "    pca = PCA(n_components=1).fit(X_train[group_list])\n",
    "    new = pca.transform(X_train[group_list])\n",
    "    new_test = pca.transform(X_test[group_list])\n",
    "    \n",
    "    new = pd.DataFrame(data=new)\n",
    "    new_test = pd.DataFrame(data=new_test)\n",
    "    X_train = pd.concat([X_train, new], axis=1)\n",
    "    X_test = pd.concat([X_test, new_test], axis=1)\n",
    "    #X_train, X_test = X_train.drop(columns=group_list), X_test.drop(columns=group_list)\n",
    "    \n",
    "#X_train, X_test = X_train.drop(columns=excluded_columns), X_test.drop(columns=excluded_columns)"
   ]
  },
  {
   "cell_type": "code",
   "execution_count": 181,
   "metadata": {},
   "outputs": [
    {
     "data": {
      "text/plain": [
       "175"
      ]
     },
     "execution_count": 181,
     "metadata": {},
     "output_type": "execute_result"
    }
   ],
   "source": [
    "X_train.shape[1]"
   ]
  },
  {
   "cell_type": "code",
   "execution_count": 238,
   "metadata": {},
   "outputs": [
    {
     "name": "stdout",
     "output_type": "stream",
     "text": [
      "{'predicted': array([0, 0, 0, ..., 0, 0, 0]), 'accuracy': 0.959, 'confusion_matrix': array([[14989,   636],\n",
      "       [   20,   355]]), 'sensibility': 0.9466666666666667, 'specificity': 0.959296, 'score': 16360}\n"
     ]
    }
   ],
   "source": [
    "res = aps_classifier_statistics(clf, X_train, X_test, y_train, y_test)\n",
    "results[res_i] = {'Price': res['score'], 'Transformation': 'PCA Attributes'}\n",
    "res_i += 1\n",
    "print(res)"
   ]
  },
  {
   "cell_type": "markdown",
   "metadata": {},
   "source": [
    "Heuristic line removal"
   ]
  },
  {
   "cell_type": "code",
   "execution_count": 239,
   "metadata": {},
   "outputs": [
    {
     "name": "stdout",
     "output_type": "stream",
     "text": [
      "{'predicted': array([0, 0, 0, ..., 0, 0, 0]), 'accuracy': 0.957125, 'confusion_matrix': array([[14959,   666],\n",
      "       [   20,   355]]), 'sensibility': 0.9466666666666667, 'specificity': 0.957376, 'score': 16660}\n",
      "{'predicted': array([0, 0, 0, ..., 0, 0, 0]), 'accuracy': 0.96275, 'confusion_matrix': array([[15060,   565],\n",
      "       [   31,   344]]), 'sensibility': 0.9173333333333333, 'specificity': 0.96384, 'score': 21150}\n"
     ]
    },
    {
     "name": "stderr",
     "output_type": "stream",
     "text": [
      "/home/francisconeves/anaconda3/lib/python3.6/site-packages/sklearn/utils/deprecation.py:77: DeprecationWarning: Function _ratio_float is deprecated; Use a float for 'ratio' is deprecated from version 0.2. The support will be removed in 0.4. Use a dict, str, or a callable instead.\n",
      "  warnings.warn(msg, category=DeprecationWarning)\n",
      "/home/francisconeves/anaconda3/lib/python3.6/site-packages/sklearn/utils/deprecation.py:77: DeprecationWarning: Function _ratio_float is deprecated; Use a float for 'ratio' is deprecated from version 0.2. The support will be removed in 0.4. Use a dict, str, or a callable instead.\n",
      "  warnings.warn(msg, category=DeprecationWarning)\n"
     ]
    },
    {
     "name": "stdout",
     "output_type": "stream",
     "text": [
      "{'predicted': array([0, 0, 0, ..., 0, 0, 0]), 'accuracy': 0.957375, 'confusion_matrix': array([[14962,   663],\n",
      "       [   19,   356]]), 'sensibility': 0.9493333333333334, 'specificity': 0.957568, 'score': 16130}\n"
     ]
    },
    {
     "name": "stderr",
     "output_type": "stream",
     "text": [
      "/home/francisconeves/anaconda3/lib/python3.6/site-packages/sklearn/utils/deprecation.py:77: DeprecationWarning: Function _ratio_float is deprecated; Use a float for 'ratio' is deprecated from version 0.2. The support will be removed in 0.4. Use a dict, str, or a callable instead.\n",
      "  warnings.warn(msg, category=DeprecationWarning)\n"
     ]
    },
    {
     "name": "stdout",
     "output_type": "stream",
     "text": [
      "{'predicted': array([0, 0, 0, ..., 0, 0, 0]), 'accuracy': 0.9573125, 'confusion_matrix': array([[14961,   664],\n",
      "       [   19,   356]]), 'sensibility': 0.9493333333333334, 'specificity': 0.957504, 'score': 16140}\n"
     ]
    },
    {
     "data": {
      "text/plain": [
       "'\\nplt.figure(figsize=(12,6))\\nmeasures = pd.DataFrame.from_dict(measures, \"index\")\\nmeasures.to_csv(\\'plot_data/{}.csv\\'.format(filename))\\n    \\nax = sns.barplot(x=\\'Technique\\', y=\\'Price\\', data=measures)\\n\\nfor p in ax.patches:\\n    ax.text(p.get_x() + p.get_width()/2., p.get_height(), \\'{}\\'.format(int(p.get_height())), \\n        fontsize=8, color=\\'black\\', ha=\\'center\\', va=\\'bottom\\')\\n\\nplt.savefig(\\'images/{}.pdf\\'.format(filename))\\nplt.clf()\\n'"
      ]
     },
     "execution_count": 239,
     "metadata": {},
     "output_type": "execute_result"
    }
   ],
   "source": [
    "balancers = [(RandomUnderSampler(random_state=42), 'Undersample 50-50'), (RandomUnderSampler(ratio=0.3, random_state=42), 'Undersample 70-30'), (SMOTE(ratio=1.0, random_state=42), 'SMOTE 50-50'), (SMOTE(ratio=0.3, random_state=42), 'SMOTE 70-30')]\n",
    "filename = 'nb_balancing'\n",
    "measures = {}\n",
    "i = 0\n",
    "\n",
    "for balancer, name in balancers:\n",
    "    X_train_bal, y_train_bal = balancer.fit_sample(X_train, y_train)\n",
    "    res = aps_classifier_statistics(clf, X_train_bal, X_test, y_train_bal, y_test)\n",
    "    print(res)\n",
    "    \n",
    "    measures[i] = {'Price': res['score'], 'Technique': name}\n",
    "    i += 1\n",
    "\n",
    "results[res_i] = {'Price': measures[1]['Price'], 'Transformation': 'Undersampling 70-30'}\n",
    "res_i += 1\n",
    "\"\"\"\n",
    "plt.figure(figsize=(12,6))\n",
    "measures = pd.DataFrame.from_dict(measures, \"index\")\n",
    "measures.to_csv('plot_data/{}.csv'.format(filename))\n",
    "    \n",
    "ax = sns.barplot(x='Technique', y='Price', data=measures)\n",
    "\n",
    "for p in ax.patches:\n",
    "    ax.text(p.get_x() + p.get_width()/2., p.get_height(), '{}'.format(int(p.get_height())), \n",
    "        fontsize=8, color='black', ha='center', va='bottom')\n",
    "\n",
    "plt.savefig('images/{}.pdf'.format(filename))\n",
    "plt.clf()\n",
    "\"\"\""
   ]
  },
  {
   "cell_type": "code",
   "execution_count": 205,
   "metadata": {},
   "outputs": [
    {
     "data": {
      "text/plain": [
       "<Figure size 864x432 with 0 Axes>"
      ]
     },
     "metadata": {},
     "output_type": "display_data"
    }
   ],
   "source": [
    "final_results = pd.DataFrame.from_dict(results, \"index\")\n",
    "#filename = 'nb_final_results'\n",
    "\n",
    "plt.figure(figsize=(12,6))\n",
    "#final_results.to_csv('plot_data/{}.csv'.format(filename))\n",
    "    \n",
    "ax = sns.barplot(x='Transformation', y='Price', data=final_results)\n",
    "\n",
    "for p in ax.patches:\n",
    "    ax.text(p.get_x() + p.get_width()/2., p.get_height(), '{}'.format(int(p.get_height())), \n",
    "        fontsize=8, color='black', ha='center', va='bottom')\n",
    "\n",
    "#plt.savefig('images/{}.pdf'.format(filename))\n",
    "plt.clf()"
   ]
  },
  {
   "cell_type": "code",
   "execution_count": 224,
   "metadata": {},
   "outputs": [
    {
     "name": "stdout",
     "output_type": "stream",
     "text": [
      "   Price       Transformation\n",
      "0  16120             Baseline\n",
      "1  16120          Drop cd_000\n",
      "2  16400       PCA Attributes\n",
      "3  21200  Undersampling 70-30\n"
     ]
    }
   ],
   "source": [
    "print(final_results)"
   ]
  },
  {
   "cell_type": "code",
   "execution_count": 240,
   "metadata": {},
   "outputs": [
    {
     "name": "stderr",
     "output_type": "stream",
     "text": [
      "/home/francisconeves/anaconda3/lib/python3.6/site-packages/sklearn/utils/deprecation.py:77: DeprecationWarning: Function _ratio_float is deprecated; Use a float for 'ratio' is deprecated from version 0.2. The support will be removed in 0.4. Use a dict, str, or a callable instead.\n",
      "  warnings.warn(msg, category=DeprecationWarning)\n"
     ]
    }
   ],
   "source": [
    "def bin_transform(X_train, X_test):\n",
    "    bin_columns = ['ag_00', 'ay_00', 'az_00', 'ba_00', 'cn_00', 'cs_00', 'ee_00']\n",
    "\n",
    "    for column in bin_columns:\n",
    "        remove_cols = []\n",
    "        first_column = '{}0'.format(column)\n",
    "        remove_cols.append(first_column)\n",
    "        new_col = X_train[first_column]\n",
    "        new_col_test = X_test[first_column]\n",
    "        #print(X_train[first_column].mode()[0])\n",
    "        #print(X_train[first_column].value_counts()[0])\n",
    "\n",
    "        for i in range(1, 10):\n",
    "            col_name = '{}{}'.format(column, i)\n",
    "            remove_cols.append(col_name)\n",
    "            \n",
    "        pca = PCA(0.95).fit(X_train[remove_cols])\n",
    "        new = pca.transform(X_train[remove_cols])\n",
    "        new_test = pca.transform(X_test[remove_cols])\n",
    "\n",
    "        new = pd.DataFrame(data=new)\n",
    "        new_test = pd.DataFrame(data=new_test)\n",
    "        X_train = pd.concat([X_train, new], axis=1)\n",
    "        X_test = pd.concat([X_test, new_test], axis=1)\n",
    "        #X_train, X_test = X_train.drop(columns=group_list), X_test.drop(columns=group_list)\n",
    "\n",
    "        \n",
    "    return X_train, X_test\n",
    "\n",
    "X_train, X_test = bin_transform(X_train, X_test)\n",
    "X_train, y_train = RandomUnderSampler(ratio=0.3, random_state=42).fit_sample(X_train, y_train)"
   ]
  },
  {
   "cell_type": "code",
   "execution_count": 241,
   "metadata": {},
   "outputs": [
    {
     "name": "stdout",
     "output_type": "stream",
     "text": [
      "{'predicted': array([0, 0, 0, ..., 0, 0, 0]), 'accuracy': 0.9624375, 'confusion_matrix': array([[15053,   572],\n",
      "       [   29,   346]]), 'sensibility': 0.9226666666666666, 'specificity': 0.963392, 'score': 20220}\n"
     ]
    }
   ],
   "source": [
    "res = aps_classifier_statistics(clf, X_train, X_test, y_train, y_test)\n",
    "results[res_i] = {'Price': res['score'], 'Transformation': 'PCA Attributes'}\n",
    "res_i += 1\n",
    "print(res)"
   ]
  }
 ],
 "metadata": {
  "kernelspec": {
   "display_name": "Python 3",
   "language": "python",
   "name": "python3"
  },
  "language_info": {
   "codemirror_mode": {
    "name": "ipython",
    "version": 3
   },
   "file_extension": ".py",
   "mimetype": "text/x-python",
   "name": "python",
   "nbconvert_exporter": "python",
   "pygments_lexer": "ipython3",
   "version": "3.7.0"
  }
 },
 "nbformat": 4,
 "nbformat_minor": 2
}
