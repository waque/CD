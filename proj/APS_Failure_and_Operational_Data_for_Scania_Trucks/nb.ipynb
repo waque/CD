{
 "cells": [
  {
   "cell_type": "code",
   "execution_count": 1,
   "metadata": {},
   "outputs": [],
   "source": [
    "import pandas as pd\n",
    "import numpy as np\n",
    "import seaborn as sns\n",
    "import matplotlib.pyplot as plt\n",
    "import sys\n",
    "sys.path.append('..')\n",
    "from utils_cd import (\n",
    "        split_dataset,\n",
    "        standard_deviation,\n",
    "        plot_comparison_results,\n",
    "        impute_values,\n",
    "        plot_results,\n",
    "        plot_param_improv,\n",
    "        plot_results_from_csv,\n",
    "        aps_classifier_statistics,\n",
    "        aps_score,\n",
    ")\n",
    "from sklearn.neighbors import KNeighborsClassifier\n",
    "from sklearn.tree import DecisionTreeClassifier\n",
    "from sklearn.ensemble import RandomForestClassifier\n",
    "from sklearn.naive_bayes import GaussianNB, MultinomialNB, BernoulliNB\n",
    "from sklearn.decomposition import PCA\n",
    "from sklearn.feature_selection import SelectKBest\n",
    "from sklearn.feature_selection import chi2\n",
    "from sklearn.preprocessing import Normalizer, StandardScaler\n",
    "from imblearn.over_sampling import SMOTE\n",
    "from imblearn.under_sampling import RandomUnderSampler\n",
    "from sklearn.decomposition import PCA\n",
    "from sklearn.base import clone\n",
    "\n",
    "pd.options.display.max_columns = None\n",
    "sns.set(style='darkgrid')\n",
    "\n",
    "CLASS = 'class'\n",
    "\n",
    "def getData():\n",
    "    train = pd.read_csv('./train.csv')\n",
    "    test = pd.read_csv('./test.csv')\n",
    "\n",
    "    X_train, y_train = split_dataset(train, CLASS)\n",
    "    X_test, y_test = split_dataset(test, CLASS)\n",
    "    y_train = y_train.map({'pos': 1, 'neg': 0})\n",
    "    y_test = y_test.map({'pos': 1, 'neg': 0})\n",
    "    \n",
    "    return X_train, X_test, y_train, y_test\n",
    "\n",
    "def getDataWithThresh():\n",
    "    train = pd.read_csv('./train.csv')\n",
    "    test = pd.read_csv('./test.csv')\n",
    "\n",
    "    train = train.dropna(thresh=150)\n",
    "    train = train.dropna(axis=1, thresh=train.shape[0]*0.9)\n",
    "    test = test[train.columns]\n",
    "\n",
    "    X_train, y_train = split_dataset(train, CLASS)\n",
    "    X_test, y_test = split_dataset(test, CLASS)\n",
    "    y_train = y_train.map({'pos': 1, 'neg': 0})\n",
    "    y_test = y_test.map({'pos': 1, 'neg': 0})\n",
    "    \n",
    "    return X_train, X_test, y_train, y_test\n",
    "\n",
    "def plot_comparisons(clf, data, filename='nb_comparison'):\n",
    "    clf = clone(clf)\n",
    "    sns.set(style='darkgrid')\n",
    "    measures_dict = {}\n",
    "    i = 0\n",
    "    results = {}\n",
    "    for technique in data:\n",
    "        X_train, X_test, y_train = data[technique]\n",
    "        print(technique)\n",
    "        res = aps_classifier_statistics(clf, X_train, X_test, y_train, y_test)\n",
    "        score = aps_score(res['confusion_matrix'])\n",
    "        measures_dict[i] = {'Technique': technique, 'Price': score}\n",
    "        i += 1\n",
    "    \n",
    "    measures = pd.DataFrame.from_dict(measures_dict, \"index\")\n",
    "    measures.to_csv('plot_data/{}.csv'.format(filename), index=False)\n",
    "\n",
    "    return results\n",
    "\n",
    "def plot_overfit_comparisons(clf, data, filename='nb_comparison_overfit'):\n",
    "    clf = clone(clf)\n",
    "    sns.set(style='darkgrid')\n",
    "    measures_dict = {}\n",
    "    i = 0\n",
    "    results = {}\n",
    "    for technique in data:\n",
    "        X_train, X_test, y_train = data[technique]\n",
    "        print(technique)\n",
    "        res_train = aps_classifier_statistics(clf, X_train, X_train, y_train, y_train)\n",
    "        res_test = aps_classifier_statistics(clf, X_train, X_test, y_train, y_test)\n",
    "        measures_dict[i] = {'Technique': technique, 'Test': 'Train', 'Accuracy': res_train['accuracy'], 'ROC AUC': res_train['auc']}\n",
    "        i += 1\n",
    "        measures_dict[i] = {'Technique': technique, 'Test': 'Test', 'Accuracy': res_test['accuracy'], 'ROC AUC': res_test['auc']}\n",
    "        i += 1\n",
    "                            \n",
    "    measures = pd.DataFrame.from_dict(measures_dict, \"index\")\n",
    "    measures.to_csv('plot_data/{}.csv'.format(filename), index=False)\n",
    "\n",
    "    return results\n",
    "\n",
    "data = {}"
   ]
  },
  {
   "cell_type": "code",
   "execution_count": 2,
   "metadata": {},
   "outputs": [],
   "source": [
    "clf = GaussianNB()"
   ]
  },
  {
   "cell_type": "code",
   "execution_count": 3,
   "metadata": {},
   "outputs": [],
   "source": [
    "X_train, X_test, y_train, y_test = getData()\n",
    "X_train_median, X_test_median = X_train.fillna(X_train.median()), X_test.fillna(X_train.median())\n",
    "\n",
    "data['Baseline'] = (X_train_median, X_test_median, y_train)\n",
    "\n",
    "X_train, X_test, y_train, y_test = getDataWithThresh()\n",
    "X_train_median, X_test_median = X_train.fillna(X_train.median()), X_test.fillna(X_train.median())\n",
    "\n",
    "data['Column and Lines Drop'] =  (X_train_median, X_test_median, y_train)"
   ]
  },
  {
   "cell_type": "code",
   "execution_count": 4,
   "metadata": {},
   "outputs": [
    {
     "name": "stdout",
     "output_type": "stream",
     "text": [
      "Baseline\n",
      "Column and Lines Drop\n"
     ]
    },
    {
     "data": {
      "text/plain": [
       "{}"
      ]
     },
     "execution_count": 4,
     "metadata": {},
     "output_type": "execute_result"
    }
   ],
   "source": [
    "plot_comparisons(clf, data, filename='nb_comparison')"
   ]
  },
  {
   "cell_type": "code",
   "execution_count": 5,
   "metadata": {},
   "outputs": [
    {
     "name": "stdout",
     "output_type": "stream",
     "text": [
      "  level_0 level_1    0\n",
      "0  bb_000  bv_000  1.0\n",
      "1  ah_000  bg_000  1.0\n",
      "2  bu_000  cq_000  1.0\n",
      "3  aa_000  bt_000  1.0\n",
      "4  bb_000  cq_000  1.0\n"
     ]
    }
   ],
   "source": [
    "def attribute_corr(df, top):\n",
    "        \n",
    "    def get_redundant_pairs(df):\n",
    "        '''Get diagonal and lower triangular pairs of correlation matrix'''\n",
    "        pairs_to_drop = set()\n",
    "        cols = df.columns\n",
    "        for i in range(0, df.shape[1]):\n",
    "            for j in range(0, i+1):\n",
    "                pairs_to_drop.add((cols[i], cols[j]))\n",
    "        return pairs_to_drop\n",
    "\n",
    "    def get_top_abs_correlations(df, n=5):\n",
    "        au_corr = df.corr().abs().unstack()\n",
    "        labels_to_drop = get_redundant_pairs(df)\n",
    "        au_corr = au_corr.drop(labels=labels_to_drop).sort_values(ascending=False)\n",
    "        return au_corr[0:n]\n",
    "\n",
    "    \n",
    "    return get_top_abs_correlations(df, top)\n",
    "\n",
    "correlated_features = attribute_corr(X_train, 5)\n",
    "correlated_features = correlated_features.reset_index()\n",
    "print(correlated_features)"
   ]
  },
  {
   "cell_type": "code",
   "execution_count": 6,
   "metadata": {},
   "outputs": [
    {
     "name": "stdout",
     "output_type": "stream",
     "text": [
      "Attribute sets {0: {'bv_000', 'cq_000', 'bb_000'}, 1: {'ah_000', 'bg_000'}, 2: {'cq_000', 'bu_000', 'bb_000'}, 3: {'aa_000', 'bt_000'}}\n"
     ]
    }
   ],
   "source": [
    "equal_attrs = {}\n",
    "all_attrs = set([])\n",
    "sets = 0\n",
    "for index, corr in correlated_features.iterrows():\n",
    "    attr1 = corr['level_0']\n",
    "    attr2 = corr['level_1']\n",
    "    \n",
    "    present = False\n",
    "    if attr1 in equal_attrs:\n",
    "        equal_attrs[attr1].append(attr1)\n",
    "    for attr in equal_attrs:\n",
    "        if attr1 in equal_attrs[attr] or attr2 in equal_attrs[attr]:\n",
    "            equal_attrs[attr].add(attr1)\n",
    "            equal_attrs[attr].add(attr2)\n",
    "            present = True\n",
    "            \n",
    "    if not present:\n",
    "        equal_attrs[sets] = set([attr1, attr2])\n",
    "        sets += 1\n",
    "excluded_columns = [item for item in all_attrs if item not in best_attrs]\n",
    "print('Attribute sets {}'.format(equal_attrs))\n"
   ]
  },
  {
   "cell_type": "code",
   "execution_count": 7,
   "metadata": {},
   "outputs": [
    {
     "name": "stdout",
     "output_type": "stream",
     "text": [
      "Attributes with 0 standard deviation ['cd_000']\n"
     ]
    }
   ],
   "source": [
    "no_std_dev = []\n",
    "for col in X_train:\n",
    "    std_dev = standard_deviation(X_train[col])\n",
    "    if std_dev == 0:\n",
    "        no_std_dev.append(col)\n",
    "        \n",
    "print('Attributes with 0 standard deviation {}'.format(no_std_dev))"
   ]
  },
  {
   "cell_type": "code",
   "execution_count": 8,
   "metadata": {},
   "outputs": [],
   "source": [
    "X_train, X_test, y_train, y_test = getDataWithThresh()\n",
    "X_train, X_test = X_train.fillna(X_train.median()), X_test.fillna(X_train.median())\n",
    "sets = {0: {'cc_000', 'bx_000'}, 1: {'al_000', 'am_0'}, 2: {0, 'an_000', 'ao_000'}}\n",
    "\n",
    "X_train, X_test = X_train.reset_index(drop=True), X_test.reset_index(drop=True)\n",
    "\n",
    "for group_i in sets:\n",
    "    group = sets[group_i]\n",
    "    group_list = list(group)\n",
    "    group_list.pop(0)\n",
    "    pca = PCA(n_components=1).fit(X_train[group_list])\n",
    "    new = pca.transform(X_train[group_list])\n",
    "    new_test = pca.transform(X_test[group_list])\n",
    "    \n",
    "    new = pd.DataFrame(data=new, columns=['{}'.format(group_i)])\n",
    "    new_test = pd.DataFrame(data=new_test, columns=['{}'.format(group_i)])\n",
    "    X_train = pd.concat([X_train, new], axis=1)\n",
    "    X_test = pd.concat([X_test, new_test], axis=1)\n",
    "    X_train, X_test = X_train.drop(columns=group_list), X_test.drop(columns=group_list)\n",
    "    \n",
    "X_train, X_test = X_train.drop(columns=['cd_000']), X_test.drop(columns=['cd_000'])\n",
    "#X_train, X_test = X_train.drop(columns=excluded_columns), X_test.drop(columns=excluded_columns)"
   ]
  },
  {
   "cell_type": "code",
   "execution_count": 9,
   "metadata": {},
   "outputs": [
    {
     "name": "stdout",
     "output_type": "stream",
     "text": [
      "Baseline\n",
      "Column and Lines Drop\n",
      "PCA\n"
     ]
    },
    {
     "data": {
      "text/plain": [
       "{}"
      ]
     },
     "execution_count": 9,
     "metadata": {},
     "output_type": "execute_result"
    }
   ],
   "source": [
    "data['PCA'] =  (X_train, X_test, y_train)\n",
    "plot_comparisons(clf, data, filename='nb_comparison')"
   ]
  },
  {
   "cell_type": "code",
   "execution_count": 10,
   "metadata": {},
   "outputs": [
    {
     "name": "stdout",
     "output_type": "stream",
     "text": [
      "Baseline\n",
      "Column and Lines Drop\n",
      "PCA\n",
      "Undersample 50-50\n"
     ]
    },
    {
     "data": {
      "text/plain": [
       "{}"
      ]
     },
     "execution_count": 10,
     "metadata": {},
     "output_type": "execute_result"
    }
   ],
   "source": [
    "balancer = RandomUnderSampler(random_state=42)\n",
    "X_train_bal, y_train_bal = balancer.fit_sample(X_train, y_train)\n",
    "data['Undersample 50-50'] =  (X_train_bal, X_test, y_train_bal)\n",
    "plot_comparisons(clf, data, filename='nb_comparison')"
   ]
  },
  {
   "cell_type": "code",
   "execution_count": 11,
   "metadata": {},
   "outputs": [
    {
     "name": "stdout",
     "output_type": "stream",
     "text": [
      "Baseline\n",
      "Column and Lines Drop\n",
      "PCA\n",
      "Undersample 50-50\n"
     ]
    },
    {
     "data": {
      "text/plain": [
       "{}"
      ]
     },
     "execution_count": 11,
     "metadata": {},
     "output_type": "execute_result"
    }
   ],
   "source": [
    "plot_overfit_comparisons(clf, data, filename='nb_comparison_overfit')"
   ]
  },
  {
   "cell_type": "code",
   "execution_count": null,
   "metadata": {},
   "outputs": [],
   "source": []
  }
 ],
 "metadata": {
  "kernelspec": {
   "display_name": "Python 3",
   "language": "python",
   "name": "python3"
  },
  "language_info": {
   "codemirror_mode": {
    "name": "ipython",
    "version": 3
   },
   "file_extension": ".py",
   "mimetype": "text/x-python",
   "name": "python",
   "nbconvert_exporter": "python",
   "pygments_lexer": "ipython3",
   "version": "3.6.5"
  }
 },
 "nbformat": 4,
 "nbformat_minor": 2
}
