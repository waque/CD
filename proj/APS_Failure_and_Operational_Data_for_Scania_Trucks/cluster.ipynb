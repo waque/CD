{
 "cells": [
  {
   "cell_type": "code",
   "execution_count": 5,
   "metadata": {},
   "outputs": [],
   "source": [
    "from sklearn.datasets import load_iris\n",
    "from sklearn.preprocessing import StandardScaler\n",
    "import pandas as pd\n",
    "import time, warnings\n",
    "import numpy as np\n",
    "import matplotlib.pyplot as plt\n",
    "from itertools import cycle, islice\n",
    "from sklearn import cluster, datasets, mixture\n",
    "from sklearn.neighbors import kneighbors_graph\n",
    "from sklearn.preprocessing import StandardScaler\n",
    "from sklearn.cluster import KMeans"
   ]
  },
  {
   "cell_type": "code",
   "execution_count": 6,
   "metadata": {},
   "outputs": [],
   "source": [
    "train = pd.read_csv('./aps_failure_training_set.csv',\n",
    "                        skiprows=20,keep_default_na=False, na_values='na')\n",
    "test = pd.read_csv('./aps_failure_test_set.csv',\n",
    "                        skiprows=20,keep_default_na=False, na_values='na')\n",
    "\n",
    "aps = pd.concat([train, test])\n",
    "aps = aps.drop(columns=['class'])\n",
    "aps = aps.fillna(aps.median())"
   ]
  },
  {
   "cell_type": "code",
   "execution_count": 7,
   "metadata": {},
   "outputs": [
    {
     "name": "stderr",
     "output_type": "stream",
     "text": [
      "/home/francisconeves/anaconda3/lib/python3.6/site-packages/sklearn/preprocessing/data.py:617: DataConversionWarning: Data with input dtype int64, float64 were all converted to float64 by StandardScaler.\n",
      "  return self.partial_fit(X, y)\n",
      "/home/francisconeves/anaconda3/lib/python3.6/site-packages/ipykernel_launcher.py:5: DataConversionWarning: Data with input dtype int64, float64 were all converted to float64 by StandardScaler.\n",
      "  \"\"\"\n"
     ]
    }
   ],
   "source": [
    "# Scaling data\n",
    "\n",
    "scaler = StandardScaler()\n",
    "scaler.fit(aps)\n",
    "aps = scaler.transform(aps)"
   ]
  },
  {
   "cell_type": "code",
   "execution_count": 8,
   "metadata": {},
   "outputs": [],
   "source": [
    "estimators = [('K means 2 clusters', KMeans(n_clusters=2)),\n",
    "             ('K means 3 clusters', KMeans(n_clusters=3))]"
   ]
  },
  {
   "cell_type": "code",
   "execution_count": null,
   "metadata": {},
   "outputs": [],
   "source": [
    "for name, est in estimators:\n",
    "    "
   ]
  },
  {
   "cell_type": "code",
   "execution_count": null,
   "metadata": {},
   "outputs": [],
   "source": [
    "y_preds = {}\n",
    "for name, algorithm in clustering_algorithms:\n",
    "    t0 = time.time()\n",
    "    # catch warnings related to kneighbors_graph\n",
    "    with warnings.catch_warnings():\n",
    "        warnings.filterwarnings(\"ignore\",message=\"the number of connected components of the \" +\"connectivity matrix is [0-9]{1,2}\" +\" > 1. Completing it to avoid stopping the tree early.\",category=UserWarning)\n",
    "        warnings.filterwarnings(\"ignore\",message=\"Graph is not fully connected, spectral embedding\" +\" may not work as expected.\",category=UserWarning)\n",
    "        algorithm.fit(X)\n",
    "        t1 = time.time()\n",
    "    if hasattr(algorithm, 'labels_'):\n",
    "        y_pred = algorithm.labels_.astype(np.int)\n",
    "    else:\n",
    "        y_pred = algorithm.predict(X)\n",
    "    y_preds[name] = y_pred\n",
    "    plt.subplot(len(datasets), len(clustering_algorithms), plot_num)\n",
    "    if i_dataset == 0:\n",
    "        plt.title(name, size=18)\n",
    "    colors = np.array(list(islice(cycle(['#377eb8', '#ff7f00', '#4daf4a','#f781bf', '#a65628', '#984ea3','#999999', '#e41a1c', '#dede00']),int(max(y_pred) + 1))))\n",
    "    # add black color for outliers (if any)\n",
    "    colors = np.append(colors, [\"#000000\"])\n",
    "    plt.scatter(X[:, 0], X[:, 1], s=10, color=colors[y_pred])\n",
    "    plt.xlim(-2.5, 2.5)\n",
    "    plt.ylim(-2.5, 2.5)\n",
    "    plt.xticks(())\n",
    "    plt.yticks(())\n",
    "    plot_num += 1\n",
    "    plt.savefig('cluster/{}.pdf'.format(name))\n",
    "    "
   ]
  }
 ],
 "metadata": {
  "kernelspec": {
   "display_name": "Python 3",
   "language": "python",
   "name": "python3"
  },
  "language_info": {
   "codemirror_mode": {
    "name": "ipython",
    "version": 3
   },
   "file_extension": ".py",
   "mimetype": "text/x-python",
   "name": "python",
   "nbconvert_exporter": "python",
   "pygments_lexer": "ipython3",
   "version": "3.6.5"
  }
 },
 "nbformat": 4,
 "nbformat_minor": 2
}
