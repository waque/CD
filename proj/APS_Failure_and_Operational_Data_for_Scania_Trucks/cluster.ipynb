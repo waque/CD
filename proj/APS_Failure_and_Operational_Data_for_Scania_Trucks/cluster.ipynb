{
 "cells": [
  {
   "cell_type": "code",
   "execution_count": 1,
   "metadata": {},
   "outputs": [],
   "source": [
    "import pandas as pd\n",
    "import numpy as np\n",
    "import matplotlib.pyplot as plt\n",
    "from mpl_toolkits.mplot3d import Axes3D\n",
    "from sklearn import cluster, datasets, mixture\n",
    "from sklearn.neighbors import kneighbors_graph\n",
    "from sklearn.preprocessing import StandardScaler\n",
    "from sklearn.cluster import KMeans\n",
    "from sklearn.metrics import accuracy_score, adjusted_rand_score\n",
    "from sklearn.decomposition import PCA\n",
    "import pylab as pl"
   ]
  },
  {
   "cell_type": "code",
   "execution_count": 2,
   "metadata": {},
   "outputs": [],
   "source": [
    "train = pd.read_csv('./train.csv')\n",
    "test = pd.read_csv('./test.csv')\n",
    "\n",
    "aps = pd.concat([train, test])\n",
    "aps = aps.dropna()\n",
    "X = aps.drop(columns=['class'])\n",
    "y = np.array(aps['class'].map({'pos': 1, 'neg':0}))"
   ]
  },
  {
   "cell_type": "code",
   "execution_count": 3,
   "metadata": {},
   "outputs": [
    {
     "data": {
      "text/plain": [
       "0    319\n",
       "1     55\n",
       "Name: class, dtype: int64"
      ]
     },
     "execution_count": 3,
     "metadata": {},
     "output_type": "execute_result"
    }
   ],
   "source": [
    "aps['class'].map({'pos': 1, 'neg':0}).value_counts()"
   ]
  },
  {
   "cell_type": "code",
   "execution_count": 4,
   "metadata": {},
   "outputs": [
    {
     "name": "stderr",
     "output_type": "stream",
     "text": [
      "/home/francisconeves/anaconda3/lib/python3.6/site-packages/sklearn/preprocessing/data.py:617: DataConversionWarning: Data with input dtype int64, float64 were all converted to float64 by StandardScaler.\n",
      "  return self.partial_fit(X, y)\n",
      "/home/francisconeves/anaconda3/lib/python3.6/site-packages/ipykernel_launcher.py:5: DataConversionWarning: Data with input dtype int64, float64 were all converted to float64 by StandardScaler.\n",
      "  \"\"\"\n"
     ]
    }
   ],
   "source": [
    "# Scaling data\n",
    "\n",
    "scaler = StandardScaler()\n",
    "scaler.fit(X)\n",
    "X = scaler.transform(X)"
   ]
  },
  {
   "cell_type": "code",
   "execution_count": 5,
   "metadata": {},
   "outputs": [],
   "source": [
    "pca = PCA(0.95).fit(X)\n",
    "X_pca = pca.transform(X)\n",
    "X_pca.shape[1]\n",
    "X = X_pca"
   ]
  },
  {
   "cell_type": "code",
   "execution_count": 6,
   "metadata": {},
   "outputs": [],
   "source": [
    "def kMeans(X, n_clusters=2):\n",
    "    kmeans = KMeans(n_clusters=n_clusters, random_state=42)\n",
    "    kmeans.fit(X)\n",
    "    \n",
    "    predicted = kmeans.predict(X)\n",
    "    centers = kmeans.cluster_centers_\n",
    "    labels = kmeans.labels_\n",
    "    return predicted, labels\n",
    "\n",
    "predicted, labels = kMeans(X, 2)\n"
   ]
  },
  {
   "cell_type": "code",
   "execution_count": 7,
   "metadata": {},
   "outputs": [
    {
     "data": {
      "text/plain": [
       "0.249415802392704"
      ]
     },
     "execution_count": 7,
     "metadata": {},
     "output_type": "execute_result"
    }
   ],
   "source": [
    "adjusted_rand_score(y, predicted)"
   ]
  },
  {
   "cell_type": "code",
   "execution_count": 8,
   "metadata": {},
   "outputs": [
    {
     "data": {
      "image/png": "[encoded data removed]",
      "text/plain": [
       "<Figure size 432x288 with 1 Axes>"
      ]
     },
     "metadata": {},
     "output_type": "display_data"
    },
    {
     "data": {
      "image/png": "[encoded data removed]",
      "text/plain": [
       "<Figure size 432x288 with 1 Axes>"
      ]
     },
     "metadata": {},
     "output_type": "display_data"
    }
   ],
   "source": [
    "for i in range(0, X_pca.shape[0]):\n",
    "    if predicted[i] == 0:\n",
    "        c1 = pl.scatter(X_pca[i,0], X_pca[i,1], c='r', marker=\"+\")\n",
    "    elif predicted[i] == 1:\n",
    "        c2 = pl.scatter(X_pca[i,0], X_pca[i,1], c='g', marker=\"o\")\n",
    "    elif predicted[i] == 2:\n",
    "        c3 = pl.scatter(X_pca[i,0], X_pca[i,1], c='b', marker=\"*\")\n",
    "        \n",
    "pl.legend([c1, c2], ['Cluster 1', 'Cluster 2'])\n",
    "pl.show()\n",
    "\n",
    "for i in range(0, X_pca.shape[0]):\n",
    "    if y[i] == 0:\n",
    "        c1 = pl.scatter(X_pca[i,0], X_pca[i,1], c='r', marker=\"+\")\n",
    "    elif y[i] == 1:\n",
    "        c2 = pl.scatter(X_pca[i,0], X_pca[i,1], c='g', marker=\"o\")\n",
    "        \n",
    "pl.legend([c1, c2], ['No Failure', 'Failure'])\n",
    "pl.show()"
   ]
  },
  {
   "cell_type": "code",
   "execution_count": null,
   "metadata": {},
   "outputs": [],
   "source": []
  }
 ],
 "metadata": {
  "kernelspec": {
   "display_name": "Python 3",
   "language": "python",
   "name": "python3"
  },
  "language_info": {
   "codemirror_mode": {
    "name": "ipython",
    "version": 3
   },
   "file_extension": ".py",
   "mimetype": "text/x-python",
   "name": "python",
   "nbconvert_exporter": "python",
   "pygments_lexer": "ipython3",
   "version": "3.6.5"
  }
 },
 "nbformat": 4,
 "nbformat_minor": 2
}
