{
 "cells": [
  {
   "cell_type": "code",
   "execution_count": 15,
   "metadata": {},
   "outputs": [],
   "source": [
    "import pandas as pd\n",
    "import numpy as np\n",
    "import seaborn as sns\n",
    "import matplotlib.pyplot as plt\n",
    "import sys\n",
    "sys.path.append('..')\n",
    "from utils_cd import (\n",
    "        split_dataset,\n",
    "        standard_deviation,\n",
    "        plot_comparison_results,\n",
    "        impute_values,\n",
    "        plot_results,\n",
    "        plot_param_improv,\n",
    "        plot_results_from_csv,\n",
    "        aps_classifier_statistics\n",
    ")\n",
    "from sklearn.neighbors import KNeighborsClassifier\n",
    "from sklearn.tree import DecisionTreeClassifier\n",
    "from sklearn.ensemble import RandomForestClassifier\n",
    "from sklearn.naive_bayes import GaussianNB, MultinomialNB, BernoulliNB\n",
    "from sklearn.decomposition import PCA\n",
    "from sklearn.feature_selection import SelectKBest\n",
    "from sklearn.feature_selection import chi2\n",
    "from sklearn.preprocessing import Normalizer, StandardScaler\n",
    "from imblearn.over_sampling import SMOTE\n",
    "from imblearn.under_sampling import RandomUnderSampler\n",
    "from sklearn.decomposition import PCA\n",
    "\n",
    "pd.options.display.max_columns = None\n",
    "sns.set(style='darkgrid')\n",
    "\n",
    "CLASS = 'class'\n",
    "train = pd.read_csv('./aps_failure_training_set.csv',\n",
    "                        skiprows=20,keep_default_na=False, na_values='na')\n",
    "test = pd.read_csv('./aps_failure_test_set.csv',\n",
    "                        skiprows=20,keep_default_na=False, na_values='na')\n",
    "\n",
    "X_train, y_train = split_dataset(train, CLASS)\n",
    "X_test, y_test = split_dataset(test, CLASS)\n",
    "y_train = y_train.map({'pos': 1, 'neg': 0})\n",
    "y_test = y_test.map({'pos': 1, 'neg': 0})\n",
    "\n",
    "X_train, X_test = X_train.reset_index(drop=True), X_test.reset_index(drop=True)\n",
    "\n",
    "def normalize(X_train, X_test):\n",
    "    normalizer = Normalizer().fit(X_train)\n",
    "\n",
    "    X_train_norm = normalizer.transform(X_train)\n",
    "    X_test_norm = normalizer.transform(X_test)\n",
    "    \n",
    "    return X_train_norm, X_test_norm\n",
    "\n",
    "aps = pd.concat([X_train, X_test])\n",
    "\n",
    "clf = KNeighborsClassifier()\n",
    "ks = np.arange(11, 102, 10)\n",
    "results = {}\n",
    "res_i = 0"
   ]
  },
  {
   "cell_type": "code",
   "execution_count": 16,
   "metadata": {},
   "outputs": [],
   "source": [
    "X_train, X_test = X_train.fillna(X_train.mean()), X_test.fillna(X_train.mean())"
   ]
  },
  {
   "cell_type": "code",
   "execution_count": 27,
   "metadata": {},
   "outputs": [
    {
     "name": "stdout",
     "output_type": "stream",
     "text": [
      "{'predicted': array([0, 0, 0, ..., 0, 0, 0]), 'accuracy': 0.982625, 'confusion_matrix': array([[15595,    30],\n",
      "       [  248,   127]]), 'sensibility': 0.33866666666666667, 'specificity': 0.99808, 'score': 124300}\n",
      "{'predicted': array([0, 0, 0, ..., 0, 0, 0]), 'accuracy': 0.9815625, 'confusion_matrix': array([[15600,    25],\n",
      "       [  270,   105]]), 'sensibility': 0.28, 'specificity': 0.9984, 'score': 135250}\n",
      "{'predicted': array([0, 0, 0, ..., 0, 0, 0]), 'accuracy': 0.9805, 'confusion_matrix': array([[15602,    23],\n",
      "       [  289,    86]]), 'sensibility': 0.22933333333333333, 'specificity': 0.998528, 'score': 144730}\n",
      "{'predicted': array([0, 0, 0, ..., 0, 0, 0]), 'accuracy': 0.979625, 'confusion_matrix': array([[15599,    26],\n",
      "       [  300,    75]]), 'sensibility': 0.2, 'specificity': 0.998336, 'score': 150260}\n",
      "{'predicted': array([0, 0, 0, ..., 0, 0, 0]), 'accuracy': 0.9793125, 'confusion_matrix': array([[15596,    29],\n",
      "       [  302,    73]]), 'sensibility': 0.19466666666666665, 'specificity': 0.998144, 'score': 151290}\n",
      "{'predicted': array([0, 0, 0, ..., 0, 0, 0]), 'accuracy': 0.9785, 'confusion_matrix': array([[15595,    30],\n",
      "       [  314,    61]]), 'sensibility': 0.16266666666666665, 'specificity': 0.99808, 'score': 157300}\n",
      "{'predicted': array([0, 0, 0, ..., 0, 0, 0]), 'accuracy': 0.9785, 'confusion_matrix': array([[15598,    27],\n",
      "       [  317,    58]]), 'sensibility': 0.15466666666666667, 'specificity': 0.998272, 'score': 158770}\n",
      "{'predicted': array([0, 0, 0, ..., 0, 0, 0]), 'accuracy': 0.9781875, 'confusion_matrix': array([[15599,    26],\n",
      "       [  323,    52]]), 'sensibility': 0.13866666666666666, 'specificity': 0.998336, 'score': 161760}\n",
      "{'predicted': array([0, 0, 0, ..., 0, 0, 0]), 'accuracy': 0.9780625, 'confusion_matrix': array([[15600,    25],\n",
      "       [  326,    49]]), 'sensibility': 0.13066666666666665, 'specificity': 0.9984, 'score': 163250}\n",
      "{'predicted': array([0, 0, 0, ..., 0, 0, 0]), 'accuracy': 0.9781875, 'confusion_matrix': array([[15604,    21],\n",
      "       [  328,    47]]), 'sensibility': 0.12533333333333332, 'specificity': 0.998656, 'score': 164210}\n"
     ]
    }
   ],
   "source": [
    "for k in ks:\n",
    "    res = aps_classifier_statistics(KNeighborsClassifier(n_neighbors=k), X_train, X_test, y_train, y_test)\n",
    "    results[res_i] = {'Price': res['score'], 'Transformation': 'Baseline', 'k': k}\n",
    "    res_i += 1\n",
    "    print(res)"
   ]
  },
  {
   "cell_type": "code",
   "execution_count": 4,
   "metadata": {},
   "outputs": [
    {
     "data": {
      "text/plain": [
       "'balancers = [(RandomUnderSampler(random_state=42), \\'Undersample 50-50\\'), (RandomUnderSampler(ratio=0.3, random_state=42), \\'Undersample 70-30\\'), (SMOTE(ratio=1.0, random_state=42), \\'SMOTE 50-50\\'), (SMOTE(ratio=0.3, random_state=42), \\'SMOTE 70-30\\')]\\nfilename = \\'knn_balancing\\'\\nmeasures = {}\\ni = 0\\n\\nfor k in ks:\\n\\n    for balancer, name in balancers:\\n        X_train_bal, y_train_bal = balancer.fit_sample(X_train, y_train)\\n        res = aps_classifier_statistics(KNeighborsClassifier(n_neighbors=k), X_train_bal, X_test, y_train_bal, y_test)\\n        measures[i] = {\\'Price\\': res[\\'score\\'], \\'Technique\\': name, \\'k\\': k}\\n        i += 1\\n        \\nplt.figure(figsize=(14,6))\\nmeasures = pd.DataFrame.from_dict(measures, \"index\")\\nmeasures.to_csv(\\'plot_data/{}.csv\\'.format(filename))\\n    \\ng = sns.FacetGrid(measures, hue=\"Technique\", size=8)\\ng = g.map(plt.scatter, \"k\", \"Price\").add_legend()\\ng = g.map(plt.plot, \"k\", \"Price\")\\ng.axes[0,0].set_ylim(ymin=0)\\n\\nplt.savefig(\\'images/{}.pdf\\'.format(filename))\\nplt.clf()'"
      ]
     },
     "execution_count": 4,
     "metadata": {},
     "output_type": "execute_result"
    }
   ],
   "source": [
    "\"\"\"balancers = [(RandomUnderSampler(random_state=42), 'Undersample 50-50'), (RandomUnderSampler(ratio=0.3, random_state=42), 'Undersample 70-30'), (SMOTE(ratio=1.0, random_state=42), 'SMOTE 50-50'), (SMOTE(ratio=0.3, random_state=42), 'SMOTE 70-30')]\n",
    "filename = 'knn_balancing'\n",
    "measures = {}\n",
    "i = 0\n",
    "\n",
    "for k in ks:\n",
    "\n",
    "    for balancer, name in balancers:\n",
    "        X_train_bal, y_train_bal = balancer.fit_sample(X_train, y_train)\n",
    "        res = aps_classifier_statistics(KNeighborsClassifier(n_neighbors=k), X_train_bal, X_test, y_train_bal, y_test)\n",
    "        measures[i] = {'Price': res['score'], 'Technique': name, 'k': k}\n",
    "        i += 1\n",
    "        \n",
    "plt.figure(figsize=(14,6))\n",
    "measures = pd.DataFrame.from_dict(measures, \"index\")\n",
    "measures.to_csv('plot_data/{}.csv'.format(filename))\n",
    "    \n",
    "g = sns.FacetGrid(measures, hue=\"Technique\", size=8)\n",
    "g = g.map(plt.scatter, \"k\", \"Price\").add_legend()\n",
    "g = g.map(plt.plot, \"k\", \"Price\")\n",
    "g.axes[0,0].set_ylim(ymin=0)\n",
    "\n",
    "plt.savefig('images/{}.pdf'.format(filename))\n",
    "plt.clf()\"\"\"\n",
    "\n",
    "#results[res_i] = {'Price': measures[0]['Price'], 'Transformation': 'Undersampling 70-30'}\n",
    "#res_i += 1\"\"\""
   ]
  },
  {
   "cell_type": "code",
   "execution_count": 17,
   "metadata": {},
   "outputs": [
    {
     "name": "stderr",
     "output_type": "stream",
     "text": [
      "/home/francisconeves/anaconda3/lib/python3.6/site-packages/sklearn/utils/deprecation.py:77: DeprecationWarning: Function _ratio_float is deprecated; Use a float for 'ratio' is deprecated from version 0.2. The support will be removed in 0.4. Use a dict, str, or a callable instead.\n",
      "  warnings.warn(msg, category=DeprecationWarning)\n"
     ]
    }
   ],
   "source": [
    "def balance(X_train, y_train):\n",
    "    balancer = SMOTE(ratio=1.0, random_state=42)\n",
    "    X_train_bal, y_train_bal = balancer.fit_sample(X_train, y_train)\n",
    "    return X_train_bal, y_train_bal\n",
    "\n",
    "X_train_bal, y_train_bal = balance(X_train, y_train)"
   ]
  },
  {
   "cell_type": "code",
   "execution_count": 6,
   "metadata": {},
   "outputs": [
    {
     "name": "stdout",
     "output_type": "stream",
     "text": [
      "{'predicted': array([0, 0, 0, ..., 0, 0, 0]), 'accuracy': 0.9665625, 'confusion_matrix': array([[15127,   498],\n",
      "       [   37,   338]]), 'sensibility': 0.9013333333333333, 'specificity': 0.968128, 'score': 23480}\n",
      "{'predicted': array([0, 0, 0, ..., 0, 0, 0]), 'accuracy': 0.9606875, 'confusion_matrix': array([[15021,   604],\n",
      "       [   25,   350]]), 'sensibility': 0.9333333333333333, 'specificity': 0.961344, 'score': 18540}\n",
      "{'predicted': array([0, 0, 0, ..., 0, 0, 0]), 'accuracy': 0.956125, 'confusion_matrix': array([[14941,   684],\n",
      "       [   18,   357]]), 'sensibility': 0.952, 'specificity': 0.956224, 'score': 15840}\n",
      "{'predicted': array([0, 0, 0, ..., 0, 0, 0]), 'accuracy': 0.9533125, 'confusion_matrix': array([[14895,   730],\n",
      "       [   17,   358]]), 'sensibility': 0.9546666666666667, 'specificity': 0.95328, 'score': 15800}\n",
      "{'predicted': array([0, 0, 0, ..., 0, 0, 0]), 'accuracy': 0.9508125, 'confusion_matrix': array([[14854,   771],\n",
      "       [   16,   359]]), 'sensibility': 0.9573333333333334, 'specificity': 0.950656, 'score': 15710}\n",
      "{'predicted': array([0, 0, 0, ..., 0, 0, 0]), 'accuracy': 0.94875, 'confusion_matrix': array([[14821,   804],\n",
      "       [   16,   359]]), 'sensibility': 0.9573333333333334, 'specificity': 0.948544, 'score': 16040}\n",
      "{'predicted': array([0, 0, 0, ..., 0, 0, 0]), 'accuracy': 0.9476875, 'confusion_matrix': array([[14802,   823],\n",
      "       [   14,   361]]), 'sensibility': 0.9626666666666667, 'specificity': 0.947328, 'score': 15230}\n",
      "{'predicted': array([0, 0, 0, ..., 0, 0, 0]), 'accuracy': 0.947, 'confusion_matrix': array([[14791,   834],\n",
      "       [   14,   361]]), 'sensibility': 0.9626666666666667, 'specificity': 0.946624, 'score': 15340}\n",
      "{'predicted': array([0, 0, 0, ..., 0, 0, 0]), 'accuracy': 0.9465, 'confusion_matrix': array([[14783,   842],\n",
      "       [   14,   361]]), 'sensibility': 0.9626666666666667, 'specificity': 0.946112, 'score': 15420}\n",
      "{'predicted': array([0, 0, 0, ..., 0, 0, 0]), 'accuracy': 0.9458125, 'confusion_matrix': array([[14772,   853],\n",
      "       [   14,   361]]), 'sensibility': 0.9626666666666667, 'specificity': 0.945408, 'score': 15530}\n"
     ]
    }
   ],
   "source": [
    "for k in ks:\n",
    "    res = aps_classifier_statistics(KNeighborsClassifier(n_neighbors=k), X_train_bal, X_test, y_train_bal, y_test)\n",
    "    results[res_i] = {'Price': res['score'], 'Transformation': 'SMOTE 50-50', 'k':k}\n",
    "    res_i += 1\n",
    "    print(res)"
   ]
  },
  {
   "cell_type": "code",
   "execution_count": 8,
   "metadata": {},
   "outputs": [
    {
     "name": "stdout",
     "output_type": "stream",
     "text": [
      "{0: {'Price': 116890, 'Transformation': 'Baseline', 'k': 11}, 1: {'Price': 128840, 'Transformation': 'Baseline', 'k': 21}, 2: {'Price': 136830, 'Transformation': 'Baseline', 'k': 31}, 3: {'Price': 142330, 'Transformation': 'Baseline', 'k': 41}, 4: {'Price': 146840, 'Transformation': 'Baseline', 'k': 51}, 5: {'Price': 154330, 'Transformation': 'Baseline', 'k': 61}, 6: {'Price': 157300, 'Transformation': 'Baseline', 'k': 71}, 7: {'Price': 159260, 'Transformation': 'Baseline', 'k': 81}, 8: {'Price': 161760, 'Transformation': 'Baseline', 'k': 91}, 9: {'Price': 162730, 'Transformation': 'Baseline', 'k': 101}, 10: {'Price': 23480, 'Transformation': 'SMOTE 50-50', 'k': 11}, 11: {'Price': 18540, 'Transformation': 'SMOTE 50-50', 'k': 21}, 12: {'Price': 15840, 'Transformation': 'SMOTE 50-50', 'k': 31}, 13: {'Price': 15800, 'Transformation': 'SMOTE 50-50', 'k': 41}, 14: {'Price': 15710, 'Transformation': 'SMOTE 50-50', 'k': 51}, 15: {'Price': 16040, 'Transformation': 'SMOTE 50-50', 'k': 61}, 16: {'Price': 15230, 'Transformation': 'SMOTE 50-50', 'k': 71}, 17: {'Price': 15340, 'Transformation': 'SMOTE 50-50', 'k': 81}, 18: {'Price': 15420, 'Transformation': 'SMOTE 50-50', 'k': 91}, 19: {'Price': 15530, 'Transformation': 'SMOTE 50-50', 'k': 101}}\n"
     ]
    }
   ],
   "source": [
    "print(results)"
   ]
  },
  {
   "cell_type": "markdown",
   "metadata": {},
   "source": [
    "Drop cd_000. THe results didn't get better, stayed the same"
   ]
  },
  {
   "cell_type": "code",
   "execution_count": 20,
   "metadata": {},
   "outputs": [
    {
     "name": "stderr",
     "output_type": "stream",
     "text": [
      "/home/francisconeves/anaconda3/lib/python3.6/site-packages/sklearn/utils/deprecation.py:77: DeprecationWarning: Function _ratio_float is deprecated; Use a float for 'ratio' is deprecated from version 0.2. The support will be removed in 0.4. Use a dict, str, or a callable instead.\n",
      "  warnings.warn(msg, category=DeprecationWarning)\n"
     ]
    }
   ],
   "source": [
    "X_train_pca, X_test_pca = X_train.drop(columns=['cd_000']), X_test.drop(columns=['cd_000'])\n",
    "sets = {0: {'bb_000', 'bv_000', 'bu_000', 'cq_000'}, 1: {'ah_000', 'bg_000'}, 2: {'bt_000', 'aa_000'}, 3: {'cf_000', 'co_000', 'ad_000'}}\n",
    "\n",
    "for group_i in sets:\n",
    "    group = sets[group_i]\n",
    "    group_list = list(group)\n",
    "    pca = PCA(n_components=1).fit(X_train_pca[group_list])\n",
    "    new = pca.transform(X_train_pca[group_list])\n",
    "    new_test = pca.transform(X_test_pca[group_list])\n",
    "    \n",
    "    new = pd.DataFrame(data=new)\n",
    "    new_test = pd.DataFrame(data=new_test)\n",
    "    X_train_pca = pd.concat([X_train_pca, new], axis=1)\n",
    "    X_test_pca = pd.concat([X_test_pca, new_test], axis=1)\n",
    "    X_train_pca, X_test_pca = X_train_pca.drop(columns=group_list), X_test_pca.drop(columns=group_list)\n",
    "\n",
    "X_train_bal, y_train_bal = balance(X_train_pca, y_train)"
   ]
  },
  {
   "cell_type": "code",
   "execution_count": 21,
   "metadata": {},
   "outputs": [
    {
     "name": "stdout",
     "output_type": "stream",
     "text": [
      "{'predicted': array([0, 0, 0, ..., 0, 0, 0]), 'accuracy': 0.9665625, 'confusion_matrix': array([[15127,   498],\n",
      "       [   37,   338]]), 'sensibility': 0.9013333333333333, 'specificity': 0.968128, 'score': 23480}\n",
      "{'predicted': array([0, 0, 0, ..., 0, 0, 0]), 'accuracy': 0.9606875, 'confusion_matrix': array([[15021,   604],\n",
      "       [   25,   350]]), 'sensibility': 0.9333333333333333, 'specificity': 0.961344, 'score': 18540}\n",
      "{'predicted': array([0, 0, 0, ..., 0, 0, 0]), 'accuracy': 0.9561875, 'confusion_matrix': array([[14942,   683],\n",
      "       [   18,   357]]), 'sensibility': 0.952, 'specificity': 0.956288, 'score': 15830}\n",
      "{'predicted': array([0, 0, 0, ..., 0, 0, 0]), 'accuracy': 0.953375, 'confusion_matrix': array([[14896,   729],\n",
      "       [   17,   358]]), 'sensibility': 0.9546666666666667, 'specificity': 0.953344, 'score': 15790}\n",
      "{'predicted': array([0, 0, 0, ..., 0, 0, 0]), 'accuracy': 0.9508125, 'confusion_matrix': array([[14854,   771],\n",
      "       [   16,   359]]), 'sensibility': 0.9573333333333334, 'specificity': 0.950656, 'score': 15710}\n",
      "{'predicted': array([0, 0, 0, ..., 0, 0, 0]), 'accuracy': 0.94875, 'confusion_matrix': array([[14821,   804],\n",
      "       [   16,   359]]), 'sensibility': 0.9573333333333334, 'specificity': 0.948544, 'score': 16040}\n",
      "{'predicted': array([0, 0, 0, ..., 0, 0, 0]), 'accuracy': 0.9476875, 'confusion_matrix': array([[14802,   823],\n",
      "       [   14,   361]]), 'sensibility': 0.9626666666666667, 'specificity': 0.947328, 'score': 15230}\n",
      "{'predicted': array([0, 0, 0, ..., 0, 0, 0]), 'accuracy': 0.9469375, 'confusion_matrix': array([[14790,   835],\n",
      "       [   14,   361]]), 'sensibility': 0.9626666666666667, 'specificity': 0.94656, 'score': 15350}\n",
      "{'predicted': array([0, 0, 0, ..., 0, 0, 0]), 'accuracy': 0.9464375, 'confusion_matrix': array([[14782,   843],\n",
      "       [   14,   361]]), 'sensibility': 0.9626666666666667, 'specificity': 0.946048, 'score': 15430}\n",
      "{'predicted': array([0, 0, 0, ..., 0, 0, 0]), 'accuracy': 0.9458125, 'confusion_matrix': array([[14772,   853],\n",
      "       [   14,   361]]), 'sensibility': 0.9626666666666667, 'specificity': 0.945408, 'score': 15530}\n"
     ]
    }
   ],
   "source": [
    "for k in ks:\n",
    "    res = aps_classifier_statistics(KNeighborsClassifier(n_neighbors=k), X_train_bal, X_test_pca, y_train_bal, y_test)\n",
    "    results[res_i] = {'Price': res['score'], 'Transformation': 'PCA', 'k':k}\n",
    "    res_i += 1\n",
    "    print(res)"
   ]
  },
  {
   "cell_type": "code",
   "execution_count": 22,
   "metadata": {},
   "outputs": [
    {
     "name": "stdout",
     "output_type": "stream",
     "text": [
      "{0: {'Price': 23480, 'Transformation': 'PCA', 'k': 11}, 1: {'Price': 18540, 'Transformation': 'PCA', 'k': 21}, 2: {'Price': 15830, 'Transformation': 'PCA', 'k': 31}, 3: {'Price': 15790, 'Transformation': 'PCA', 'k': 41}, 4: {'Price': 15710, 'Transformation': 'PCA', 'k': 51}, 5: {'Price': 16040, 'Transformation': 'PCA', 'k': 61}, 6: {'Price': 15230, 'Transformation': 'PCA', 'k': 71}, 7: {'Price': 15350, 'Transformation': 'PCA', 'k': 81}, 8: {'Price': 15430, 'Transformation': 'PCA', 'k': 91}, 9: {'Price': 15530, 'Transformation': 'PCA', 'k': 101}, 10: {'Price': 23480, 'Transformation': 'SMOTE 50-50', 'k': 11}, 11: {'Price': 18540, 'Transformation': 'SMOTE 50-50', 'k': 21}, 12: {'Price': 15840, 'Transformation': 'SMOTE 50-50', 'k': 31}, 13: {'Price': 15800, 'Transformation': 'SMOTE 50-50', 'k': 41}, 14: {'Price': 15710, 'Transformation': 'SMOTE 50-50', 'k': 51}, 15: {'Price': 16040, 'Transformation': 'SMOTE 50-50', 'k': 61}, 16: {'Price': 15230, 'Transformation': 'SMOTE 50-50', 'k': 71}, 17: {'Price': 15340, 'Transformation': 'SMOTE 50-50', 'k': 81}, 18: {'Price': 15420, 'Transformation': 'SMOTE 50-50', 'k': 91}, 19: {'Price': 15530, 'Transformation': 'SMOTE 50-50', 'k': 101}}\n"
     ]
    }
   ],
   "source": [
    "print(results)"
   ]
  },
  {
   "cell_type": "code",
   "execution_count": 23,
   "metadata": {},
   "outputs": [
    {
     "name": "stderr",
     "output_type": "stream",
     "text": [
      "/home/francisconeves/anaconda3/lib/python3.6/site-packages/sklearn/utils/deprecation.py:77: DeprecationWarning: Function _ratio_float is deprecated; Use a float for 'ratio' is deprecated from version 0.2. The support will be removed in 0.4. Use a dict, str, or a callable instead.\n",
      "  warnings.warn(msg, category=DeprecationWarning)\n"
     ]
    }
   ],
   "source": [
    "X_train, X_test = normalize(X_train, X_test)\n",
    "X_train_bal, y_train_bal = balance(X_train, y_train)"
   ]
  },
  {
   "cell_type": "code",
   "execution_count": 24,
   "metadata": {},
   "outputs": [
    {
     "name": "stdout",
     "output_type": "stream",
     "text": [
      "{'predicted': array([0, 0, 0, ..., 0, 0, 0]), 'accuracy': 0.961375, 'confusion_matrix': array([[15042,   583],\n",
      "       [   35,   340]]), 'sensibility': 0.9066666666666666, 'specificity': 0.962688, 'score': 23330}\n",
      "{'predicted': array([1, 0, 1, ..., 0, 0, 0]), 'accuracy': 0.9529375, 'confusion_matrix': array([[14896,   729],\n",
      "       [   24,   351]]), 'sensibility': 0.936, 'specificity': 0.953344, 'score': 19290}\n",
      "{'predicted': array([0, 0, 1, ..., 0, 0, 0]), 'accuracy': 0.9455625, 'confusion_matrix': array([[14772,   853],\n",
      "       [   18,   357]]), 'sensibility': 0.952, 'specificity': 0.945408, 'score': 17530}\n",
      "{'predicted': array([0, 0, 1, ..., 0, 0, 0]), 'accuracy': 0.940125, 'confusion_matrix': array([[14685,   940],\n",
      "       [   18,   357]]), 'sensibility': 0.952, 'specificity': 0.93984, 'score': 18400}\n",
      "{'predicted': array([0, 0, 1, ..., 0, 0, 0]), 'accuracy': 0.9360625, 'confusion_matrix': array([[14615,  1010],\n",
      "       [   13,   362]]), 'sensibility': 0.9653333333333334, 'specificity': 0.93536, 'score': 16600}\n",
      "{'predicted': array([0, 0, 1, ..., 0, 0, 0]), 'accuracy': 0.933, 'confusion_matrix': array([[14565,  1060],\n",
      "       [   12,   363]]), 'sensibility': 0.968, 'specificity': 0.93216, 'score': 16600}\n",
      "{'predicted': array([0, 0, 1, ..., 0, 0, 0]), 'accuracy': 0.9299375, 'confusion_matrix': array([[14518,  1107],\n",
      "       [   14,   361]]), 'sensibility': 0.9626666666666667, 'specificity': 0.929152, 'score': 18070}\n",
      "{'predicted': array([0, 0, 1, ..., 0, 0, 0]), 'accuracy': 0.92825, 'confusion_matrix': array([[14488,  1137],\n",
      "       [   11,   364]]), 'sensibility': 0.9706666666666667, 'specificity': 0.927232, 'score': 16870}\n",
      "{'predicted': array([0, 0, 1, ..., 0, 0, 0]), 'accuracy': 0.9265, 'confusion_matrix': array([[14460,  1165],\n",
      "       [   11,   364]]), 'sensibility': 0.9706666666666667, 'specificity': 0.92544, 'score': 17150}\n",
      "{'predicted': array([0, 0, 1, ..., 0, 0, 0]), 'accuracy': 0.9253125, 'confusion_matrix': array([[14440,  1185],\n",
      "       [   10,   365]]), 'sensibility': 0.9733333333333334, 'specificity': 0.92416, 'score': 16850}\n"
     ]
    }
   ],
   "source": [
    "for k in ks:\n",
    "    res = aps_classifier_statistics(KNeighborsClassifier(n_neighbors=k), X_train_bal, X_test, y_train_bal, y_test)\n",
    "    results[res_i] = {'Price': res['score'], 'Transformation': 'Normalization', 'k':k}\n",
    "    res_i += 1\n",
    "    print(res)"
   ]
  },
  {
   "cell_type": "code",
   "execution_count": 25,
   "metadata": {},
   "outputs": [
    {
     "name": "stdout",
     "output_type": "stream",
     "text": [
      "{0: {'Price': 23480, 'Transformation': 'PCA', 'k': 11}, 1: {'Price': 18540, 'Transformation': 'PCA', 'k': 21}, 2: {'Price': 15830, 'Transformation': 'PCA', 'k': 31}, 3: {'Price': 15790, 'Transformation': 'PCA', 'k': 41}, 4: {'Price': 15710, 'Transformation': 'PCA', 'k': 51}, 5: {'Price': 16040, 'Transformation': 'PCA', 'k': 61}, 6: {'Price': 15230, 'Transformation': 'PCA', 'k': 71}, 7: {'Price': 15350, 'Transformation': 'PCA', 'k': 81}, 8: {'Price': 15430, 'Transformation': 'PCA', 'k': 91}, 9: {'Price': 15530, 'Transformation': 'PCA', 'k': 101}, 10: {'Price': 23330, 'Transformation': 'Normalization', 'k': 11}, 11: {'Price': 19290, 'Transformation': 'Normalization', 'k': 21}, 12: {'Price': 17530, 'Transformation': 'Normalization', 'k': 31}, 13: {'Price': 18400, 'Transformation': 'Normalization', 'k': 41}, 14: {'Price': 16600, 'Transformation': 'Normalization', 'k': 51}, 15: {'Price': 16600, 'Transformation': 'Normalization', 'k': 61}, 16: {'Price': 18070, 'Transformation': 'Normalization', 'k': 71}, 17: {'Price': 16870, 'Transformation': 'Normalization', 'k': 81}, 18: {'Price': 17150, 'Transformation': 'Normalization', 'k': 91}, 19: {'Price': 16850, 'Transformation': 'Normalization', 'k': 101}}\n"
     ]
    }
   ],
   "source": [
    "print(results)"
   ]
  },
  {
   "cell_type": "code",
   "execution_count": 26,
   "metadata": {},
   "outputs": [
    {
     "name": "stderr",
     "output_type": "stream",
     "text": [
      "/home/francisconeves/anaconda3/lib/python3.6/site-packages/seaborn/axisgrid.py:230: UserWarning: The `size` paramter has been renamed to `height`; please update your code.\n",
      "  warnings.warn(msg, UserWarning)\n"
     ]
    },
    {
     "data": {
      "text/plain": [
       "<Figure size 1152x432 with 0 Axes>"
      ]
     },
     "metadata": {},
     "output_type": "display_data"
    },
    {
     "data": {
      "text/plain": [
       "<Figure size 692.725x576 with 0 Axes>"
      ]
     },
     "metadata": {},
     "output_type": "display_data"
    }
   ],
   "source": [
    "plt.figure(figsize=(16,6))\n",
    "filename = 'knn_transformations'\n",
    "measures = pd.DataFrame.from_dict(results, \"index\")\n",
    "measures.to_csv('plot_data/{}.csv'.format(filename))\n",
    "    \n",
    "g = sns.FacetGrid(measures, hue=\"Transformation\", size=8)\n",
    "g = g.map(plt.scatter, \"k\", \"Price\").add_legend()\n",
    "g = g.map(plt.plot, \"k\", \"Price\")\n",
    "g.axes[0,0].set_ylim(ymin=0)\n",
    "\n",
    "plt.savefig('images/{}.pdf'.format(filename))\n",
    "plt.clf()"
   ]
  }
 ],
 "metadata": {
  "kernelspec": {
   "display_name": "Python 3",
   "language": "python",
   "name": "python3"
  },
  "language_info": {
   "codemirror_mode": {
    "name": "ipython",
    "version": 3
   },
   "file_extension": ".py",
   "mimetype": "text/x-python",
   "name": "python",
   "nbconvert_exporter": "python",
   "pygments_lexer": "ipython3",
   "version": "3.6.5"
  }
 },
 "nbformat": 4,
 "nbformat_minor": 2
}
