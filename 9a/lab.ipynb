{
 "cells": [
  {
   "cell_type": "code",
   "execution_count": 3,
   "metadata": {},
   "outputs": [],
   "source": [
    "\n",
    "import pandas as pd\n",
    "import numpy as np\n",
    "from sklearn.feature_selection import (SelectKBest,\n",
    "                                       SelectFpr,\n",
    "                                       SelectFdr,\n",
    "                                       SelectFwe,\n",
    "                                       SelectPercentile,\n",
    "                                       chi2, mutual_info_regression,\n",
    "                                       f_classif)\n",
    "from sklearn.decomposition import PCA"
   ]
  },
  {
   "cell_type": "code",
   "execution_count": 2,
   "metadata": {},
   "outputs": [],
   "source": [
    "data = arff.load(open('./pol.arff'))"
   ]
  },
  {
   "cell_type": "code",
   "execution_count": 3,
   "metadata": {},
   "outputs": [],
   "source": [
    "attrs = []\n",
    "for attr in data['attributes']: \n",
    "    attrs.append(attr[0])\n",
    "df = pd.DataFrame(data=data['data'], columns=attrs)\n",
    "X, y = df.drop(columns=['foo']), df['foo']"
   ]
  },
  {
   "cell_type": "code",
   "execution_count": 4,
   "metadata": {},
   "outputs": [],
   "source": [
    "df.to_csv('pol.csv', index=False)"
   ]
  },
  {
   "cell_type": "code",
   "execution_count": 5,
   "metadata": {},
   "outputs": [
    {
     "data": {
      "text/html": [
       "<div>\n",
       "<style scoped>\n",
       "    .dataframe tbody tr th:only-of-type {\n",
       "        vertical-align: middle;\n",
       "    }\n",
       "\n",
       "    .dataframe tbody tr th {\n",
       "        vertical-align: top;\n",
       "    }\n",
       "\n",
       "    .dataframe thead th {\n",
       "        text-align: right;\n",
       "    }\n",
       "</style>\n",
       "<table border=\"1\" class=\"dataframe\">\n",
       "  <thead>\n",
       "    <tr style=\"text-align: right;\">\n",
       "      <th></th>\n",
       "      <th>f1</th>\n",
       "      <th>f2</th>\n",
       "      <th>f3</th>\n",
       "      <th>f4</th>\n",
       "      <th>f5</th>\n",
       "      <th>f6</th>\n",
       "      <th>f7</th>\n",
       "      <th>f8</th>\n",
       "      <th>f9</th>\n",
       "      <th>f10</th>\n",
       "      <th>...</th>\n",
       "      <th>f40</th>\n",
       "      <th>f41</th>\n",
       "      <th>f42</th>\n",
       "      <th>f43</th>\n",
       "      <th>f44</th>\n",
       "      <th>f45</th>\n",
       "      <th>f46</th>\n",
       "      <th>f47</th>\n",
       "      <th>f48</th>\n",
       "      <th>foo</th>\n",
       "    </tr>\n",
       "  </thead>\n",
       "  <tbody>\n",
       "    <tr>\n",
       "      <th>0</th>\n",
       "      <td>110.0</td>\n",
       "      <td>100.0</td>\n",
       "      <td>100.0</td>\n",
       "      <td>100.0</td>\n",
       "      <td>60.0</td>\n",
       "      <td>108.0</td>\n",
       "      <td>76.0</td>\n",
       "      <td>71.0</td>\n",
       "      <td>94.0</td>\n",
       "      <td>0.0</td>\n",
       "      <td>...</td>\n",
       "      <td>0.0</td>\n",
       "      <td>0.0</td>\n",
       "      <td>0.0</td>\n",
       "      <td>0.0</td>\n",
       "      <td>0.0</td>\n",
       "      <td>0.0</td>\n",
       "      <td>0.0</td>\n",
       "      <td>0.0</td>\n",
       "      <td>0.0</td>\n",
       "      <td>0.0</td>\n",
       "    </tr>\n",
       "    <tr>\n",
       "      <th>1</th>\n",
       "      <td>110.0</td>\n",
       "      <td>100.0</td>\n",
       "      <td>100.0</td>\n",
       "      <td>100.0</td>\n",
       "      <td>130.0</td>\n",
       "      <td>77.0</td>\n",
       "      <td>76.0</td>\n",
       "      <td>71.0</td>\n",
       "      <td>94.0</td>\n",
       "      <td>0.0</td>\n",
       "      <td>...</td>\n",
       "      <td>0.0</td>\n",
       "      <td>0.0</td>\n",
       "      <td>0.0</td>\n",
       "      <td>0.0</td>\n",
       "      <td>0.0</td>\n",
       "      <td>0.0</td>\n",
       "      <td>0.0</td>\n",
       "      <td>0.0</td>\n",
       "      <td>0.0</td>\n",
       "      <td>0.0</td>\n",
       "    </tr>\n",
       "    <tr>\n",
       "      <th>2</th>\n",
       "      <td>110.0</td>\n",
       "      <td>100.0</td>\n",
       "      <td>100.0</td>\n",
       "      <td>100.0</td>\n",
       "      <td>110.0</td>\n",
       "      <td>89.0</td>\n",
       "      <td>76.0</td>\n",
       "      <td>71.0</td>\n",
       "      <td>94.0</td>\n",
       "      <td>0.0</td>\n",
       "      <td>...</td>\n",
       "      <td>0.0</td>\n",
       "      <td>0.0</td>\n",
       "      <td>0.0</td>\n",
       "      <td>0.0</td>\n",
       "      <td>0.0</td>\n",
       "      <td>0.0</td>\n",
       "      <td>0.0</td>\n",
       "      <td>0.0</td>\n",
       "      <td>0.0</td>\n",
       "      <td>0.0</td>\n",
       "    </tr>\n",
       "    <tr>\n",
       "      <th>3</th>\n",
       "      <td>110.0</td>\n",
       "      <td>100.0</td>\n",
       "      <td>100.0</td>\n",
       "      <td>100.0</td>\n",
       "      <td>13.0</td>\n",
       "      <td>126.0</td>\n",
       "      <td>89.0</td>\n",
       "      <td>72.0</td>\n",
       "      <td>94.0</td>\n",
       "      <td>0.0</td>\n",
       "      <td>...</td>\n",
       "      <td>0.0</td>\n",
       "      <td>0.0</td>\n",
       "      <td>0.0</td>\n",
       "      <td>0.0</td>\n",
       "      <td>0.0</td>\n",
       "      <td>0.0</td>\n",
       "      <td>0.0</td>\n",
       "      <td>0.0</td>\n",
       "      <td>0.0</td>\n",
       "      <td>0.0</td>\n",
       "    </tr>\n",
       "    <tr>\n",
       "      <th>4</th>\n",
       "      <td>110.0</td>\n",
       "      <td>100.0</td>\n",
       "      <td>100.0</td>\n",
       "      <td>100.0</td>\n",
       "      <td>15.0</td>\n",
       "      <td>119.0</td>\n",
       "      <td>78.0</td>\n",
       "      <td>71.0</td>\n",
       "      <td>94.0</td>\n",
       "      <td>0.0</td>\n",
       "      <td>...</td>\n",
       "      <td>0.0</td>\n",
       "      <td>0.0</td>\n",
       "      <td>0.0</td>\n",
       "      <td>0.0</td>\n",
       "      <td>0.0</td>\n",
       "      <td>0.0</td>\n",
       "      <td>0.0</td>\n",
       "      <td>0.0</td>\n",
       "      <td>0.0</td>\n",
       "      <td>0.0</td>\n",
       "    </tr>\n",
       "  </tbody>\n",
       "</table>\n",
       "<p>5 rows × 49 columns</p>\n",
       "</div>"
      ],
      "text/plain": [
       "      f1     f2     f3     f4     f5     f6    f7    f8    f9  f10 ...   f40  \\\n",
       "0  110.0  100.0  100.0  100.0   60.0  108.0  76.0  71.0  94.0  0.0 ...   0.0   \n",
       "1  110.0  100.0  100.0  100.0  130.0   77.0  76.0  71.0  94.0  0.0 ...   0.0   \n",
       "2  110.0  100.0  100.0  100.0  110.0   89.0  76.0  71.0  94.0  0.0 ...   0.0   \n",
       "3  110.0  100.0  100.0  100.0   13.0  126.0  89.0  72.0  94.0  0.0 ...   0.0   \n",
       "4  110.0  100.0  100.0  100.0   15.0  119.0  78.0  71.0  94.0  0.0 ...   0.0   \n",
       "\n",
       "   f41  f42  f43  f44  f45  f46  f47  f48  foo  \n",
       "0  0.0  0.0  0.0  0.0  0.0  0.0  0.0  0.0  0.0  \n",
       "1  0.0  0.0  0.0  0.0  0.0  0.0  0.0  0.0  0.0  \n",
       "2  0.0  0.0  0.0  0.0  0.0  0.0  0.0  0.0  0.0  \n",
       "3  0.0  0.0  0.0  0.0  0.0  0.0  0.0  0.0  0.0  \n",
       "4  0.0  0.0  0.0  0.0  0.0  0.0  0.0  0.0  0.0  \n",
       "\n",
       "[5 rows x 49 columns]"
      ]
     },
     "execution_count": 5,
     "metadata": {},
     "output_type": "execute_result"
    }
   ],
   "source": [
    "df.head()"
   ]
  },
  {
   "cell_type": "code",
   "execution_count": 6,
   "metadata": {},
   "outputs": [],
   "source": [
    "def getBest(cls, X, y, score_func=chi2, **kwargs):\n",
    "    k_best = cls(score_func=score_func, **kwargs).fit(X, y)\n",
    "    idxs = k_best.get_support(indices=True)\n",
    "    X = X.iloc[:,idxs]\n",
    "    scores = k_best.scores_\n",
    "    return X, np.sort(scores)"
   ]
  },
  {
   "cell_type": "code",
   "execution_count": 7,
   "metadata": {},
   "outputs": [
    {
     "name": "stdout",
     "output_type": "stream",
     "text": [
      "Index(['f5', 'f6', 'f7', 'f13', 'f14', 'f17', 'f18', 'f19', 'f20', 'f21',\n",
      "       'f22', 'f23', 'f24', 'f25', 'f26', 'f27', 'f28', 'f29', 'f31', 'f32'],\n",
      "      dtype='object')\n",
      "[4.73689685e-28 9.41213885e-28 9.41213885e-28 9.41213885e-28\n",
      " 2.07344314e+02 1.12310353e+03 1.48235614e+03 1.78823111e+03\n",
      " 1.83720659e+03 1.84092215e+03 2.17391040e+03 2.42336316e+03\n",
      " 2.89305615e+03 3.46633835e+03 3.65883050e+03 3.79672458e+03\n",
      " 4.00323526e+03 4.31052678e+03 5.04738046e+03 5.41658773e+03\n",
      " 6.85831130e+03 7.98744389e+03 9.81389266e+03 1.01448908e+04\n",
      " 1.07506392e+04 1.62243918e+04 1.71386796e+04 1.88642809e+04\n",
      " 1.97927348e+04 2.90857449e+04            nan            nan\n",
      "            nan            nan            nan            nan\n",
      "            nan            nan            nan            nan\n",
      "            nan            nan            nan            nan\n",
      "            nan            nan            nan            nan]\n"
     ]
    }
   ],
   "source": [
    "X_kbest, scores = getBest(SelectKBest, X, y, k=20)\n",
    "print(X_kbest.columns)\n",
    "print(scores)"
   ]
  },
  {
   "cell_type": "code",
   "execution_count": 8,
   "metadata": {},
   "outputs": [
    {
     "name": "stdout",
     "output_type": "stream",
     "text": [
      "Index(['f5', 'f6', 'f7', 'f8', 'f9', 'f13', 'f14', 'f15', 'f16', 'f17', 'f18',\n",
      "       'f19', 'f20', 'f21', 'f22', 'f23', 'f24', 'f25', 'f26', 'f27', 'f28',\n",
      "       'f29', 'f30', 'f31', 'f32', 'f33'],\n",
      "      dtype='object')\n",
      "[4.73689685e-28 9.41213885e-28 9.41213885e-28 9.41213885e-28\n",
      " 2.07344314e+02 1.12310353e+03 1.48235614e+03 1.78823111e+03\n",
      " 1.83720659e+03 1.84092215e+03 2.17391040e+03 2.42336316e+03\n",
      " 2.89305615e+03 3.46633835e+03 3.65883050e+03 3.79672458e+03\n",
      " 4.00323526e+03 4.31052678e+03 5.04738046e+03 5.41658773e+03\n",
      " 6.85831130e+03 7.98744389e+03 9.81389266e+03 1.01448908e+04\n",
      " 1.07506392e+04 1.62243918e+04 1.71386796e+04 1.88642809e+04\n",
      " 1.97927348e+04 2.90857449e+04            nan            nan\n",
      "            nan            nan            nan            nan\n",
      "            nan            nan            nan            nan\n",
      "            nan            nan            nan            nan\n",
      "            nan            nan            nan            nan]\n"
     ]
    },
    {
     "name": "stderr",
     "output_type": "stream",
     "text": [
      "/home/francisconeves/anaconda3/lib/python3.6/site-packages/sklearn/feature_selection/univariate_selection.py:592: RuntimeWarning: invalid value encountered in less\n",
      "  return self.pvalues_ < self.alpha\n"
     ]
    }
   ],
   "source": [
    "X_fpr, scores = getBest(SelectFpr, X, y, score_func=chi2, alpha=0.01)\n",
    "print(X_fpr.columns)\n",
    "print(scores)"
   ]
  },
  {
   "cell_type": "code",
   "execution_count": 9,
   "metadata": {},
   "outputs": [
    {
     "name": "stdout",
     "output_type": "stream",
     "text": [
      "Index(['f5', 'f6', 'f7', 'f8', 'f9', 'f13', 'f14', 'f15', 'f16', 'f17', 'f18',\n",
      "       'f19', 'f20', 'f21', 'f22', 'f23', 'f24', 'f25', 'f26', 'f27', 'f28',\n",
      "       'f29', 'f30', 'f31', 'f32', 'f33'],\n",
      "      dtype='object')\n",
      "[4.73689685e-28 9.41213885e-28 9.41213885e-28 9.41213885e-28\n",
      " 2.07344314e+02 1.12310353e+03 1.48235614e+03 1.78823111e+03\n",
      " 1.83720659e+03 1.84092215e+03 2.17391040e+03 2.42336316e+03\n",
      " 2.89305615e+03 3.46633835e+03 3.65883050e+03 3.79672458e+03\n",
      " 4.00323526e+03 4.31052678e+03 5.04738046e+03 5.41658773e+03\n",
      " 6.85831130e+03 7.98744389e+03 9.81389266e+03 1.01448908e+04\n",
      " 1.07506392e+04 1.62243918e+04 1.71386796e+04 1.88642809e+04\n",
      " 1.97927348e+04 2.90857449e+04            nan            nan\n",
      "            nan            nan            nan            nan\n",
      "            nan            nan            nan            nan\n",
      "            nan            nan            nan            nan\n",
      "            nan            nan            nan            nan]\n"
     ]
    },
    {
     "name": "stderr",
     "output_type": "stream",
     "text": [
      "/home/francisconeves/anaconda3/lib/python3.6/site-packages/sklearn/feature_selection/univariate_selection.py:661: RuntimeWarning: invalid value encountered in less_equal\n",
      "  np.arange(1, n_features + 1)]\n",
      "/home/francisconeves/anaconda3/lib/python3.6/site-packages/sklearn/feature_selection/univariate_selection.py:664: RuntimeWarning: invalid value encountered in less_equal\n",
      "  return self.pvalues_ <= selected.max()\n"
     ]
    }
   ],
   "source": [
    "X_fdr, scores = getBest(SelectFdr, X, y, score_func=chi2, alpha=0.01)\n",
    "print(X_fdr.columns)\n",
    "print(scores)"
   ]
  },
  {
   "cell_type": "code",
   "execution_count": 10,
   "metadata": {},
   "outputs": [
    {
     "name": "stdout",
     "output_type": "stream",
     "text": [
      "Index(['f5', 'f6', 'f7', 'f8', 'f9', 'f13', 'f14', 'f15', 'f16', 'f17', 'f18',\n",
      "       'f19', 'f20', 'f21', 'f22', 'f23', 'f24', 'f25', 'f26', 'f27', 'f28',\n",
      "       'f29', 'f30', 'f31', 'f32', 'f33'],\n",
      "      dtype='object')\n",
      "[4.73689685e-28 9.41213885e-28 9.41213885e-28 9.41213885e-28\n",
      " 2.07344314e+02 1.12310353e+03 1.48235614e+03 1.78823111e+03\n",
      " 1.83720659e+03 1.84092215e+03 2.17391040e+03 2.42336316e+03\n",
      " 2.89305615e+03 3.46633835e+03 3.65883050e+03 3.79672458e+03\n",
      " 4.00323526e+03 4.31052678e+03 5.04738046e+03 5.41658773e+03\n",
      " 6.85831130e+03 7.98744389e+03 9.81389266e+03 1.01448908e+04\n",
      " 1.07506392e+04 1.62243918e+04 1.71386796e+04 1.88642809e+04\n",
      " 1.97927348e+04 2.90857449e+04            nan            nan\n",
      "            nan            nan            nan            nan\n",
      "            nan            nan            nan            nan\n",
      "            nan            nan            nan            nan\n",
      "            nan            nan            nan            nan]\n"
     ]
    },
    {
     "name": "stderr",
     "output_type": "stream",
     "text": [
      "/home/francisconeves/anaconda3/lib/python3.6/site-packages/sklearn/feature_selection/univariate_selection.py:721: RuntimeWarning: invalid value encountered in less\n",
      "  return (self.pvalues_ < self.alpha / len(self.pvalues_))\n"
     ]
    }
   ],
   "source": [
    "X_fwe, scores = getBest(SelectFwe, X, y)\n",
    "print(X_fdr.columns)\n",
    "print(scores)"
   ]
  },
  {
   "cell_type": "code",
   "execution_count": 11,
   "metadata": {},
   "outputs": [
    {
     "name": "stdout",
     "output_type": "stream",
     "text": [
      "Index(['f5', 'f6', 'f7', 'f13', 'f14', 'f15', 'f16', 'f17', 'f18', 'f19',\n",
      "       'f20', 'f21', 'f22', 'f23', 'f24', 'f25', 'f26', 'f27', 'f28', 'f29',\n",
      "       'f30', 'f31', 'f32', 'f33'],\n",
      "      dtype='object')\n",
      "[4.73689685e-28 9.41213885e-28 9.41213885e-28 9.41213885e-28\n",
      " 2.07344314e+02 1.12310353e+03 1.48235614e+03 1.78823111e+03\n",
      " 1.83720659e+03 1.84092215e+03 2.17391040e+03 2.42336316e+03\n",
      " 2.89305615e+03 3.46633835e+03 3.65883050e+03 3.79672458e+03\n",
      " 4.00323526e+03 4.31052678e+03 5.04738046e+03 5.41658773e+03\n",
      " 6.85831130e+03 7.98744389e+03 9.81389266e+03 1.01448908e+04\n",
      " 1.07506392e+04 1.62243918e+04 1.71386796e+04 1.88642809e+04\n",
      " 1.97927348e+04 2.90857449e+04            nan            nan\n",
      "            nan            nan            nan            nan\n",
      "            nan            nan            nan            nan\n",
      "            nan            nan            nan            nan\n",
      "            nan            nan            nan            nan]\n"
     ]
    }
   ],
   "source": [
    "X_percentile, scores = getBest(SelectPercentile, X, y, percentile=50)\n",
    "print(X_percentile.columns)\n",
    "print(scores)"
   ]
  },
  {
   "cell_type": "code",
   "execution_count": 4,
   "metadata": {},
   "outputs": [
    {
     "ename": "NameError",
     "evalue": "name 'X' is not defined",
     "output_type": "error",
     "traceback": [
      "\u001b[0;31m---------------------------------------------------------------------------\u001b[0m",
      "\u001b[0;31mNameError\u001b[0m                                 Traceback (most recent call last)",
      "\u001b[0;32m<ipython-input-4-82a22f7e232a>\u001b[0m in \u001b[0;36m<module>\u001b[0;34m\u001b[0m\n\u001b[1;32m      1\u001b[0m \u001b[0mpca\u001b[0m \u001b[0;34m=\u001b[0m \u001b[0mPCA\u001b[0m\u001b[0;34m(\u001b[0m\u001b[0;36m0.95\u001b[0m\u001b[0;34m)\u001b[0m\u001b[0;34m\u001b[0m\u001b[0m\n\u001b[0;32m----> 2\u001b[0;31m \u001b[0mpca\u001b[0m\u001b[0;34m.\u001b[0m\u001b[0mfit\u001b[0m\u001b[0;34m(\u001b[0m\u001b[0mX\u001b[0m\u001b[0;34m)\u001b[0m\u001b[0;34m\u001b[0m\u001b[0m\n\u001b[0m\u001b[1;32m      3\u001b[0m \u001b[0mprint\u001b[0m\u001b[0;34m(\u001b[0m\u001b[0mpca\u001b[0m\u001b[0;34m.\u001b[0m\u001b[0mexplained_variance_\u001b[0m\u001b[0;34m)\u001b[0m\u001b[0;34m\u001b[0m\u001b[0m\n",
      "\u001b[0;31mNameError\u001b[0m: name 'X' is not defined"
     ]
    }
   ],
   "source": [
    "pca = PCA(0.95)\n",
    "pca.fit(X)\n",
    "print(pca.explained_variance_)"
   ]
  },
  {
   "cell_type": "code",
   "execution_count": null,
   "metadata": {},
   "outputs": [],
   "source": []
  }
 ],
 "metadata": {
  "kernelspec": {
   "display_name": "Python 3",
   "language": "python",
   "name": "python3"
  },
  "language_info": {
   "codemirror_mode": {
    "name": "ipython",
    "version": 3
   },
   "file_extension": ".py",
   "mimetype": "text/x-python",
   "name": "python",
   "nbconvert_exporter": "python",
   "pygments_lexer": "ipython3",
   "version": "3.7.0"
  }
 },
 "nbformat": 4,
 "nbformat_minor": 2
}
